{
 "cells": [
  {
   "cell_type": "markdown",
   "metadata": {},
   "source": [
    "# BBC News Article classification\n",
    "\n",
    "**Business Problem :** Create a classification model which classifiy the article into category\n",
    "\n",
    "**Dataset location :**[Kaggle](https://www.kaggle.com/c/learn-ai-bbc/data)\n",
    "\n",
    "**Description from Kaggle :**\n",
    "\n",
    "Text documents are one of the richest sources of data for businesses.\n",
    "\n",
    "We’ll use a public dataset from the BBC comprised of 2225 articles, each labeled under one of 5 categories: business, entertainment, politics, sport or tech.\n",
    "\n",
    "The dataset is broken into 1490 records for training and 735 for testing. The goal will be to build a system that can accurately classify previously unseen news articles into the right category\n",
    "\n",
    "**Dataset Description:**\n",
    "\n",
    "ArticleId - Article id unique # given to the record\n",
    "Article - text of the header and article\n",
    "Category - cateogry of the article (tech, business, sport, entertainment, politics/li>\n",
    "\n",
    "Lets get started,\n",
    "As this is the text classification NLP problem , we are going to solve this problem with Deep learning library called as Keras"
   ]
  },
  {
   "cell_type": "code",
   "execution_count": 48,
   "metadata": {},
   "outputs": [],
   "source": [
    "# Import libraries\n",
    "import pandas as pd\n",
    "import numpy as np\n",
    "import re\n",
    "import collections\n",
    "import matplotlib.pyplot as plt\n",
    "from pathlib import Path\n",
    "from sklearn.model_selection import train_test_split\n",
    "from nltk.corpus import stopwords\n",
    "from keras.preprocessing.text import Tokenizer\n",
    "from keras.preprocessing.sequence import pad_sequences\n",
    "from keras.utils.np_utils import to_categorical\n",
    "from sklearn.preprocessing import LabelEncoder\n",
    "from keras import models\n",
    "from keras import layers\n",
    "from tensorflow.python import keras\n",
    "import keras\n",
    "from keras.initializers import Constant\n",
    "from keras.layers import LSTM\n",
    "import nltk\n",
    "#nltk.download()\n",
    "from sklearn.metrics import confusion_matrix\n",
    "from sklearn.metrics import classification_report\n",
    "from sklearn.metrics import accuracy_score\n",
    "import pandas_profiling as pp"
   ]
  },
  {
   "cell_type": "markdown",
   "metadata": {},
   "source": [
    "### Load dataset"
   ]
  },
  {
   "cell_type": "code",
   "execution_count": 49,
   "metadata": {},
   "outputs": [
    {
     "data": {
      "text/html": [
       "<div>\n",
       "<style scoped>\n",
       "    .dataframe tbody tr th:only-of-type {\n",
       "        vertical-align: middle;\n",
       "    }\n",
       "\n",
       "    .dataframe tbody tr th {\n",
       "        vertical-align: top;\n",
       "    }\n",
       "\n",
       "    .dataframe thead th {\n",
       "        text-align: right;\n",
       "    }\n",
       "</style>\n",
       "<table border=\"1\" class=\"dataframe\">\n",
       "  <thead>\n",
       "    <tr style=\"text-align: right;\">\n",
       "      <th></th>\n",
       "      <th>category</th>\n",
       "      <th>text</th>\n",
       "    </tr>\n",
       "  </thead>\n",
       "  <tbody>\n",
       "    <tr>\n",
       "      <th>0</th>\n",
       "      <td>tech</td>\n",
       "      <td>tv future in the hands of viewers with home th...</td>\n",
       "    </tr>\n",
       "    <tr>\n",
       "      <th>1</th>\n",
       "      <td>business</td>\n",
       "      <td>worldcom boss  left books alone  former worldc...</td>\n",
       "    </tr>\n",
       "    <tr>\n",
       "      <th>2</th>\n",
       "      <td>sport</td>\n",
       "      <td>tigers wary of farrell  gamble  leicester say ...</td>\n",
       "    </tr>\n",
       "    <tr>\n",
       "      <th>3</th>\n",
       "      <td>sport</td>\n",
       "      <td>yeading face newcastle in fa cup premiership s...</td>\n",
       "    </tr>\n",
       "    <tr>\n",
       "      <th>4</th>\n",
       "      <td>entertainment</td>\n",
       "      <td>ocean s twelve raids box office ocean s twelve...</td>\n",
       "    </tr>\n",
       "  </tbody>\n",
       "</table>\n",
       "</div>"
      ],
      "text/plain": [
       "        category                                               text\n",
       "0           tech  tv future in the hands of viewers with home th...\n",
       "1       business  worldcom boss  left books alone  former worldc...\n",
       "2          sport  tigers wary of farrell  gamble  leicester say ...\n",
       "3          sport  yeading face newcastle in fa cup premiership s...\n",
       "4  entertainment  ocean s twelve raids box office ocean s twelve..."
      ]
     },
     "execution_count": 49,
     "metadata": {},
     "output_type": "execute_result"
    }
   ],
   "source": [
    "data = pd.read_csv('bbc-text.csv')\n",
    "data.head()"
   ]
  },
  {
   "cell_type": "markdown",
   "metadata": {},
   "source": [
    "## Exploratary Data Analysis\n",
    "\n",
    "1. Now days, we have library called pandas-profiliing which makes our life more easier for data analysis\n",
    "2. pandas profilling give all analysis which require for understanding the data.\n",
    "3. from profilling , we got information like, there is no missing data in dataset, also got target variable distributon and count\n",
    "4. its look like 99 rows are duplicate in our dataset , lets remove those rows\n",
    "5. take a copy of dataset and start working on it"
   ]
  },
  {
   "cell_type": "code",
   "execution_count": 50,
   "metadata": {},
   "outputs": [
    {
     "data": {
      "text/html": [
       "<meta charset=\"UTF-8\">\n",
       "\n",
       "<style>\n",
       "\n",
       "        .variablerow {\n",
       "            border: 1px solid #e1e1e8;\n",
       "            border-top: hidden;\n",
       "            padding-top: 2em;\n",
       "            padding-bottom: 2em;\n",
       "            padding-left: 1em;\n",
       "            padding-right: 1em;\n",
       "        }\n",
       "\n",
       "        .headerrow {\n",
       "            border: 1px solid #e1e1e8;\n",
       "            background-color: #f5f5f5;\n",
       "            padding: 2em;\n",
       "        }\n",
       "        .namecol {\n",
       "            margin-top: -1em;\n",
       "            overflow-x: auto;\n",
       "        }\n",
       "\n",
       "        .dl-horizontal dt {\n",
       "            text-align: left;\n",
       "            padding-right: 1em;\n",
       "            white-space: normal;\n",
       "        }\n",
       "\n",
       "        .dl-horizontal dd {\n",
       "            margin-left: 0;\n",
       "        }\n",
       "\n",
       "        .ignore {\n",
       "            opacity: 0.4;\n",
       "        }\n",
       "\n",
       "        .container.pandas-profiling {\n",
       "            max-width:975px;\n",
       "        }\n",
       "\n",
       "        .col-md-12 {\n",
       "            padding-left: 2em;\n",
       "        }\n",
       "\n",
       "        .indent {\n",
       "            margin-left: 1em;\n",
       "        }\n",
       "\n",
       "        .center-img {\n",
       "            margin-left: auto !important;\n",
       "            margin-right: auto !important;\n",
       "            display: block;\n",
       "        }\n",
       "\n",
       "        /* Table example_values */\n",
       "            table.example_values {\n",
       "                border: 0;\n",
       "            }\n",
       "\n",
       "            .example_values th {\n",
       "                border: 0;\n",
       "                padding: 0 ;\n",
       "                color: #555;\n",
       "                font-weight: 600;\n",
       "            }\n",
       "\n",
       "            .example_values tr, .example_values td{\n",
       "                border: 0;\n",
       "                padding: 0;\n",
       "                color: #555;\n",
       "            }\n",
       "\n",
       "        /* STATS */\n",
       "            table.stats {\n",
       "                border: 0;\n",
       "            }\n",
       "\n",
       "            .stats th {\n",
       "                border: 0;\n",
       "                padding: 0 2em 0 0;\n",
       "                color: #555;\n",
       "                font-weight: 600;\n",
       "            }\n",
       "\n",
       "            .stats tr {\n",
       "                border: 0;\n",
       "            }\n",
       "\n",
       "            .stats td{\n",
       "                color: #555;\n",
       "                padding: 1px;\n",
       "                border: 0;\n",
       "            }\n",
       "\n",
       "\n",
       "        /* Sample table */\n",
       "            table.sample {\n",
       "                border: 0;\n",
       "                margin-bottom: 2em;\n",
       "                margin-left:1em;\n",
       "            }\n",
       "            .sample tr {\n",
       "                border:0;\n",
       "            }\n",
       "            .sample td, .sample th{\n",
       "                padding: 0.5em;\n",
       "                white-space: nowrap;\n",
       "                border: none;\n",
       "\n",
       "            }\n",
       "\n",
       "            .sample thead {\n",
       "                border-top: 0;\n",
       "                border-bottom: 2px solid #ddd;\n",
       "            }\n",
       "\n",
       "            .sample td {\n",
       "                width:100%;\n",
       "            }\n",
       "\n",
       "\n",
       "        /* There is no good solution available to make the divs equal height and then center ... */\n",
       "            .histogram {\n",
       "                margin-top: 3em;\n",
       "            }\n",
       "        /* Freq table */\n",
       "\n",
       "            table.freq {\n",
       "                margin-bottom: 2em;\n",
       "                border: 0;\n",
       "            }\n",
       "            table.freq th, table.freq tr, table.freq td {\n",
       "                border: 0;\n",
       "                padding: 0;\n",
       "            }\n",
       "\n",
       "            .freq thead {\n",
       "                font-weight: 600;\n",
       "                white-space: nowrap;\n",
       "                overflow: hidden;\n",
       "                text-overflow: ellipsis;\n",
       "\n",
       "            }\n",
       "\n",
       "            td.fillremaining{\n",
       "                width:auto;\n",
       "                max-width: none;\n",
       "            }\n",
       "\n",
       "            td.number, th.number {\n",
       "                text-align:right ;\n",
       "            }\n",
       "\n",
       "        /* Freq mini */\n",
       "            .freq.mini td{\n",
       "                width: 50%;\n",
       "                padding: 1px;\n",
       "                font-size: 12px;\n",
       "\n",
       "            }\n",
       "            table.freq.mini {\n",
       "                 width:100%;\n",
       "            }\n",
       "            .freq.mini th {\n",
       "                overflow: hidden;\n",
       "                text-overflow: ellipsis;\n",
       "                white-space: nowrap;\n",
       "                max-width: 5em;\n",
       "                font-weight: 400;\n",
       "                text-align:right;\n",
       "                padding-right: 0.5em;\n",
       "            }\n",
       "\n",
       "            .missing {\n",
       "                color: #a94442;\n",
       "            }\n",
       "            .alert, .alert > th, .alert > td {\n",
       "                color: #a94442;\n",
       "            }\n",
       "\n",
       "\n",
       "        /* Bars in tables */\n",
       "            .freq .bar{\n",
       "                float: left;\n",
       "                width: 0;\n",
       "                height: 100%;\n",
       "                line-height: 20px;\n",
       "                color: #fff;\n",
       "                text-align: center;\n",
       "                background-color: #337ab7;\n",
       "                border-radius: 3px;\n",
       "                margin-right: 4px;\n",
       "            }\n",
       "            .other .bar {\n",
       "                background-color: #999;\n",
       "            }\n",
       "            .missing .bar{\n",
       "                background-color: #a94442;\n",
       "            }\n",
       "            .tooltip-inner {\n",
       "                width: 100%;\n",
       "                white-space: nowrap;\n",
       "                text-align:left;\n",
       "            }\n",
       "\n",
       "            .extrapadding{\n",
       "                padding: 2em;\n",
       "            }\n",
       "\n",
       "            .pp-anchor{\n",
       "\n",
       "            }\n",
       "\n",
       "</style>\n",
       "\n",
       "<div class=\"container pandas-profiling\">\n",
       "    <div class=\"row headerrow highlight\">\n",
       "        <h1>Overview</h1>\n",
       "    </div>\n",
       "    <div class=\"row variablerow\">\n",
       "    <div class=\"col-md-6 namecol\">\n",
       "        <p class=\"h4\">Dataset info</p>\n",
       "        <table class=\"stats\" style=\"margin-left: 1em;\">\n",
       "            <tbody>\n",
       "            <tr>\n",
       "                <th>Number of variables</th>\n",
       "                <td>2 </td>\n",
       "            </tr>\n",
       "            <tr>\n",
       "                <th>Number of observations</th>\n",
       "                <td>2225 </td>\n",
       "            </tr>\n",
       "            <tr>\n",
       "                <th>Total Missing (%)</th>\n",
       "                <td>0.0% </td>\n",
       "            </tr>\n",
       "            <tr>\n",
       "                <th>Total size in memory</th>\n",
       "                <td>34.8 KiB </td>\n",
       "            </tr>\n",
       "            <tr>\n",
       "                <th>Average record size in memory</th>\n",
       "                <td>16.0 B </td>\n",
       "            </tr>\n",
       "            </tbody>\n",
       "        </table>\n",
       "    </div>\n",
       "    <div class=\"col-md-6 namecol\">\n",
       "        <p class=\"h4\">Variables types</p>\n",
       "        <table class=\"stats\" style=\"margin-left: 1em;\">\n",
       "            <tbody>\n",
       "            <tr>\n",
       "                <th>Numeric</th>\n",
       "                <td>0 </td>\n",
       "            </tr>\n",
       "            <tr>\n",
       "                <th>Categorical</th>\n",
       "                <td>2 </td>\n",
       "            </tr>\n",
       "            <tr>\n",
       "                <th>Boolean</th>\n",
       "                <td>0 </td>\n",
       "            </tr>\n",
       "            <tr>\n",
       "                <th>Date</th>\n",
       "                <td>0 </td>\n",
       "            </tr>\n",
       "            <tr>\n",
       "                <th>Text (Unique)</th>\n",
       "                <td>0 </td>\n",
       "            </tr>\n",
       "            <tr>\n",
       "                <th>Rejected</th>\n",
       "                <td>0 </td>\n",
       "            </tr>\n",
       "            <tr>\n",
       "                <th>Unsupported</th>\n",
       "                <td>0 </td>\n",
       "            </tr>\n",
       "            </tbody>\n",
       "        </table>\n",
       "    </div>\n",
       "    <div class=\"col-md-12\" style=\"padding-left: 1em;\">\n",
       "        \n",
       "        <p class=\"h4\">Warnings</p>\n",
       "        <ul class=\"list-unstyled\"><li><a href=\"#pp_var_text\"><code>text</code></a> has a high cardinality: 2126 distinct values  <span class=\"label label-warning\">Warning</span></li><li>Dataset has 99 duplicate rows <span class=\"label label-warning\">Warning</span></li> </ul>\n",
       "    </div>\n",
       "</div>\n",
       "    <div class=\"row headerrow highlight\">\n",
       "        <h1>Variables</h1>\n",
       "    </div>\n",
       "    <div class=\"row variablerow\">\n",
       "    <div class=\"col-md-3 namecol\">\n",
       "        <p class=\"h4 pp-anchor\" id=\"pp_var_category\">category<br/>\n",
       "            <small>Categorical</small>\n",
       "        </p>\n",
       "    </div><div class=\"col-md-3\">\n",
       "    <table class=\"stats \">\n",
       "        <tr class=\"\">\n",
       "            <th>Distinct count</th>\n",
       "            <td>5</td>\n",
       "        </tr>\n",
       "        <tr>\n",
       "            <th>Unique (%)</th>\n",
       "            <td>0.2%</td>\n",
       "        </tr>\n",
       "        <tr class=\"ignore\">\n",
       "            <th>Missing (%)</th>\n",
       "            <td>0.0%</td>\n",
       "        </tr>\n",
       "        <tr class=\"ignore\">\n",
       "            <th>Missing (n)</th>\n",
       "            <td>0</td>\n",
       "        </tr>\n",
       "    </table>\n",
       "</div>\n",
       "<div class=\"col-md-6 collapse in\" id=\"minifreqtable8811844370128641627\">\n",
       "    <table class=\"mini freq\">\n",
       "        <tr class=\"\">\n",
       "    <th>sport</th>\n",
       "    <td>\n",
       "        <div class=\"bar\" style=\"width:65%\" data-toggle=\"tooltip\" data-placement=\"right\" data-html=\"true\"\n",
       "             data-delay=500 title=\"Percentage: 23.0%\">\n",
       "            511\n",
       "        </div>\n",
       "        \n",
       "    </td>\n",
       "</tr><tr class=\"\">\n",
       "    <th>business</th>\n",
       "    <td>\n",
       "        <div class=\"bar\" style=\"width:65%\" data-toggle=\"tooltip\" data-placement=\"right\" data-html=\"true\"\n",
       "             data-delay=500 title=\"Percentage: 22.9%\">\n",
       "            510\n",
       "        </div>\n",
       "        \n",
       "    </td>\n",
       "</tr><tr class=\"\">\n",
       "    <th>politics</th>\n",
       "    <td>\n",
       "        <div class=\"bar\" style=\"width:53%\" data-toggle=\"tooltip\" data-placement=\"right\" data-html=\"true\"\n",
       "             data-delay=500 title=\"Percentage: 18.7%\">\n",
       "            417\n",
       "        </div>\n",
       "        \n",
       "    </td>\n",
       "</tr><tr class=\"other\">\n",
       "    <th>Other values (2)</th>\n",
       "    <td>\n",
       "        <div class=\"bar\" style=\"width:100%\" data-toggle=\"tooltip\" data-placement=\"right\" data-html=\"true\"\n",
       "             data-delay=500 title=\"Percentage: 35.4%\">\n",
       "            787\n",
       "        </div>\n",
       "        \n",
       "    </td>\n",
       "</tr>\n",
       "    </table>\n",
       "</div>\n",
       "<div class=\"col-md-12 text-right\">\n",
       "    <a role=\"button\" data-toggle=\"collapse\" data-target=\"#freqtable8811844370128641627, #minifreqtable8811844370128641627\"\n",
       "       aria-expanded=\"true\" aria-controls=\"collapseExample\">\n",
       "        Toggle details\n",
       "    </a>\n",
       "</div>\n",
       "<div class=\"col-md-12 extrapadding collapse\" id=\"freqtable8811844370128641627\">\n",
       "    \n",
       "<table class=\"freq table table-hover\">\n",
       "    <thead>\n",
       "    <tr>\n",
       "        <td class=\"fillremaining\">Value</td>\n",
       "        <td class=\"number\">Count</td>\n",
       "        <td class=\"number\">Frequency (%)</td>\n",
       "        <td style=\"min-width:200px\">&nbsp;</td>\n",
       "    </tr>\n",
       "    </thead>\n",
       "    <tr class=\"\">\n",
       "        <td class=\"fillremaining\">sport</td>\n",
       "        <td class=\"number\">511</td>\n",
       "        <td class=\"number\">23.0%</td>\n",
       "        <td>\n",
       "            <div class=\"bar\" style=\"width:100%\">&nbsp;</div>\n",
       "        </td>\n",
       "</tr><tr class=\"\">\n",
       "        <td class=\"fillremaining\">business</td>\n",
       "        <td class=\"number\">510</td>\n",
       "        <td class=\"number\">22.9%</td>\n",
       "        <td>\n",
       "            <div class=\"bar\" style=\"width:99%\">&nbsp;</div>\n",
       "        </td>\n",
       "</tr><tr class=\"\">\n",
       "        <td class=\"fillremaining\">politics</td>\n",
       "        <td class=\"number\">417</td>\n",
       "        <td class=\"number\">18.7%</td>\n",
       "        <td>\n",
       "            <div class=\"bar\" style=\"width:81%\">&nbsp;</div>\n",
       "        </td>\n",
       "</tr><tr class=\"\">\n",
       "        <td class=\"fillremaining\">tech</td>\n",
       "        <td class=\"number\">401</td>\n",
       "        <td class=\"number\">18.0%</td>\n",
       "        <td>\n",
       "            <div class=\"bar\" style=\"width:78%\">&nbsp;</div>\n",
       "        </td>\n",
       "</tr><tr class=\"\">\n",
       "        <td class=\"fillremaining\">entertainment</td>\n",
       "        <td class=\"number\">386</td>\n",
       "        <td class=\"number\">17.3%</td>\n",
       "        <td>\n",
       "            <div class=\"bar\" style=\"width:75%\">&nbsp;</div>\n",
       "        </td>\n",
       "</tr>\n",
       "</table>\n",
       "</div>\n",
       "</div><div class=\"row variablerow\">\n",
       "    <div class=\"col-md-3 namecol\">\n",
       "        <p class=\"h4 pp-anchor\" id=\"pp_var_text\">text<br/>\n",
       "            <small>Categorical</small>\n",
       "        </p>\n",
       "    </div><div class=\"col-md-3\">\n",
       "    <table class=\"stats \">\n",
       "        <tr class=\"alert\">\n",
       "            <th>Distinct count</th>\n",
       "            <td>2126</td>\n",
       "        </tr>\n",
       "        <tr>\n",
       "            <th>Unique (%)</th>\n",
       "            <td>95.6%</td>\n",
       "        </tr>\n",
       "        <tr class=\"ignore\">\n",
       "            <th>Missing (%)</th>\n",
       "            <td>0.0%</td>\n",
       "        </tr>\n",
       "        <tr class=\"ignore\">\n",
       "            <th>Missing (n)</th>\n",
       "            <td>0</td>\n",
       "        </tr>\n",
       "    </table>\n",
       "</div>\n",
       "<div class=\"col-md-6 collapse in\" id=\"minifreqtable5846228867349774088\">\n",
       "    <table class=\"mini freq\">\n",
       "        <tr class=\"\">\n",
       "    <th>prince crowned  top music earner  prince earned more than any other pop star in 2004  beating artists such madonna and elton john in us magazine rolling stone s annual list.  the singer banked $56.5m (£30.4m) from concerts  album and publishing sales with his musicology tour and album. he kept madonna in second place  as she earned $54.9m (£29.5m) while embarking on her global re-invention tour. veterans simon and garfunkel were in 10th place  their comeback tour helping them earn $24.9m (£13.4m) last year.   prince returned to centre stage after a decade in the commercial wilderness   the magazine reported. the singer s 2004 tour took $90.3m (£48.5m) in ticket sales and he sold 1.9 million copies of his latest album musicology.  although she grossed more than prince last year  madonna remained in second place because of the  monumental  production costs of her tour. heavy metal band metallica s madly in anger with the world tour helped push their 2004 earnings up to $43.1m (£23.1m). they were ahead of sir elton john  who took fourth place and almost $42.7m (£23m) from performances including a debut on the las vegas strip. other seasoned performers in the list included rod stewart  whose sold-out shows and third volume of the great american songbook covers album helped net him £35m (£19m). the highest-ranking rap act in the list was 50 cent  who at number 19 took $24m (£13m) to the bank.</th>\n",
       "    <td>\n",
       "        <div class=\"bar\" style=\"width:1%\" data-toggle=\"tooltip\" data-placement=\"right\" data-html=\"true\"\n",
       "             data-delay=500 title=\"Percentage: 0.1%\">\n",
       "            &nbsp;\n",
       "        </div>\n",
       "        2\n",
       "    </td>\n",
       "</tr><tr class=\"\">\n",
       "    <th>sir paul rocks super bowl crowds sir paul mccartney wowed fans with a live mini-concert at american football s super bowl - and avoided any janet jackson-style controversies.  the 62-year-old sang hey jude and other beatles songs in a 12-minute set at half-time during the game in florida. last year  jackson exposed a breast during a dance routine  causing outrage among millions of tv viewers and landing the cbs tv network a fine. sir paul  however  did nothing more racy than remove his jacket as he sang. organisers were widely considered to be playing it safe this year by booking 62-year-old sir paul for his second super bowl show.  three years ago  he was invited to perform at the first super bowl after the september 11 attacks and performed his specially-written song freedom. this time  he started off the show  at the alltel stadium in jacksonville  florida  with the beatles numbers drive my car and get back. he then performed a mellow version of live and let die  the james bond theme he recorded with the band wings. finally  he closed the show with a rousing version of hey jude. the former beatle resisted any temptation to refer to janet jackson s headline-grabbing performance last year  instead keeping banter between songs to a minimum in order to squeeze as much music as he could into his slot. the singer removed his black jacket halfway through the show - but any fans hoping for a second  nipple-gate  were to be disappointed as he kept his red sweatshirt on underneath.  earlier  the black eyed peas and alicia keys had provided the night s other high-profile entertainment by performing in a pre-game show. black eyed peas singer fergie was dressed in a tight orange top and purple hotpants  but nothing in her performance was likely to upset tv watchdogs. after the controversy last year - which saw cbs fined a record $550 000 (£292 000) by federal regulators - super bowl organisers had turned to producer don mischer to oversee this year s half-time show. his previous production credits included olympic opening and closing ceremonies. the super bowl is watched by an audience of 144.4 million in the us  with many of the people watching are said to tune in specifically to see the entertainment put on around the event. michael jackson  aerosmith  diana ross  gloria estefan and phil collins are among the stars who have previously graced the super bowl stage.</th>\n",
       "    <td>\n",
       "        <div class=\"bar\" style=\"width:1%\" data-toggle=\"tooltip\" data-placement=\"right\" data-html=\"true\"\n",
       "             data-delay=500 title=\"Percentage: 0.1%\">\n",
       "            &nbsp;\n",
       "        </div>\n",
       "        2\n",
       "    </td>\n",
       "</tr><tr class=\"\">\n",
       "    <th>stars pay tribute to actor davis hollywood stars including spike lee  burt reynolds and oscar nominee alan alda have paid tribute to actor ossie davis at a funeral in new york.  veteran star ossie davis  a well-known civil rights activist  died in miami at the age of 87 on 4 february 2005. friends and family  including actress ruby dee his wife of 56 years  gathered at the riverside church on saturday. also present at the service was former us president bill clinton and singer harry belafonte  who gave the eulogy.  he would have been a very good president of the united states   said mr clinton.  like most of you here  he gave more to me than i gave to him.   the 87-year-old was found dead last weekend in his hotel room in florida  where he was making a film. police said that he appeared to have died of natural causes. davis made his acting debut in 1950 in no way out starring sidney poiter. he frequently collaborated with director spike lee  starring in seven lee films including jungle fever  do the right thing and malcolm x. attallah shabazz  the daughter of activist malcolm x  recalled the famous eulogy delivered by davis at her father s funeral.  harlem has come to bid farewell to one of its finest hopes   she said  quoting the man she knew as uncle ossie.  ditto.   ossie was my hero  and he still is   said aviator star alan alda  a family friend for over forty years.  ossie was a thing of beauty.    i want so badly someday to have his dignity - a little of it anyway   added burt reynolds  davis s co-star in the 90s tv comedy evening shade. before the midday funeral  scores of harlem residents formed a queue outside the church to pay their respects to davis.  it is hard to fathom that we will no longer be able to call on his wisdom  his humour  his loyalty and his moral strength to guide us in the choices that are yet to be made and the battles that are yet to be fought   said belafonte  himself an ardent civil rights activist who had been friends with davis for over 60 years.  but how fortunate we were to have him as long as we did.</th>\n",
       "    <td>\n",
       "        <div class=\"bar\" style=\"width:1%\" data-toggle=\"tooltip\" data-placement=\"right\" data-html=\"true\"\n",
       "             data-delay=500 title=\"Percentage: 0.1%\">\n",
       "            &nbsp;\n",
       "        </div>\n",
       "        2\n",
       "    </td>\n",
       "</tr><tr class=\"other\">\n",
       "    <th>Other values (2123)</th>\n",
       "    <td>\n",
       "        <div class=\"bar\" style=\"width:100%\" data-toggle=\"tooltip\" data-placement=\"right\" data-html=\"true\"\n",
       "             data-delay=500 title=\"Percentage: 99.7%\">\n",
       "            2219\n",
       "        </div>\n",
       "        \n",
       "    </td>\n",
       "</tr>\n",
       "    </table>\n",
       "</div>\n",
       "<div class=\"col-md-12 text-right\">\n",
       "    <a role=\"button\" data-toggle=\"collapse\" data-target=\"#freqtable5846228867349774088, #minifreqtable5846228867349774088\"\n",
       "       aria-expanded=\"true\" aria-controls=\"collapseExample\">\n",
       "        Toggle details\n",
       "    </a>\n",
       "</div>\n",
       "<div class=\"col-md-12 extrapadding collapse\" id=\"freqtable5846228867349774088\">\n",
       "    \n",
       "<table class=\"freq table table-hover\">\n",
       "    <thead>\n",
       "    <tr>\n",
       "        <td class=\"fillremaining\">Value</td>\n",
       "        <td class=\"number\">Count</td>\n",
       "        <td class=\"number\">Frequency (%)</td>\n",
       "        <td style=\"min-width:200px\">&nbsp;</td>\n",
       "    </tr>\n",
       "    </thead>\n",
       "    <tr class=\"\">\n",
       "        <td class=\"fillremaining\">prince crowned  top music earner  prince earned more than any other pop star in 2004  beating artists such madonna and elton john in us magazine rolling stone s annual list.  the singer banked $56.5m (£30.4m) from concerts  album and publishing sales with his musicology tour and album. he kept madonna in second place  as she earned $54.9m (£29.5m) while embarking on her global re-invention tour. veterans simon and garfunkel were in 10th place  their comeback tour helping them earn $24.9m (£13.4m) last year.   prince returned to centre stage after a decade in the commercial wilderness   the magazine reported. the singer s 2004 tour took $90.3m (£48.5m) in ticket sales and he sold 1.9 million copies of his latest album musicology.  although she grossed more than prince last year  madonna remained in second place because of the  monumental  production costs of her tour. heavy metal band metallica s madly in anger with the world tour helped push their 2004 earnings up to $43.1m (£23.1m). they were ahead of sir elton john  who took fourth place and almost $42.7m (£23m) from performances including a debut on the las vegas strip. other seasoned performers in the list included rod stewart  whose sold-out shows and third volume of the great american songbook covers album helped net him £35m (£19m). the highest-ranking rap act in the list was 50 cent  who at number 19 took $24m (£13m) to the bank.</td>\n",
       "        <td class=\"number\">2</td>\n",
       "        <td class=\"number\">0.1%</td>\n",
       "        <td>\n",
       "            <div class=\"bar\" style=\"width:1%\">&nbsp;</div>\n",
       "        </td>\n",
       "</tr><tr class=\"\">\n",
       "        <td class=\"fillremaining\">sir paul rocks super bowl crowds sir paul mccartney wowed fans with a live mini-concert at american football s super bowl - and avoided any janet jackson-style controversies.  the 62-year-old sang hey jude and other beatles songs in a 12-minute set at half-time during the game in florida. last year  jackson exposed a breast during a dance routine  causing outrage among millions of tv viewers and landing the cbs tv network a fine. sir paul  however  did nothing more racy than remove his jacket as he sang. organisers were widely considered to be playing it safe this year by booking 62-year-old sir paul for his second super bowl show.  three years ago  he was invited to perform at the first super bowl after the september 11 attacks and performed his specially-written song freedom. this time  he started off the show  at the alltel stadium in jacksonville  florida  with the beatles numbers drive my car and get back. he then performed a mellow version of live and let die  the james bond theme he recorded with the band wings. finally  he closed the show with a rousing version of hey jude. the former beatle resisted any temptation to refer to janet jackson s headline-grabbing performance last year  instead keeping banter between songs to a minimum in order to squeeze as much music as he could into his slot. the singer removed his black jacket halfway through the show - but any fans hoping for a second  nipple-gate  were to be disappointed as he kept his red sweatshirt on underneath.  earlier  the black eyed peas and alicia keys had provided the night s other high-profile entertainment by performing in a pre-game show. black eyed peas singer fergie was dressed in a tight orange top and purple hotpants  but nothing in her performance was likely to upset tv watchdogs. after the controversy last year - which saw cbs fined a record $550 000 (£292 000) by federal regulators - super bowl organisers had turned to producer don mischer to oversee this year s half-time show. his previous production credits included olympic opening and closing ceremonies. the super bowl is watched by an audience of 144.4 million in the us  with many of the people watching are said to tune in specifically to see the entertainment put on around the event. michael jackson  aerosmith  diana ross  gloria estefan and phil collins are among the stars who have previously graced the super bowl stage.</td>\n",
       "        <td class=\"number\">2</td>\n",
       "        <td class=\"number\">0.1%</td>\n",
       "        <td>\n",
       "            <div class=\"bar\" style=\"width:1%\">&nbsp;</div>\n",
       "        </td>\n",
       "</tr><tr class=\"\">\n",
       "        <td class=\"fillremaining\">stars pay tribute to actor davis hollywood stars including spike lee  burt reynolds and oscar nominee alan alda have paid tribute to actor ossie davis at a funeral in new york.  veteran star ossie davis  a well-known civil rights activist  died in miami at the age of 87 on 4 february 2005. friends and family  including actress ruby dee his wife of 56 years  gathered at the riverside church on saturday. also present at the service was former us president bill clinton and singer harry belafonte  who gave the eulogy.  he would have been a very good president of the united states   said mr clinton.  like most of you here  he gave more to me than i gave to him.   the 87-year-old was found dead last weekend in his hotel room in florida  where he was making a film. police said that he appeared to have died of natural causes. davis made his acting debut in 1950 in no way out starring sidney poiter. he frequently collaborated with director spike lee  starring in seven lee films including jungle fever  do the right thing and malcolm x. attallah shabazz  the daughter of activist malcolm x  recalled the famous eulogy delivered by davis at her father s funeral.  harlem has come to bid farewell to one of its finest hopes   she said  quoting the man she knew as uncle ossie.  ditto.   ossie was my hero  and he still is   said aviator star alan alda  a family friend for over forty years.  ossie was a thing of beauty.    i want so badly someday to have his dignity - a little of it anyway   added burt reynolds  davis s co-star in the 90s tv comedy evening shade. before the midday funeral  scores of harlem residents formed a queue outside the church to pay their respects to davis.  it is hard to fathom that we will no longer be able to call on his wisdom  his humour  his loyalty and his moral strength to guide us in the choices that are yet to be made and the battles that are yet to be fought   said belafonte  himself an ardent civil rights activist who had been friends with davis for over 60 years.  but how fortunate we were to have him as long as we did.</td>\n",
       "        <td class=\"number\">2</td>\n",
       "        <td class=\"number\">0.1%</td>\n",
       "        <td>\n",
       "            <div class=\"bar\" style=\"width:1%\">&nbsp;</div>\n",
       "        </td>\n",
       "</tr><tr class=\"\">\n",
       "        <td class=\"fillremaining\">commodore finds new lease of life the once-famous commodore computer brand could be resurrected after being bought by a us-based digital music distributor.  new owner yeahronimo media ventures has not ruled out the possibility of a new breed of commodore computers. it also plans to develop a  worldwide entertainment concept  with the brand  although details are not yet known. the groundbreaking commodore 64 computer elicits fond memories for those who owned one back in the 1980s.  in the chronology of home computing  commodore was one of the pioneers.  the commodore 64  launched in 1982  was one of the first affordable home pcs. it was followed a few years later by the amiga. the commodore 64 sold more than any other single computer system  even to this day. the brand languished somewhat in the 1990s. commodore international filed for bankruptcy in 1994 and was sold to dutch firm tulip computers. in the late 1980s the firm was a great rival to atari  which produced its own range of home computers and is now a brand of video games  formerly known as infogrames.  tulip computers sold several products under the commodore name  including portable usb storage devices and digital music players. it had planned to relaunch the brand  following an upsurge of nostalgia for 1980s-era games. commodore 64 enthusiasts have written emulators for windows pc  apple mac and even pdas so that the original commodore games can be still run. the sale of commodore is expected to be complete in three weeks in a deal worth over £17m.</td>\n",
       "        <td class=\"number\">2</td>\n",
       "        <td class=\"number\">0.1%</td>\n",
       "        <td>\n",
       "            <div class=\"bar\" style=\"width:1%\">&nbsp;</div>\n",
       "        </td>\n",
       "</tr><tr class=\"\">\n",
       "        <td class=\"fillremaining\">ocean s twelve raids box office ocean s twelve  the crime caper sequel starring george clooney  brad pitt and julia roberts  has gone straight to number one in the us box office chart.  it took $40.8m (£21m) in weekend ticket sales  according to studio estimates. the sequel follows the master criminals as they try to pull off three major heists across europe. it knocked last week s number one  national treasure  into third place. wesley snipes  blade: trinity was in second  taking $16.1m (£8.4m). rounding out the top five was animated fable the polar express  starring tom hanks  and festive comedy christmas with the kranks.  ocean s twelve box office triumph marks the fourth-biggest opening for a december release in the us  after the three films in the lord of the rings trilogy. the sequel narrowly beat its 2001 predecessor  ocean s eleven which took $38.1m (£19.8m) on its opening weekend and $184m (£95.8m) in total. a remake of the 1960s film  starring frank sinatra and the rat pack  ocean s eleven was directed by oscar-winning director steven soderbergh. soderbergh returns to direct the hit sequel which reunites clooney  pitt and roberts with matt damon  andy garcia and elliott gould. catherine zeta-jones joins the all-star cast.  it s just a fun  good holiday movie   said dan fellman  president of distribution at warner bros. however  us critics were less complimentary about the $110m (£57.2m) project  with the los angeles times labelling it a  dispiriting vanity project . a milder review in the new york times dubbed the sequel  unabashedly trivial .</td>\n",
       "        <td class=\"number\">2</td>\n",
       "        <td class=\"number\">0.1%</td>\n",
       "        <td>\n",
       "            <div class=\"bar\" style=\"width:1%\">&nbsp;</div>\n",
       "        </td>\n",
       "</tr><tr class=\"\">\n",
       "        <td class=\"fillremaining\">musical treatment for capra film the classic film it s a wonderful life is to be turned into a musical by the producer of the controversial hit show jerry springer - the opera.  frank capra s 1946 movie starring james stewart  is being turned into a £7m musical by producer jon thoday. he is working with steve brown  who wrote the award-winning musical spend spend spend. a spokeswoman said the plans were in the  very early stages   with no cast  opening date or theatre announced.  a series of workshops have been held in london  and on wednesday a cast of singers unveiled the musical to a select group of potential investors. mr thoday said the idea of turning the film into a musical had been an ambition of his for almost 20 years. it s a wonderful life was based on a short story  the greatest gift  by philip van doren stern. mr thoday managed to buy the rights to the story from van doren stern s family in 1999  following mr brown s success with spend spend spend. he later secured the film rights from paramount  enabling them to use the title it s a wonderful life.</td>\n",
       "        <td class=\"number\">2</td>\n",
       "        <td class=\"number\">0.1%</td>\n",
       "        <td>\n",
       "            <div class=\"bar\" style=\"width:1%\">&nbsp;</div>\n",
       "        </td>\n",
       "</tr><tr class=\"\">\n",
       "        <td class=\"fillremaining\">kennedy questions trust of blair lib dem leader charles kennedy has said voters now have a  fundamental lack of trust  of tony blair as prime minister.  he said backing his party was not a wasted vote  adding that with the lib dems  what you see is what you get . he made his comments at the start of a day of appearances on channel five in a session on the wright stuff programme. questions from callers  a studio audience and the show s presenter covered lib dem tax plans  anti-terror laws and immigration.  mr kennedy said during his nearly 22 years in parliament he had seen prime ministers and party leaders come and go and knew the pitfalls of british politics.  1983 was when i was first elected as an mp - so tony blair  michael howard and myself were all class of  83 - and over that nearly quarter of a century the world has changed out of recognition   he said.  we don t actually hear the argument any longer:  lib dems  good people  reasonable ideas but only if we thought they could win around here - it s a wasted vote .  you don t hear that because the evidence of people s senses demonstrates that it isn t a wasted vote.  but he said mr blair had lost the trust of the british people.  there is a fundamental lack of trust in tony blair as prime minister and in his government   he said.   what we ve got to do as a party - what i ve got to do as a leader of this party - is to convey to people that what you see is what you get.  mr kennedy also used his tv appearance to defend his party s plans to increase income tax to 50% for those earning more than £100 000  saying it would apply to just 1% of the population. he said the extra revenue would allow his party to get rid of tuition and top-up fees  introduce free personal care for the elderly and replace the council tax with a local income tax. mr blair has already spent a day with five and michael howard is booked for a similar session.</td>\n",
       "        <td class=\"number\">2</td>\n",
       "        <td class=\"number\">0.1%</td>\n",
       "        <td>\n",
       "            <div class=\"bar\" style=\"width:1%\">&nbsp;</div>\n",
       "        </td>\n",
       "</tr><tr class=\"\">\n",
       "        <td class=\"fillremaining\">talks aim to avert pension strike talks aimed at averting a series of national strikes over pensions reforms will take place this weekend.  five public sector unions will hold private talks with deputy prime minister john prescott at labour s spring conference in gateshead. they want the government to withdraw regulations - due to be introduced in weeks - which would raise the pension age for council workers from 60 to 65. up to 1.4m workers could take part in a strike already earmarked for 23 march. however  all sides are anxious to avoid a major confrontation in the run up to the general election  said bbc labour affairs correspondent stephen cape. in four days  britain s biggest union unison will start balloting 800 000 local government workers on strikes. other public sector unions have pledged to follow. it is just weeks before new regulations are introduced to raise the pension age of local government workers.  the five unions meeting mr prescott want the government to withdraw these regulations. this would allow months of tough negotiations to follow  said our correspondent. but a spokesman for mr prescott warned that the changes to the local government pension scheme would have to go ahead in april. privately ministers believe this will be the  less painful  option  our correspondent added. the public and commercial services union (pcs) will co-ordinate any industrial action with up to six other public sector unions. pcs leader mark serwotka warned last week that there could be further walkouts unless there was a government rethink.  for a government that lectures everyone on choice - choice on public service  choice on this and choice on that - isn t it ironic that they re saying to public sector workers there is no choice   he said.  if you want the pension you were promised when you started you must work for an extra five years - that is working until people drop.  in the 20th century  it s completely unacceptable.   unison s 800 000 workers  the transport and general workers  union s 70 000 and amicus  20 000 are among those being balloted about a 23 march walkout. mr prescott held a private meeting with senior union figures last week. it is understood no deal was offered in that meeting but there was room for further negotiations.</td>\n",
       "        <td class=\"number\">2</td>\n",
       "        <td class=\"number\">0.1%</td>\n",
       "        <td>\n",
       "            <div class=\"bar\" style=\"width:1%\">&nbsp;</div>\n",
       "        </td>\n",
       "</tr><tr class=\"\">\n",
       "        <td class=\"fillremaining\">s korea spending boost to economy south korea will boost state spending next year in an effort to create jobs and kick start its sputtering economy.  it has earmarked 100 trillion won ($96bn) for the first six months of 2005  60% of its total annual budget. the government s main problems are  slumping consumption and a contraction in the construction industry . it aims to create 400 000 jobs and will focus on infrastructure and home building  as well as providing public firms with money to hire new workers.  the government has set an economic growth rate target of 5% for next year and hinted that would be in danger unless it took action.  internal and external economic conditions are likely to remain unfavourable in 2005   the finance and economy ministry said in a statement.  it blamed  continuing uncertainties such as fluctuating oil prices and foreign exchange rates and stagnant domestic demand that has shown few signs of a quick rebound . in 2004  growth will be between 4.7% and 4.8%  the ministry said. not everyone is convinced the plan will work.  our primary worry centres on the what we believe is the government s overly optimistic view that its front loading of the budget will be enough to turn the economy around   consultancy 4cast said in a report.  the problem facing south korea is that many consumers are reeling from the effects of a credit bubble that only recently burst. millions of south koreans are defaulting on their credit card bills  and the country s biggest card lender has been hovering on the verge of bankruptcy for months. as part of its spending plans  the government said it will ask firms to  roll over mortgage loans that come due in the first half of 2005  . it also pledged to look at ways of helping families on low incomes.  the government voiced concern about the effect of redundancies in the building trade.  given the economic spill over and employment effect in the construction sector  a sharp downturn in the construction industry could have other adverse effects   the ministry said.  as a result  south korea will give private companies also will be given the chance to build schools  hospitals  houses and other public buildings. it also will look at real estate tax system. other plans on the table include promoting new industries such as bio-technology and nano-technology  as well as offering increased support to small and medium sized businesses.  the focus will be on job creation and economic recovery  given that unfavourable domestic and global conditions are likely to dog the korean economy in 2005   the ministry said.</td>\n",
       "        <td class=\"number\">2</td>\n",
       "        <td class=\"number\">0.1%</td>\n",
       "        <td>\n",
       "            <div class=\"bar\" style=\"width:1%\">&nbsp;</div>\n",
       "        </td>\n",
       "</tr><tr class=\"\">\n",
       "        <td class=\"fillremaining\">pop band busted to  take a break  chart-topping pop band busted have confirmed that they plan to  take a break   following rumours that they were on the verge of splitting.  a statement from the band s record company universal said frontman charlie simpson planned to spend some time working with his other band  fightstar. however they said that busted would  reconvene in due course . the band have had eight top three hits  including four number ones  since they first hit the charts in 2002. their singles include what i go to school for  year 3000  crashed the wedding  you said no  and who s david   the band  which also includes members matt jay and james bourne  made the top ten with their self-titled debut album  as well as the follow-up  a present for everyone  in 2003. they won best pop act and best breakthrough act at the 2004 brit awards and were nominated for best british group. most recently they topped the charts with the theme from the live-action film version of thunderbirds  which was voted record of the year on the itv1 show. the band have capitalised on a craze for artists playing catchy pop music with rock overtones. the trio are seen as an alternative to more manufactured artists who are not considered credible musicians because they do not write their own songs or play their own instruments. however  recent rumours have suggested that simpson has been wanting to quit the band to focus on fightstar. he now plans to take fightstar on tour.</td>\n",
       "        <td class=\"number\">2</td>\n",
       "        <td class=\"number\">0.1%</td>\n",
       "        <td>\n",
       "            <div class=\"bar\" style=\"width:1%\">&nbsp;</div>\n",
       "        </td>\n",
       "</tr><tr class=\"other\">\n",
       "        <td class=\"fillremaining\">Other values (2116)</td>\n",
       "        <td class=\"number\">2205</td>\n",
       "        <td class=\"number\">99.1%</td>\n",
       "        <td>\n",
       "            <div class=\"bar\" style=\"width:100%\">&nbsp;</div>\n",
       "        </td>\n",
       "</tr>\n",
       "</table>\n",
       "</div>\n",
       "</div>\n",
       "    <div class=\"row headerrow highlight\">\n",
       "        <h1>Correlations</h1>\n",
       "    </div>\n",
       "    \n",
       "    <div class=\"row headerrow highlight\">\n",
       "        <h1>Sample</h1>\n",
       "    </div>\n",
       "    <div class=\"row variablerow\">\n",
       "    <div class=\"col-md-12\" style=\"overflow:scroll; width: 100%%; overflow-y: hidden;\">\n",
       "        <table border=\"1\" class=\"dataframe sample\">\n",
       "  <thead>\n",
       "    <tr style=\"text-align: right;\">\n",
       "      <th></th>\n",
       "      <th>category</th>\n",
       "      <th>text</th>\n",
       "    </tr>\n",
       "  </thead>\n",
       "  <tbody>\n",
       "    <tr>\n",
       "      <th>0</th>\n",
       "      <td>tech</td>\n",
       "      <td>tv future in the hands of viewers with home th...</td>\n",
       "    </tr>\n",
       "    <tr>\n",
       "      <th>1</th>\n",
       "      <td>business</td>\n",
       "      <td>worldcom boss  left books alone  former worldc...</td>\n",
       "    </tr>\n",
       "    <tr>\n",
       "      <th>2</th>\n",
       "      <td>sport</td>\n",
       "      <td>tigers wary of farrell  gamble  leicester say ...</td>\n",
       "    </tr>\n",
       "    <tr>\n",
       "      <th>3</th>\n",
       "      <td>sport</td>\n",
       "      <td>yeading face newcastle in fa cup premiership s...</td>\n",
       "    </tr>\n",
       "    <tr>\n",
       "      <th>4</th>\n",
       "      <td>entertainment</td>\n",
       "      <td>ocean s twelve raids box office ocean s twelve...</td>\n",
       "    </tr>\n",
       "  </tbody>\n",
       "</table>\n",
       "    </div>\n",
       "</div>\n",
       "</div>"
      ],
      "text/plain": [
       "<pandas_profiling.ProfileReport at 0x25906525be0>"
      ]
     },
     "execution_count": 50,
     "metadata": {},
     "output_type": "execute_result"
    }
   ],
   "source": [
    "pp.ProfileReport(data)"
   ]
  },
  {
   "cell_type": "code",
   "execution_count": 51,
   "metadata": {},
   "outputs": [],
   "source": [
    "df = data.copy()"
   ]
  },
  {
   "cell_type": "code",
   "execution_count": 52,
   "metadata": {},
   "outputs": [
    {
     "name": "stdout",
     "output_type": "stream",
     "text": [
      "Wall time: 15 ms\n"
     ]
    },
    {
     "data": {
      "text/plain": [
       "(2027, 2)"
      ]
     },
     "execution_count": 52,
     "metadata": {},
     "output_type": "execute_result"
    }
   ],
   "source": [
    "%time df.drop_duplicates(subset =\"text\",keep=False,inplace=True)\n",
    "df.shape"
   ]
  },
  {
   "cell_type": "code",
   "execution_count": 53,
   "metadata": {},
   "outputs": [],
   "source": [
    "df = df.reset_index(drop=True)"
   ]
  },
  {
   "cell_type": "code",
   "execution_count": 54,
   "metadata": {},
   "outputs": [
    {
     "data": {
      "text/plain": [
       "sport            497\n",
       "business         496\n",
       "politics         389\n",
       "entertainment    352\n",
       "tech             293\n",
       "Name: category, dtype: int64"
      ]
     },
     "execution_count": 54,
     "metadata": {},
     "output_type": "execute_result"
    }
   ],
   "source": [
    "df['category'].value_counts()"
   ]
  },
  {
   "cell_type": "markdown",
   "metadata": {},
   "source": [
    "lets look at first article of news and understand to make it clean for next procedure what we need to do."
   ]
  },
  {
   "cell_type": "code",
   "execution_count": 55,
   "metadata": {},
   "outputs": [
    {
     "data": {
      "text/plain": [
       "'tv future in the hands of viewers with home theatre systems  plasma high-definition tvs  and digital video recorders moving into the living room  the way people watch tv will be radically different in five years  time.  that is according to an expert panel which gathered at the annual consumer electronics show in las vegas to discuss how these new technologies will impact one of our favourite pastimes. with the us leading the trend  programmes and other content will be delivered to viewers via home networks  through cable  satellite  telecoms companies  and broadband service providers to front rooms and portable devices.  one of the most talked-about technologies of ces has been digital and personal video recorders (dvr and pvr). these set-top boxes  like the us s tivo and the uk s sky+ system  allow people to record  store  play  pause and forward wind tv programmes when they want.  essentially  the technology allows for much more personalised tv. they are also being built-in to high-definition tv sets  which are big business in japan and the us  but slower to take off in europe because of the lack of high-definition programming. not only can people forward wind through adverts  they can also forget about abiding by network and channel schedules  putting together their own a-la-carte entertainment. but some us networks and cable and satellite companies are worried about what it means for them in terms of advertising revenues as well as  brand identity  and viewer loyalty to channels. although the us leads in this technology at the moment  it is also a concern that is being raised in europe  particularly with the growing uptake of services like sky+.  what happens here today  we will see in nine months to a years  time in the uk   adam hume  the bbc broadcast s futurologist told the bbc news website. for the likes of the bbc  there are no issues of lost advertising revenue yet. it is a more pressing issue at the moment for commercial uk broadcasters  but brand loyalty is important for everyone.  we will be talking more about content brands rather than network brands   said tim hanlon  from brand communications firm starcom mediavest.  the reality is that with broadband connections  anybody can be the producer of content.  he added:  the challenge now is that it is hard to promote a programme with so much choice.   what this means  said stacey jolna  senior vice president of tv guide tv group  is that the way people find the content they want to watch has to be simplified for tv viewers. it means that networks  in us terms  or channels could take a leaf out of google s book and be the search engine of the future  instead of the scheduler to help people find what they want to watch. this kind of channel model might work for the younger ipod generation which is used to taking control of their gadgets and what they play on them. but it might not suit everyone  the panel recognised. older generations are more comfortable with familiar schedules and channel brands because they know what they are getting. they perhaps do not want so much of the choice put into their hands  mr hanlon suggested.  on the other end  you have the kids just out of diapers who are pushing buttons already - everything is possible and available to them   said mr hanlon.  ultimately  the consumer will tell the market they want.   of the 50 000 new gadgets and technologies being showcased at ces  many of them are about enhancing the tv-watching experience. high-definition tv sets are everywhere and many new models of lcd (liquid crystal display) tvs have been launched with dvr capability built into them  instead of being external boxes. one such example launched at the show is humax s 26-inch lcd tv with an 80-hour tivo dvr and dvd recorder. one of the us s biggest satellite tv companies  directtv  has even launched its own branded dvr at the show with 100-hours of recording capability  instant replay  and a search function. the set can pause and rewind tv for up to 90 hours. and microsoft chief bill gates announced in his pre-show keynote speech a partnership with tivo  called tivotogo  which means people can play recorded programmes on windows pcs and mobile devices. all these reflect the increasing trend of freeing up multimedia so that people can watch what they want  when they want.'"
      ]
     },
     "execution_count": 55,
     "metadata": {},
     "output_type": "execute_result"
    }
   ],
   "source": [
    "df['text'][0]"
   ]
  },
  {
   "cell_type": "markdown",
   "metadata": {},
   "source": [
    "## Removing stopwords"
   ]
  },
  {
   "cell_type": "code",
   "execution_count": 56,
   "metadata": {},
   "outputs": [],
   "source": [
    "## Text cleaning\n",
    "## Remove stopwords\n",
    "def stopword(data):\n",
    "    \n",
    "    stopwordlist= stopwords.words('english')\n",
    "    \n",
    "    data = data.split()\n",
    "    clean_data = [word for word in data if (word not in stopwordlist)]\n",
    "    return \" \".join(clean_data)    "
   ]
  },
  {
   "cell_type": "code",
   "execution_count": 57,
   "metadata": {},
   "outputs": [],
   "source": [
    "df.text = df.text.apply(stopword)"
   ]
  },
  {
   "cell_type": "code",
   "execution_count": 58,
   "metadata": {},
   "outputs": [
    {
     "data": {
      "text/plain": [
       "'tv future hands viewers home theatre systems plasma high-definition tvs digital video recorders moving living room way people watch tv radically different five years time. according expert panel gathered annual consumer electronics show las vegas discuss new technologies impact one favourite pastimes. us leading trend programmes content delivered viewers via home networks cable satellite telecoms companies broadband service providers front rooms portable devices. one talked-about technologies ces digital personal video recorders (dvr pvr). set-top boxes like us tivo uk sky+ system allow people record store play pause forward wind tv programmes want. essentially technology allows much personalised tv. also built-in high-definition tv sets big business japan us slower take europe lack high-definition programming. people forward wind adverts also forget abiding network channel schedules putting together a-la-carte entertainment. us networks cable satellite companies worried means terms advertising revenues well brand identity viewer loyalty channels. although us leads technology moment also concern raised europe particularly growing uptake services like sky+. happens today see nine months years time uk adam hume bbc broadcast futurologist told bbc news website. likes bbc issues lost advertising revenue yet. pressing issue moment commercial uk broadcasters brand loyalty important everyone. talking content brands rather network brands said tim hanlon brand communications firm starcom mediavest. reality broadband connections anybody producer content. added: challenge hard promote programme much choice. means said stacey jolna senior vice president tv guide tv group way people find content want watch simplified tv viewers. means networks us terms channels could take leaf google book search engine future instead scheduler help people find want watch. kind channel model might work younger ipod generation used taking control gadgets play them. might suit everyone panel recognised. older generations comfortable familiar schedules channel brands know getting. perhaps want much choice put hands mr hanlon suggested. end kids diapers pushing buttons already - everything possible available said mr hanlon. ultimately consumer tell market want. 50 000 new gadgets technologies showcased ces many enhancing tv-watching experience. high-definition tv sets everywhere many new models lcd (liquid crystal display) tvs launched dvr capability built instead external boxes. one example launched show humax 26-inch lcd tv 80-hour tivo dvr dvd recorder. one us biggest satellite tv companies directtv even launched branded dvr show 100-hours recording capability instant replay search function. set pause rewind tv 90 hours. microsoft chief bill gates announced pre-show keynote speech partnership tivo called tivotogo means people play recorded programmes windows pcs mobile devices. reflect increasing trend freeing multimedia people watch want want.'"
      ]
     },
     "execution_count": 58,
     "metadata": {},
     "output_type": "execute_result"
    }
   ],
   "source": [
    "df.text[0]"
   ]
  },
  {
   "cell_type": "markdown",
   "metadata": {},
   "source": [
    "## Using textblob work on root of the word with help of lemmatization"
   ]
  },
  {
   "cell_type": "code",
   "execution_count": 59,
   "metadata": {},
   "outputs": [],
   "source": [
    "### lemmitization\n",
    "from textblob import Word\n",
    "def lem_apply(data):\n",
    "    \n",
    "    data=data.split()\n",
    "    new_data = [Word(word).lemmatize()  for word in data]\n",
    "    return \" \".join(new_data)"
   ]
  },
  {
   "cell_type": "code",
   "execution_count": 60,
   "metadata": {},
   "outputs": [],
   "source": [
    "df.text = df.text.apply(lem_apply)"
   ]
  },
  {
   "cell_type": "code",
   "execution_count": 61,
   "metadata": {},
   "outputs": [
    {
     "data": {
      "text/plain": [
       "'tv future hand viewer home theatre system plasma high-definition tv digital video recorder moving living room way people watch tv radically different five year time. according expert panel gathered annual consumer electronics show la vega discus new technology impact one favourite pastimes. u leading trend programme content delivered viewer via home network cable satellite telecom company broadband service provider front room portable devices. one talked-about technology ce digital personal video recorder (dvr pvr). set-top box like u tivo uk sky+ system allow people record store play pause forward wind tv programme want. essentially technology allows much personalised tv. also built-in high-definition tv set big business japan u slower take europe lack high-definition programming. people forward wind advert also forget abiding network channel schedule putting together a-la-carte entertainment. u network cable satellite company worried mean term advertising revenue well brand identity viewer loyalty channels. although u lead technology moment also concern raised europe particularly growing uptake service like sky+. happens today see nine month year time uk adam hume bbc broadcast futurologist told bbc news website. like bbc issue lost advertising revenue yet. pressing issue moment commercial uk broadcaster brand loyalty important everyone. talking content brand rather network brand said tim hanlon brand communication firm starcom mediavest. reality broadband connection anybody producer content. added: challenge hard promote programme much choice. mean said stacey jolna senior vice president tv guide tv group way people find content want watch simplified tv viewers. mean network u term channel could take leaf google book search engine future instead scheduler help people find want watch. kind channel model might work younger ipod generation used taking control gadget play them. might suit everyone panel recognised. older generation comfortable familiar schedule channel brand know getting. perhaps want much choice put hand mr hanlon suggested. end kid diaper pushing button already - everything possible available said mr hanlon. ultimately consumer tell market want. 50 000 new gadget technology showcased ce many enhancing tv-watching experience. high-definition tv set everywhere many new model lcd (liquid crystal display) tv launched dvr capability built instead external boxes. one example launched show humax 26-inch lcd tv 80-hour tivo dvr dvd recorder. one u biggest satellite tv company directtv even launched branded dvr show 100-hours recording capability instant replay search function. set pause rewind tv 90 hours. microsoft chief bill gate announced pre-show keynote speech partnership tivo called tivotogo mean people play recorded programme window pc mobile devices. reflect increasing trend freeing multimedia people watch want want.'"
      ]
     },
     "execution_count": 61,
     "metadata": {},
     "output_type": "execute_result"
    }
   ],
   "source": [
    "df.text[0]"
   ]
  },
  {
   "cell_type": "markdown",
   "metadata": {},
   "source": [
    "## dataset splitting for training & Testing"
   ]
  },
  {
   "cell_type": "code",
   "execution_count": 62,
   "metadata": {},
   "outputs": [],
   "source": [
    "X_train, X_test, Y_train, Y_test = train_test_split(df.text, df.category, test_size=0.2, random_state=37)"
   ]
  },
  {
   "cell_type": "markdown",
   "metadata": {},
   "source": [
    "## Tokenizer and filtering with keras\n",
    "\n",
    "1. out of the all words we are taking on 10000 words\n",
    "2. with keras API of Tokenizer which tokenize the sentence also do data cleaning and split the data"
   ]
  },
  {
   "cell_type": "code",
   "execution_count": 63,
   "metadata": {},
   "outputs": [],
   "source": [
    "size_words=10000\n",
    "ks_tok = Tokenizer(num_words=size_words,filters='!\"#$%&()*+,-./:;<=>?@[\\\\]^_`{|}~\\t\\n0123456789',lower=True,split=\" \")\n",
    "ks_tok.fit_on_texts(X_train)"
   ]
  },
  {
   "cell_type": "markdown",
   "metadata": {},
   "source": [
    "## converting the word into sequence of number"
   ]
  },
  {
   "cell_type": "code",
   "execution_count": 64,
   "metadata": {},
   "outputs": [],
   "source": [
    "X_train_seq = ks_tok.texts_to_sequences(X_train) # convert each sentence into number \n",
    "X_test_seq = ks_tok.texts_to_sequences(X_test)"
   ]
  },
  {
   "cell_type": "code",
   "execution_count": 65,
   "metadata": {},
   "outputs": [
    {
     "data": {
      "text/plain": [
       "count    1621.000000\n",
       "mean      225.090685\n",
       "std       137.161430\n",
       "min        49.000000\n",
       "25%       144.000000\n",
       "50%       196.000000\n",
       "75%       275.000000\n",
       "max      2278.000000\n",
       "Name: text, dtype: float64"
      ]
     },
     "execution_count": 65,
     "metadata": {},
     "output_type": "execute_result"
    }
   ],
   "source": [
    "max_count = X_train.apply(lambda x: len(x.split(' ')))\n",
    "max_count.describe()"
   ]
  },
  {
   "cell_type": "markdown",
   "metadata": {},
   "source": [
    "## Padding\n",
    "Adding zero to each sentence and making it equal to sentence of maximum lenght "
   ]
  },
  {
   "cell_type": "code",
   "execution_count": 66,
   "metadata": {},
   "outputs": [
    {
     "data": {
      "text/plain": [
       "array([   0,    0,    0, ..., 1545,  424,  137])"
      ]
     },
     "execution_count": 66,
     "metadata": {},
     "output_type": "execute_result"
    }
   ],
   "source": [
    "X_train_seq_trunc = pad_sequences(X_train_seq, maxlen=2278)\n",
    "X_test_seq_trunc = pad_sequences(X_test_seq, maxlen=2278)\n",
    "X_test_seq_trunc[0]"
   ]
  },
  {
   "cell_type": "markdown",
   "metadata": {},
   "source": [
    "## Encoding the target feature in number "
   ]
  },
  {
   "cell_type": "code",
   "execution_count": 67,
   "metadata": {},
   "outputs": [],
   "source": [
    "le = LabelEncoder()\n",
    "y_train_le = le.fit_transform(Y_train)\n",
    "y_test_le = le.transform(Y_test)\n",
    "y_train_oh = to_categorical(y_train_le)\n",
    "y_test_oh = to_categorical(y_test_le)"
   ]
  },
  {
   "cell_type": "markdown",
   "metadata": {},
   "source": [
    "## Neural Network with Keras\n",
    "1. we are using functional API of keras to build model\n",
    "2. Initially we add input layer which take input with size of max 2278\n",
    "3. then we add embedding layer of max word which we have earlier decided \n",
    "4. use dropout and flattern to make input sequencially\n",
    "5. output layer with dense 5 which is equal to number of unique target feature and will use softmax as activation function\n",
    "6. then, we have to compile our model and below is the overall summary of model."
   ]
  },
  {
   "cell_type": "code",
   "execution_count": 45,
   "metadata": {},
   "outputs": [
    {
     "name": "stdout",
     "output_type": "stream",
     "text": [
      "_________________________________________________________________\n",
      "Layer (type)                 Output Shape              Param #   \n",
      "=================================================================\n",
      "input_2 (InputLayer)         (None, 2278)              0         \n",
      "_________________________________________________________________\n",
      "embedding_2 (Embedding)      (None, 2278, 8)           80000     \n",
      "_________________________________________________________________\n",
      "dropout_2 (Dropout)          (None, 2278, 8)           0         \n",
      "_________________________________________________________________\n",
      "flatten_2 (Flatten)          (None, 18224)             0         \n",
      "_________________________________________________________________\n",
      "dense_2 (Dense)              (None, 5)                 91125     \n",
      "=================================================================\n",
      "Total params: 171,125\n",
      "Trainable params: 171,125\n",
      "Non-trainable params: 0\n",
      "_________________________________________________________________\n"
     ]
    }
   ],
   "source": [
    "deep_inputs = layers.Input(shape=(2278,))\n",
    "embedding= layers.Embedding(10000 , 8 ,input_length=2278 )(deep_inputs)\n",
    "embedding = layers.Dropout(0.5)(embedding)\n",
    "#embedding = layers.Dense(100, activation='sigmoid')(embedding)\n",
    "embedding = layers.Flatten()(embedding)\n",
    "embedding_out = layers.Dense(5, activation='softmax')(embedding)\n",
    "deep_model = keras.Model(inputs=deep_inputs,outputs=embedding_out)\n",
    "deep_model.compile(optimizer='rmsprop', loss='categorical_crossentropy', metrics=['accuracy'])\n",
    "deep_model.summary()"
   ]
  },
  {
   "cell_type": "markdown",
   "metadata": {},
   "source": [
    "## Train the model on training data \n",
    "we can change epoch and batch_size according to our requirement , we also need to check model performance on different value of epoch and batch_size"
   ]
  },
  {
   "cell_type": "code",
   "execution_count": 46,
   "metadata": {},
   "outputs": [
    {
     "name": "stdout",
     "output_type": "stream",
     "text": [
      "Epoch 1/50\n",
      "1621/1621 [==============================] - 2s 1ms/step - loss: 1.7642 - acc: 0.2054\n",
      "Epoch 2/50\n",
      "1621/1621 [==============================] - 1s 788us/step - loss: 1.5620 - acc: 0.2893\n",
      "Epoch 3/50\n",
      "1621/1621 [==============================] - 1s 767us/step - loss: 1.5200 - acc: 0.3171\n",
      "Epoch 4/50\n",
      "1621/1621 [==============================] - 1s 769us/step - loss: 1.4943 - acc: 0.4078\n",
      "Epoch 5/50\n",
      "1621/1621 [==============================] - 1s 711us/step - loss: 1.4374 - acc: 0.3701\n",
      "Epoch 6/50\n",
      "1621/1621 [==============================] - 1s 628us/step - loss: 1.3865 - acc: 0.4701\n",
      "Epoch 7/50\n",
      "1621/1621 [==============================] - 1s 728us/step - loss: 1.3200 - acc: 0.5713\n",
      "Epoch 8/50\n",
      "1621/1621 [==============================] - 1s 680us/step - loss: 1.2801 - acc: 0.4898\n",
      "Epoch 9/50\n",
      "1621/1621 [==============================] - 1s 734us/step - loss: 1.2300 - acc: 0.5460\n",
      "Epoch 10/50\n",
      "1621/1621 [==============================] - 1s 788us/step - loss: 1.1750 - acc: 0.5830\n",
      "Epoch 11/50\n",
      "1621/1621 [==============================] - 1s 760us/step - loss: 1.0988 - acc: 0.6144\n",
      "Epoch 12/50\n",
      "1621/1621 [==============================] - 1s 787us/step - loss: 1.0607 - acc: 0.6638\n",
      "Epoch 13/50\n",
      "1621/1621 [==============================] - 1s 776us/step - loss: 1.0068 - acc: 0.6848\n",
      "Epoch 14/50\n",
      "1621/1621 [==============================] - 1s 784us/step - loss: 0.9499 - acc: 0.7168\n",
      "Epoch 15/50\n",
      "1621/1621 [==============================] - 1s 803us/step - loss: 0.8915 - acc: 0.7390\n",
      "Epoch 16/50\n",
      "1621/1621 [==============================] - 1s 786us/step - loss: 0.8401 - acc: 0.7909\n",
      "Epoch 17/50\n",
      "1621/1621 [==============================] - 1s 758us/step - loss: 0.7873 - acc: 0.8297\n",
      "Epoch 18/50\n",
      "1621/1621 [==============================] - 1s 767us/step - loss: 0.7399 - acc: 0.8396\n",
      "Epoch 19/50\n",
      "1621/1621 [==============================] - 1s 755us/step - loss: 0.6928 - acc: 0.8489\n",
      "Epoch 20/50\n",
      "1621/1621 [==============================] - 1s 784us/step - loss: 0.6412 - acc: 0.8945\n",
      "Epoch 21/50\n",
      "1621/1621 [==============================] - 1s 756us/step - loss: 0.5996 - acc: 0.9087\n",
      "Epoch 22/50\n",
      "1621/1621 [==============================] - 1s 755us/step - loss: 0.5561 - acc: 0.9204\n",
      "Epoch 23/50\n",
      "1621/1621 [==============================] - 1s 774us/step - loss: 0.5134 - acc: 0.9377\n",
      "Epoch 24/50\n",
      "1621/1621 [==============================] - 1s 770us/step - loss: 0.4682 - acc: 0.9482\n",
      "Epoch 25/50\n",
      "1621/1621 [==============================] - 1s 722us/step - loss: 0.4327 - acc: 0.9500\n",
      "Epoch 26/50\n",
      "1621/1621 [==============================] - 1s 745us/step - loss: 0.3972 - acc: 0.9556\n",
      "Epoch 27/50\n",
      "1621/1621 [==============================] - 1s 640us/step - loss: 0.3627 - acc: 0.9568\n",
      "Epoch 28/50\n",
      "1621/1621 [==============================] - 1s 663us/step - loss: 0.3354 - acc: 0.9642\n",
      "Epoch 29/50\n",
      "1621/1621 [==============================] - 1s 681us/step - loss: 0.3023 - acc: 0.9778\n",
      "Epoch 30/50\n",
      "1621/1621 [==============================] - 1s 719us/step - loss: 0.2761 - acc: 0.9809\n",
      "Epoch 31/50\n",
      "1621/1621 [==============================] - 1s 742us/step - loss: 0.2497 - acc: 0.9821\n",
      "Epoch 32/50\n",
      "1621/1621 [==============================] - 1s 750us/step - loss: 0.2271 - acc: 0.9846\n",
      "Epoch 33/50\n",
      "1621/1621 [==============================] - 1s 765us/step - loss: 0.2086 - acc: 0.9883\n",
      "Epoch 34/50\n",
      "1621/1621 [==============================] - 1s 779us/step - loss: 0.1897 - acc: 0.9889\n",
      "Epoch 35/50\n",
      "1621/1621 [==============================] - 1s 762us/step - loss: 0.1687 - acc: 0.9895\n",
      "Epoch 36/50\n",
      "1621/1621 [==============================] - 1s 774us/step - loss: 0.1581 - acc: 0.9895\n",
      "Epoch 37/50\n",
      "1621/1621 [==============================] - 1s 755us/step - loss: 0.1421 - acc: 0.9938\n",
      "Epoch 38/50\n",
      "1621/1621 [==============================] - 1s 748us/step - loss: 0.1264 - acc: 0.9932\n",
      "Epoch 39/50\n",
      "1621/1621 [==============================] - 1s 757us/step - loss: 0.1160 - acc: 0.9944\n",
      "Epoch 40/50\n",
      "1621/1621 [==============================] - 1s 749us/step - loss: 0.1060 - acc: 0.9944\n",
      "Epoch 41/50\n",
      "1621/1621 [==============================] - 1s 785us/step - loss: 0.0954 - acc: 0.9969\n",
      "Epoch 42/50\n",
      "1621/1621 [==============================] - 1s 753us/step - loss: 0.0830 - acc: 0.9975\n",
      "Epoch 43/50\n",
      "1621/1621 [==============================] - 1s 752us/step - loss: 0.0770 - acc: 0.9969\n",
      "Epoch 44/50\n",
      "1621/1621 [==============================] - 1s 740us/step - loss: 0.0678 - acc: 0.9975\n",
      "Epoch 45/50\n",
      "1621/1621 [==============================] - 1s 777us/step - loss: 0.0644 - acc: 0.9975\n",
      "Epoch 46/50\n",
      "1621/1621 [==============================] - 1s 745us/step - loss: 0.0576 - acc: 0.9988\n",
      "Epoch 47/50\n",
      "1621/1621 [==============================] - 1s 761us/step - loss: 0.0517 - acc: 0.9981\n",
      "Epoch 48/50\n",
      "1621/1621 [==============================] - 1s 725us/step - loss: 0.0459 - acc: 0.9988\n",
      "Epoch 49/50\n",
      "1621/1621 [==============================] - 1s 748us/step - loss: 0.0425 - acc: 0.9981\n",
      "Epoch 50/50\n",
      "1621/1621 [==============================] - 1s 749us/step - loss: 0.0391 - acc: 0.9994\n"
     ]
    },
    {
     "data": {
      "text/plain": [
       "<keras.callbacks.History at 0x2cb0b39fef0>"
      ]
     },
     "execution_count": 46,
     "metadata": {},
     "output_type": "execute_result"
    }
   ],
   "source": [
    "deep_model.fit(X_train_seq_trunc,y_train_oh,epochs=50,batch_size=512)"
   ]
  },
  {
   "cell_type": "markdown",
   "metadata": {},
   "source": [
    "## Model evaluation on training data"
   ]
  },
  {
   "cell_type": "code",
   "execution_count": 47,
   "metadata": {},
   "outputs": [
    {
     "name": "stdout",
     "output_type": "stream",
     "text": [
      "1621/1621 [==============================] - 0s 203us/step\n"
     ]
    },
    {
     "data": {
      "text/plain": [
       "[0.031847974345235085, 1.0]"
      ]
     },
     "execution_count": 47,
     "metadata": {},
     "output_type": "execute_result"
    }
   ],
   "source": [
    "result=deep_model.evaluate(X_train_seq_trunc,y_train_oh)\n",
    "result"
   ]
  },
  {
   "cell_type": "markdown",
   "metadata": {},
   "source": [
    "## Model evaluation on Testing data"
   ]
  },
  {
   "cell_type": "code",
   "execution_count": 48,
   "metadata": {},
   "outputs": [
    {
     "name": "stdout",
     "output_type": "stream",
     "text": [
      "406/406 [==============================] - 0s 61us/step\n"
     ]
    },
    {
     "data": {
      "text/plain": [
       "[0.13823234855101027, 0.9704433497536946]"
      ]
     },
     "execution_count": 48,
     "metadata": {},
     "output_type": "execute_result"
    }
   ],
   "source": [
    "result=deep_model.evaluate(X_test_seq_trunc,y_test_oh)\n",
    "result"
   ]
  },
  {
   "cell_type": "markdown",
   "metadata": {},
   "source": [
    "## Model building with CNN with keras"
   ]
  },
  {
   "cell_type": "code",
   "execution_count": 49,
   "metadata": {},
   "outputs": [
    {
     "name": "stdout",
     "output_type": "stream",
     "text": [
      "_________________________________________________________________\n",
      "Layer (type)                 Output Shape              Param #   \n",
      "=================================================================\n",
      "input_3 (InputLayer)         (None, 2278)              0         \n",
      "_________________________________________________________________\n",
      "embedding_3 (Embedding)      (None, 2278, 8)           80000     \n",
      "_________________________________________________________________\n",
      "conv1d_1 (Conv1D)            (None, 2274, 256)         10496     \n",
      "_________________________________________________________________\n",
      "global_max_pooling1d_1 (Glob (None, 256)               0         \n",
      "_________________________________________________________________\n",
      "dense_3 (Dense)              (None, 5)                 1285      \n",
      "=================================================================\n",
      "Total params: 91,781\n",
      "Trainable params: 91,781\n",
      "Non-trainable params: 0\n",
      "_________________________________________________________________\n"
     ]
    }
   ],
   "source": [
    "\n",
    "deep_inputs = layers.Input(shape=(2278,))\n",
    "embedding= layers.Embedding(10000 , 8 ,input_length=2278 )(deep_inputs)\n",
    "embedding = layers.Conv1D(256, 5, activation='relu')(embedding)\n",
    "embedding = layers.GlobalMaxPooling1D()(embedding)\n",
    "#embedding = layers.Dense(128, activation='relu')(embedding)\n",
    "#embedding = layers.Dropout(0.5)(embedding)\n",
    "#embedding = layers.Flatten()(embedding)\n",
    "embedding_out = layers.Dense(5, activation='softmax')(embedding)\n",
    "deep_model_CNN = keras.Model(inputs=deep_inputs,outputs=embedding_out)\n",
    "deep_model_CNN.compile(optimizer='rmsprop', loss='categorical_crossentropy', metrics=['accuracy'])\n",
    "deep_model_CNN.summary()"
   ]
  },
  {
   "cell_type": "markdown",
   "metadata": {},
   "source": [
    "## Train the model on training data CNN"
   ]
  },
  {
   "cell_type": "code",
   "execution_count": 50,
   "metadata": {},
   "outputs": [
    {
     "name": "stdout",
     "output_type": "stream",
     "text": [
      "WARNING:tensorflow:From C:\\Project\\anaconda3\\lib\\site-packages\\tensorflow\\python\\ops\\math_grad.py:102: div (from tensorflow.python.ops.math_ops) is deprecated and will be removed in a future version.\n",
      "Instructions for updating:\n",
      "Deprecated in favor of operator or tf.math.divide.\n",
      "Epoch 1/50\n",
      "1621/1621 [==============================] - 34s 21ms/step - loss: 1.6016 - acc: 0.2517\n",
      "Epoch 2/50\n",
      "1621/1621 [==============================] - 32s 20ms/step - loss: 1.5828 - acc: 0.2517\n",
      "Epoch 3/50\n",
      "1621/1621 [==============================] - 31s 19ms/step - loss: 1.5719 - acc: 0.2893\n",
      "Epoch 4/50\n",
      "1621/1621 [==============================] - 30s 18ms/step - loss: 1.5626 - acc: 0.2647\n",
      "Epoch 5/50\n",
      "1621/1621 [==============================] - 31s 19ms/step - loss: 1.5511 - acc: 0.2566\n",
      "Epoch 6/50\n",
      "1621/1621 [==============================] - 28s 18ms/step - loss: 1.5354 - acc: 0.3961\n",
      "Epoch 7/50\n",
      "1621/1621 [==============================] - 28s 17ms/step - loss: 1.5147 - acc: 0.4534\n",
      "Epoch 8/50\n",
      "1621/1621 [==============================] - 28s 17ms/step - loss: 1.4882 - acc: 0.4775\n",
      "Epoch 9/50\n",
      "1621/1621 [==============================] - 31s 19ms/step - loss: 1.4555 - acc: 0.4911\n",
      "Epoch 10/50\n",
      "1621/1621 [==============================] - 31s 19ms/step - loss: 1.4164 - acc: 0.4892\n",
      "Epoch 11/50\n",
      "1621/1621 [==============================] - 31s 19ms/step - loss: 1.3730 - acc: 0.5281\n",
      "Epoch 12/50\n",
      "1621/1621 [==============================] - 30s 19ms/step - loss: 1.3246 - acc: 0.5312\n",
      "Epoch 13/50\n",
      "1621/1621 [==============================] - 31s 19ms/step - loss: 1.2723 - acc: 0.6027\n",
      "Epoch 14/50\n",
      "1621/1621 [==============================] - 32s 20ms/step - loss: 1.2157 - acc: 0.6650\n",
      "Epoch 15/50\n",
      "1621/1621 [==============================] - 32s 20ms/step - loss: 1.1573 - acc: 0.7119\n",
      "Epoch 16/50\n",
      "1621/1621 [==============================] - 30s 18ms/step - loss: 1.0961 - acc: 0.7465\n",
      "Epoch 17/50\n",
      "1621/1621 [==============================] - 30s 18ms/step - loss: 1.0332 - acc: 0.7816\n",
      "Epoch 18/50\n",
      "1621/1621 [==============================] - 32s 19ms/step - loss: 0.9694 - acc: 0.7927\n",
      "Epoch 19/50\n",
      "1621/1621 [==============================] - 31s 19ms/step - loss: 0.9073 - acc: 0.8020\n",
      "Epoch 20/50\n",
      "1621/1621 [==============================] - 31s 19ms/step - loss: 0.8444 - acc: 0.8168\n",
      "Epoch 21/50\n",
      "1621/1621 [==============================] - 32s 19ms/step - loss: 0.7845 - acc: 0.8402\n",
      "Epoch 22/50\n",
      "1621/1621 [==============================] - 31s 19ms/step - loss: 0.7262 - acc: 0.8606\n",
      "Epoch 23/50\n",
      "1621/1621 [==============================] - 31s 19ms/step - loss: 0.6706 - acc: 0.8840\n",
      "Epoch 24/50\n",
      "1621/1621 [==============================] - 31s 19ms/step - loss: 0.6172 - acc: 0.9001\n",
      "Epoch 25/50\n",
      "1621/1621 [==============================] - 32s 20ms/step - loss: 0.5675 - acc: 0.9105\n",
      "Epoch 26/50\n",
      "1621/1621 [==============================] - 31s 19ms/step - loss: 0.5201 - acc: 0.9229\n",
      "Epoch 27/50\n",
      "1621/1621 [==============================] - 31s 19ms/step - loss: 0.4749 - acc: 0.9457\n",
      "Epoch 28/50\n",
      "1621/1621 [==============================] - 31s 19ms/step - loss: 0.4325 - acc: 0.9519\n",
      "Epoch 29/50\n",
      "1621/1621 [==============================] - 31s 19ms/step - loss: 0.3929 - acc: 0.9729\n",
      "Epoch 30/50\n",
      "1621/1621 [==============================] - 31s 19ms/step - loss: 0.3552 - acc: 0.9784\n",
      "Epoch 31/50\n",
      "1621/1621 [==============================] - 31s 19ms/step - loss: 0.3210 - acc: 0.9852\n",
      "Epoch 32/50\n",
      "1621/1621 [==============================] - 31s 19ms/step - loss: 0.2889 - acc: 0.9864\n",
      "Epoch 33/50\n",
      "1621/1621 [==============================] - 31s 19ms/step - loss: 0.2590 - acc: 0.9889\n",
      "Epoch 34/50\n",
      "1621/1621 [==============================] - 27s 17ms/step - loss: 0.2313 - acc: 0.9907\n",
      "Epoch 35/50\n",
      "1621/1621 [==============================] - 5733s 4s/step - loss: 0.2064 - acc: 0.9920\n",
      "Epoch 36/50\n",
      "1621/1621 [==============================] - 21s 13ms/step - loss: 0.1845 - acc: 0.9920\n",
      "Epoch 37/50\n",
      "1621/1621 [==============================] - 20s 13ms/step - loss: 0.1641 - acc: 0.9932\n",
      "Epoch 38/50\n",
      "1621/1621 [==============================] - 21s 13ms/step - loss: 0.1446 - acc: 0.9938\n",
      "Epoch 39/50\n",
      "1621/1621 [==============================] - 25s 15ms/step - loss: 0.1278 - acc: 0.9944\n",
      "Epoch 40/50\n",
      "1621/1621 [==============================] - 21s 13ms/step - loss: 0.1130 - acc: 0.9951\n",
      "Epoch 41/50\n",
      "1621/1621 [==============================] - 22s 14ms/step - loss: 0.0988 - acc: 0.9951\n",
      "Epoch 42/50\n",
      "1621/1621 [==============================] - 22s 14ms/step - loss: 0.0869 - acc: 0.9957\n",
      "Epoch 43/50\n",
      "1621/1621 [==============================] - 22s 14ms/step - loss: 0.0759 - acc: 0.9963\n",
      "Epoch 44/50\n",
      "1621/1621 [==============================] - 22s 14ms/step - loss: 0.0665 - acc: 0.9969\n",
      "Epoch 45/50\n",
      "1621/1621 [==============================] - 22s 14ms/step - loss: 0.0584 - acc: 0.9975\n",
      "Epoch 46/50\n",
      "1621/1621 [==============================] - 22s 13ms/step - loss: 0.0504 - acc: 0.9975\n",
      "Epoch 47/50\n",
      "1621/1621 [==============================] - 22s 13ms/step - loss: 0.0441 - acc: 0.9981\n",
      "Epoch 48/50\n",
      "1621/1621 [==============================] - 22s 13ms/step - loss: 0.0381 - acc: 0.9988\n",
      "Epoch 49/50\n",
      "1621/1621 [==============================] - 21s 13ms/step - loss: 0.0330 - acc: 0.9988\n",
      "Epoch 50/50\n",
      "1621/1621 [==============================] - 21s 13ms/step - loss: 0.0286 - acc: 0.9988\n"
     ]
    },
    {
     "data": {
      "text/plain": [
       "<keras.callbacks.History at 0x2cb0b376f28>"
      ]
     },
     "execution_count": 50,
     "metadata": {},
     "output_type": "execute_result"
    }
   ],
   "source": [
    "deep_model_CNN.fit(X_train_seq_trunc,y_train_oh,epochs=50,batch_size=512)"
   ]
  },
  {
   "cell_type": "markdown",
   "metadata": {},
   "source": [
    "## Model evaluation on training data CNN"
   ]
  },
  {
   "cell_type": "code",
   "execution_count": 51,
   "metadata": {},
   "outputs": [
    {
     "name": "stdout",
     "output_type": "stream",
     "text": [
      "1621/1621 [==============================] - 3s 2ms/step\n"
     ]
    },
    {
     "data": {
      "text/plain": [
       "[0.024931464101808958, 0.9987661937075879]"
      ]
     },
     "execution_count": 51,
     "metadata": {},
     "output_type": "execute_result"
    }
   ],
   "source": [
    "result=deep_model_CNN.evaluate(X_train_seq_trunc,y_train_oh)\n",
    "result"
   ]
  },
  {
   "cell_type": "markdown",
   "metadata": {},
   "source": [
    "## Model evaluation on training data CNN"
   ]
  },
  {
   "cell_type": "code",
   "execution_count": 52,
   "metadata": {},
   "outputs": [
    {
     "name": "stdout",
     "output_type": "stream",
     "text": [
      "406/406 [==============================] - 1s 2ms/step\n"
     ]
    },
    {
     "data": {
      "text/plain": [
       "[0.1439388860475841, 0.9581280779368772]"
      ]
     },
     "execution_count": 52,
     "metadata": {},
     "output_type": "execute_result"
    }
   ],
   "source": [
    "result=deep_model_CNN.evaluate(X_test_seq_trunc,y_test_oh)\n",
    "result"
   ]
  },
  {
   "cell_type": "markdown",
   "metadata": {},
   "source": [
    "## Model building using GRU"
   ]
  },
  {
   "cell_type": "code",
   "execution_count": 29,
   "metadata": {},
   "outputs": [
    {
     "name": "stdout",
     "output_type": "stream",
     "text": [
      "_________________________________________________________________\n",
      "Layer (type)                 Output Shape              Param #   \n",
      "=================================================================\n",
      "input_3 (InputLayer)         (None, 2278)              0         \n",
      "_________________________________________________________________\n",
      "embedding_3 (Embedding)      (None, 2278, 8)           80000     \n",
      "_________________________________________________________________\n",
      "gru_1 (GRU)                  (None, 100)               32700     \n",
      "_________________________________________________________________\n",
      "dense_3 (Dense)              (None, 5)                 505       \n",
      "=================================================================\n",
      "Total params: 113,205\n",
      "Trainable params: 113,205\n",
      "Non-trainable params: 0\n",
      "_________________________________________________________________\n"
     ]
    }
   ],
   "source": [
    "deep_inputs = layers.Input(shape=(2278,))\n",
    "embedding= layers.Embedding(10000 , 8 ,input_length=2278 )(deep_inputs)\n",
    "embedding = layers.GRU(100,dropout=0.5, recurrent_dropout=0.5)(embedding)\n",
    "#embedding = layers.Dense(256, activation='sigmoid')(embedding)\n",
    "#embedding = layers.Dropout(0.5)(embedding)\n",
    "#embedding = layers.Flatten()(embedding)\n",
    "embedding_out = layers.Dense(5, activation='softmax')(embedding)\n",
    "deep_model_gru = keras.Model(inputs=deep_inputs,outputs=embedding_out)\n",
    "deep_model_gru.compile(optimizer='rmsprop', loss='categorical_crossentropy', metrics=['accuracy'])\n",
    "deep_model_gru.summary()"
   ]
  },
  {
   "cell_type": "code",
   "execution_count": 30,
   "metadata": {},
   "outputs": [
    {
     "name": "stdout",
     "output_type": "stream",
     "text": [
      "Epoch 1/50\n",
      "1780/1780 [==============================] - 20s 11ms/step - loss: 1.6074 - acc: 0.2090\n",
      "Epoch 2/50\n",
      "1780/1780 [==============================] - 19s 11ms/step - loss: 1.6019 - acc: 0.2354\n",
      "Epoch 3/50\n",
      "1780/1780 [==============================] - 20s 11ms/step - loss: 1.5968 - acc: 0.2320\n",
      "Epoch 4/50\n",
      "1780/1780 [==============================] - 22s 12ms/step - loss: 1.5912 - acc: 0.2478\n",
      "Epoch 5/50\n",
      "1780/1780 [==============================] - 20s 11ms/step - loss: 1.5817 - acc: 0.2365\n",
      "Epoch 6/50\n",
      "1780/1780 [==============================] - 20s 11ms/step - loss: 1.5673 - acc: 0.2545\n",
      "Epoch 7/50\n",
      "1780/1780 [==============================] - 20s 11ms/step - loss: 1.5465 - acc: 0.3051\n",
      "Epoch 8/50\n",
      "1780/1780 [==============================] - 20s 11ms/step - loss: 1.5182 - acc: 0.3433\n",
      "Epoch 9/50\n",
      "1780/1780 [==============================] - 21s 12ms/step - loss: 1.4849 - acc: 0.4612\n",
      "Epoch 10/50\n",
      "1780/1780 [==============================] - 21s 12ms/step - loss: 1.4568 - acc: 0.4596\n",
      "Epoch 11/50\n",
      "1780/1780 [==============================] - 20s 11ms/step - loss: 1.4238 - acc: 0.5107\n",
      "Epoch 12/50\n",
      "1780/1780 [==============================] - 22s 12ms/step - loss: 1.3912 - acc: 0.5472\n",
      "Epoch 13/50\n",
      "1780/1780 [==============================] - 21s 12ms/step - loss: 1.3515 - acc: 0.5494\n",
      "Epoch 14/50\n",
      "1780/1780 [==============================] - 20s 11ms/step - loss: 1.3155 - acc: 0.5787\n",
      "Epoch 15/50\n",
      "1780/1780 [==============================] - 21s 12ms/step - loss: 1.2934 - acc: 0.5921\n",
      "Epoch 16/50\n",
      "1780/1780 [==============================] - 21s 12ms/step - loss: 1.2750 - acc: 0.6022\n",
      "Epoch 17/50\n",
      "1780/1780 [==============================] - 21s 12ms/step - loss: 1.2251 - acc: 0.6079\n",
      "Epoch 18/50\n",
      "1780/1780 [==============================] - 21s 12ms/step - loss: 1.2076 - acc: 0.6281\n",
      "Epoch 19/50\n",
      "1780/1780 [==============================] - 20s 11ms/step - loss: 1.1816 - acc: 0.6028\n",
      "Epoch 20/50\n",
      "1780/1780 [==============================] - 20s 11ms/step - loss: 1.1357 - acc: 0.6348\n",
      "Epoch 21/50\n",
      "1780/1780 [==============================] - 21s 12ms/step - loss: 1.1205 - acc: 0.6062\n",
      "Epoch 22/50\n",
      "1780/1780 [==============================] - 20s 11ms/step - loss: 1.0826 - acc: 0.6281\n",
      "Epoch 23/50\n",
      "1780/1780 [==============================] - 20s 11ms/step - loss: 1.0544 - acc: 0.6433\n",
      "Epoch 24/50\n",
      "1780/1780 [==============================] - 21s 12ms/step - loss: 1.0567 - acc: 0.6360\n",
      "Epoch 25/50\n",
      "1780/1780 [==============================] - 20s 11ms/step - loss: 1.0333 - acc: 0.6410\n",
      "Epoch 26/50\n",
      "1780/1780 [==============================] - 20s 11ms/step - loss: 0.9918 - acc: 0.6528\n",
      "Epoch 27/50\n",
      "1780/1780 [==============================] - 22s 12ms/step - loss: 0.9818 - acc: 0.6449\n",
      "Epoch 28/50\n",
      "1780/1780 [==============================] - 20s 11ms/step - loss: 0.9555 - acc: 0.6629\n",
      "Epoch 29/50\n",
      "1780/1780 [==============================] - 20s 11ms/step - loss: 0.9234 - acc: 0.6809\n",
      "Epoch 30/50\n",
      "1780/1780 [==============================] - 21s 12ms/step - loss: 0.8832 - acc: 0.6949\n",
      "Epoch 31/50\n",
      "1780/1780 [==============================] - 20s 11ms/step - loss: 0.8863 - acc: 0.6921\n",
      "Epoch 32/50\n",
      "1780/1780 [==============================] - 20s 11ms/step - loss: 0.8769 - acc: 0.6955\n",
      "Epoch 33/50\n",
      "1780/1780 [==============================] - 21s 12ms/step - loss: 0.8504 - acc: 0.6876\n",
      "Epoch 34/50\n",
      "1780/1780 [==============================] - 20s 11ms/step - loss: 0.8185 - acc: 0.7096\n",
      "Epoch 35/50\n",
      "1780/1780 [==============================] - 20s 11ms/step - loss: 0.7903 - acc: 0.7208\n",
      "Epoch 36/50\n",
      "1780/1780 [==============================] - 21s 12ms/step - loss: 0.7980 - acc: 0.7101\n",
      "Epoch 37/50\n",
      "1780/1780 [==============================] - 20s 12ms/step - loss: 0.7642 - acc: 0.7376\n",
      "Epoch 38/50\n",
      "1780/1780 [==============================] - 21s 12ms/step - loss: 0.7438 - acc: 0.7522\n",
      "Epoch 39/50\n",
      "1780/1780 [==============================] - 22s 12ms/step - loss: 0.7245 - acc: 0.7539\n",
      "Epoch 40/50\n",
      "1780/1780 [==============================] - 20s 11ms/step - loss: 0.6741 - acc: 0.7652\n",
      "Epoch 41/50\n",
      "1780/1780 [==============================] - 20s 11ms/step - loss: 0.6855 - acc: 0.7511\n",
      "Epoch 42/50\n",
      "1780/1780 [==============================] - 20s 11ms/step - loss: 0.6759 - acc: 0.7663\n",
      "Epoch 43/50\n",
      "1780/1780 [==============================] - 19s 11ms/step - loss: 0.6668 - acc: 0.7657\n",
      "Epoch 44/50\n",
      "1780/1780 [==============================] - 20s 11ms/step - loss: 0.6412 - acc: 0.7753\n",
      "Epoch 45/50\n",
      "1780/1780 [==============================] - 21s 12ms/step - loss: 0.5951 - acc: 0.7921\n",
      "Epoch 46/50\n",
      "1780/1780 [==============================] - 19s 11ms/step - loss: 0.6084 - acc: 0.7809\n",
      "Epoch 47/50\n",
      "1780/1780 [==============================] - 20s 11ms/step - loss: 0.6099 - acc: 0.7893\n",
      "Epoch 48/50\n",
      "1780/1780 [==============================] - 20s 11ms/step - loss: 0.5693 - acc: 0.8124\n",
      "Epoch 49/50\n",
      "1780/1780 [==============================] - 20s 11ms/step - loss: 0.5692 - acc: 0.7904\n",
      "Epoch 50/50\n",
      "1780/1780 [==============================] - 20s 11ms/step - loss: 0.5368 - acc: 0.8202\n"
     ]
    },
    {
     "data": {
      "text/plain": [
       "<keras.callbacks.History at 0x2c61f558588>"
      ]
     },
     "execution_count": 30,
     "metadata": {},
     "output_type": "execute_result"
    }
   ],
   "source": [
    "deep_model_gru.fit(X_train_seq_trunc,y_train_oh,epochs=50,batch_size=512)"
   ]
  },
  {
   "cell_type": "markdown",
   "metadata": {},
   "source": [
    "## model evaluation on testing data using GRU"
   ]
  },
  {
   "cell_type": "code",
   "execution_count": 31,
   "metadata": {},
   "outputs": [
    {
     "name": "stdout",
     "output_type": "stream",
     "text": [
      "445/445 [==============================] - 5s 11ms/step\n"
     ]
    },
    {
     "data": {
      "text/plain": [
       "[0.7343408161334777, 0.7685393275839559]"
      ]
     },
     "execution_count": 31,
     "metadata": {},
     "output_type": "execute_result"
    }
   ],
   "source": [
    "result=deep_model_gru.evaluate(X_test_seq_trunc,y_test_oh)\n",
    "result"
   ]
  },
  {
   "cell_type": "code",
   "execution_count": 69,
   "metadata": {},
   "outputs": [
    {
     "name": "stdout",
     "output_type": "stream",
     "text": [
      "_________________________________________________________________\n",
      "Layer (type)                 Output Shape              Param #   \n",
      "=================================================================\n",
      "input_3 (InputLayer)         (None, 2278)              0         \n",
      "_________________________________________________________________\n",
      "embedding_3 (Embedding)      (None, 2278, 8)           80000     \n",
      "_________________________________________________________________\n",
      "lstm_3 (LSTM)                (None, 100)               43600     \n",
      "_________________________________________________________________\n",
      "dense_3 (Dense)              (None, 5)                 505       \n",
      "=================================================================\n",
      "Total params: 124,105\n",
      "Trainable params: 124,105\n",
      "Non-trainable params: 0\n",
      "_________________________________________________________________\n"
     ]
    }
   ],
   "source": [
    "## LSTM \n",
    "deep_inputs = layers.Input(shape=(2278,))\n",
    "embedding= layers.Embedding(10000 , 8 ,input_length=2278 )(deep_inputs)\n",
    "embedding = layers.LSTM(100,dropout=0.5, recurrent_dropout=0.5)(embedding)\n",
    "#embedding = layers.Dense(256, activation='sigmoid')(embedding)\n",
    "#embedding = layers.Dropout(0.5)(embedding)\n",
    "#embedding = layers.Flatten()(embedding)\n",
    "embedding_out = layers.Dense(5, activation='softmax')(embedding)\n",
    "deep_model_lstm = keras.Model(inputs=deep_inputs,outputs=embedding_out)\n",
    "deep_model_lstm.compile(optimizer='rmsprop', loss='categorical_crossentropy', metrics=['accuracy'])\n",
    "deep_model_lstm.summary()"
   ]
  },
  {
   "cell_type": "code",
   "execution_count": 28,
   "metadata": {},
   "outputs": [
    {
     "name": "stdout",
     "output_type": "stream",
     "text": [
      "Epoch 1/10\n",
      "1621/1621 [==============================] - 23s 14ms/step - loss: 0.3386 - acc: 0.8902\n",
      "Epoch 2/10\n",
      "1621/1621 [==============================] - 25s 15ms/step - loss: 0.3398 - acc: 0.8927\n",
      "Epoch 3/10\n",
      "1621/1621 [==============================] - 25s 15ms/step - loss: 0.2801 - acc: 0.9241\n",
      "Epoch 4/10\n",
      "1621/1621 [==============================] - 24s 15ms/step - loss: 0.3077 - acc: 0.9013\n",
      "Epoch 5/10\n",
      "1621/1621 [==============================] - 24s 15ms/step - loss: 0.2800 - acc: 0.9124\n",
      "Epoch 6/10\n",
      "1621/1621 [==============================] - 22s 14ms/step - loss: 0.3004 - acc: 0.9038\n",
      "Epoch 7/10\n",
      "1621/1621 [==============================] - 22s 14ms/step - loss: 0.2748 - acc: 0.9124\n",
      "Epoch 8/10\n",
      "1621/1621 [==============================] - 22s 14ms/step - loss: 0.2928 - acc: 0.9050\n",
      "Epoch 9/10\n",
      "1621/1621 [==============================] - 22s 14ms/step - loss: 0.2952 - acc: 0.9062\n",
      "Epoch 10/10\n",
      "1621/1621 [==============================] - 24s 15ms/step - loss: 0.2521 - acc: 0.9266\n"
     ]
    },
    {
     "data": {
      "text/plain": [
       "<keras.callbacks.History at 0x1e7e6f6b7f0>"
      ]
     },
     "execution_count": 28,
     "metadata": {},
     "output_type": "execute_result"
    }
   ],
   "source": [
    "deep_model_lstm.fit(X_train_seq_trunc,y_train_oh,epochs=10,batch_size=512)"
   ]
  },
  {
   "cell_type": "code",
   "execution_count": 70,
   "metadata": {},
   "outputs": [
    {
     "name": "stdout",
     "output_type": "stream",
     "text": [
      "406/406 [==============================] - 6s 14ms/step\n"
     ]
    },
    {
     "data": {
      "text/plain": [
       "[1.6093975376025798, 0.19211822682119942]"
      ]
     },
     "execution_count": 70,
     "metadata": {},
     "output_type": "execute_result"
    }
   ],
   "source": [
    "deep_model_lstm.evaluate(X_test_seq_trunc,y_test_oh)"
   ]
  },
  {
   "cell_type": "markdown",
   "metadata": {},
   "source": [
    "## Model selection\n",
    "\n",
    "### Model       Result \n",
    "1.   NN     = >  97.04%\n",
    "2.   CNN    =>   96.41%\n",
    "3.   GRU    =>   76.85%\n",
    "4.   LSTM   =>   73%\n",
    "5.   Bidire =>\n",
    "\n",
    "\n",
    "we can try other model and evaluate model but due to RAM and processor is not that much effifcient of my system , it will take lot of time to train the model.\n",
    "\n",
    "So we will finalize NN to go further to create API for this model.\n",
    "again we can optimize the result using hyperparameter tuning but I guess we have already achieved good result and for increasing it for 1 2 % we dont need to add much lines of code.\n",
    "\n"
   ]
  },
  {
   "cell_type": "code",
   "execution_count": null,
   "metadata": {},
   "outputs": [],
   "source": []
  }
 ],
 "metadata": {
  "kernelspec": {
   "display_name": "Python 3",
   "language": "python",
   "name": "python3"
  },
  "language_info": {
   "codemirror_mode": {
    "name": "ipython",
    "version": 3
   },
   "file_extension": ".py",
   "mimetype": "text/x-python",
   "name": "python",
   "nbconvert_exporter": "python",
   "pygments_lexer": "ipython3",
   "version": "3.7.1"
  }
 },
 "nbformat": 4,
 "nbformat_minor": 2
}
