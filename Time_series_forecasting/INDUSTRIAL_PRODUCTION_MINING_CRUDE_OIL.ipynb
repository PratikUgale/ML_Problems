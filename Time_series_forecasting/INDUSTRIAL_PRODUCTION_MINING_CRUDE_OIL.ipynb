{
 "cells": [
  {
   "cell_type": "markdown",
   "metadata": {},
   "source": [
    "# Industrial Production Mining & Crude oil forecast\n",
    "\n",
    "**Business Problem :** Predict the demand for Crude oil in future\n",
    "\n",
    "**Dataset location :** [https://fred.stlouisfed.org/series/IPG211111CN](https://fred.stlouisfed.org/series/IPG211111CN)\n",
    "\n",
    "This is the dataset from Fred Economic research about time series forecasting related to the Industrial Production mining & crude oil. Now day's there is lot of demand for oil and its product & to supply it worldwide we need to find out its usage value so that we can predict the crude oil requirement in future.\n",
    "\n",
    "This Dataset is in Monthly frequency format available from 1972 to April 2019.\n",
    "\n",
    "There are lot of technical & statisticals methods are available to forecast time series Problem, Here , we will Forecast the Crude oil prediction using below 3 technique\n",
    "\n",
    "1. Using Facebook Prophet\n",
    "2. Using LSTM with Keras\n",
    "3. Using ARIMA and other models with statsmodels\n",
    "\n",
    "So let's get started with Time series analysis.\n"
   ]
  },
  {
   "cell_type": "markdown",
   "metadata": {},
   "source": [
    "## Facebook Prophet"
   ]
  },
  {
   "cell_type": "code",
   "execution_count": 91,
   "metadata": {},
   "outputs": [],
   "source": [
    "# Analysis library\n",
    "import pandas as pd\n",
    "\n",
    "#visualization library\n",
    "import matplotlib.pyplot as plt\n",
    "\n",
    "# time series library\n",
    "from fbprophet import Prophet\n",
    "import warnings\n",
    "from statsmodels.tools.eval_measures import rmse\n",
    "from fbprophet.plot import add_changepoints_to_plot"
   ]
  },
  {
   "cell_type": "code",
   "execution_count": 92,
   "metadata": {},
   "outputs": [],
   "source": [
    "warnings.filterwarnings('ignore')"
   ]
  },
  {
   "cell_type": "markdown",
   "metadata": {},
   "source": [
    "### Data Analysis\n",
    "\n",
    "1. Load the data into Jupiter notebood using Panda \n",
    "2. Display the first few row of the dataset\n",
    "3. if you notice the column name of dataset which is not supported by Prophet\n",
    "4. remane the columns with data.columns=['ds','y'] and change the data type of DATE columns which support Pandas date format\n",
    "5. Dataset contain 586 rows with no missing values\n"
   ]
  },
  {
   "cell_type": "code",
   "execution_count": 93,
   "metadata": {},
   "outputs": [],
   "source": [
    "data=pd.read_csv('IPG211111CN.csv').round(2)"
   ]
  },
  {
   "cell_type": "code",
   "execution_count": 94,
   "metadata": {},
   "outputs": [
    {
     "data": {
      "text/html": [
       "<div>\n",
       "<style scoped>\n",
       "    .dataframe tbody tr th:only-of-type {\n",
       "        vertical-align: middle;\n",
       "    }\n",
       "\n",
       "    .dataframe tbody tr th {\n",
       "        vertical-align: top;\n",
       "    }\n",
       "\n",
       "    .dataframe thead th {\n",
       "        text-align: right;\n",
       "    }\n",
       "</style>\n",
       "<table border=\"1\" class=\"dataframe\">\n",
       "  <thead>\n",
       "    <tr style=\"text-align: right;\">\n",
       "      <th></th>\n",
       "      <th>DATE</th>\n",
       "      <th>IPG211111CN</th>\n",
       "    </tr>\n",
       "  </thead>\n",
       "  <tbody>\n",
       "    <tr>\n",
       "      <th>0</th>\n",
       "      <td>1972-01-01</td>\n",
       "      <td>141.51</td>\n",
       "    </tr>\n",
       "    <tr>\n",
       "      <th>1</th>\n",
       "      <td>1972-02-01</td>\n",
       "      <td>145.17</td>\n",
       "    </tr>\n",
       "    <tr>\n",
       "      <th>2</th>\n",
       "      <td>1972-03-01</td>\n",
       "      <td>147.29</td>\n",
       "    </tr>\n",
       "    <tr>\n",
       "      <th>3</th>\n",
       "      <td>1972-04-01</td>\n",
       "      <td>148.22</td>\n",
       "    </tr>\n",
       "    <tr>\n",
       "      <th>4</th>\n",
       "      <td>1972-05-01</td>\n",
       "      <td>149.78</td>\n",
       "    </tr>\n",
       "  </tbody>\n",
       "</table>\n",
       "</div>"
      ],
      "text/plain": [
       "         DATE  IPG211111CN\n",
       "0  1972-01-01       141.51\n",
       "1  1972-02-01       145.17\n",
       "2  1972-03-01       147.29\n",
       "3  1972-04-01       148.22\n",
       "4  1972-05-01       149.78"
      ]
     },
     "execution_count": 94,
     "metadata": {},
     "output_type": "execute_result"
    }
   ],
   "source": [
    "data.head()"
   ]
  },
  {
   "cell_type": "code",
   "execution_count": 95,
   "metadata": {},
   "outputs": [],
   "source": [
    "data.columns=['ds','y']\n",
    "data['ds']=pd.to_datetime(data['ds'])"
   ]
  },
  {
   "cell_type": "code",
   "execution_count": 96,
   "metadata": {},
   "outputs": [
    {
     "name": "stdout",
     "output_type": "stream",
     "text": [
      "<class 'pandas.core.frame.DataFrame'>\n",
      "RangeIndex: 568 entries, 0 to 567\n",
      "Data columns (total 2 columns):\n",
      "ds    568 non-null datetime64[ns]\n",
      "y     568 non-null float64\n",
      "dtypes: datetime64[ns](1), float64(1)\n",
      "memory usage: 9.0 KB\n"
     ]
    }
   ],
   "source": [
    "data.info()"
   ]
  },
  {
   "cell_type": "markdown",
   "metadata": {},
   "source": [
    "### visualization\n",
    "\n",
    "1. Plot the line graph for given data\n",
    "2. from the below graph , with high level of analysis, its look like there is no trend or seasonality present in data, again we need to check data is stationary or not."
   ]
  },
  {
   "cell_type": "code",
   "execution_count": 97,
   "metadata": {},
   "outputs": [
    {
     "data": {
      "text/plain": [
       "<matplotlib.axes._subplots.AxesSubplot at 0x9b3f4964e0>"
      ]
     },
     "execution_count": 97,
     "metadata": {},
     "output_type": "execute_result"
    },
    {
     "data": {
      "image/png": "[encoded data removed]",
      "text/plain": [
       "<Figure size 864x432 with 1 Axes>"
      ]
     },
     "metadata": {
      "needs_background": "light"
     },
     "output_type": "display_data"
    }
   ],
   "source": [
    "data.plot(figsize=(12,6),x='ds',y='y')"
   ]
  },
  {
   "cell_type": "markdown",
   "metadata": {},
   "source": [
    "### Split the dataset for training & Testing purpose"
   ]
  },
  {
   "cell_type": "code",
   "execution_count": 98,
   "metadata": {},
   "outputs": [],
   "source": [
    "train=data.iloc[:556]\n",
    "test=data.iloc[556:]"
   ]
  },
  {
   "cell_type": "markdown",
   "metadata": {},
   "source": [
    "### Model creation\n",
    "\n",
    "1. As earlier mentioned, we are using fbprophet library for forecasting time series \n",
    "2. using Phophet(), lets initalize the model\n",
    "3. then train the model using fit()\n",
    "4. In prophet we need to use make_future_dataframe() wehere we need to give input for which we need to make forecasting and frequency of the datset\n",
    "5. here we are providing periods=12 and freq='MS'\n",
    "6. after predicting the future price, lets look into its results.\n",
    "7. from forecast , we require only 2 columns 'ds' & 'yhat'"
   ]
  },
  {
   "cell_type": "code",
   "execution_count": 108,
   "metadata": {},
   "outputs": [
    {
     "name": "stderr",
     "output_type": "stream",
     "text": [
      "INFO:fbprophet:Disabling weekly seasonality. Run prophet with weekly_seasonality=True to override this.\n",
      "INFO:fbprophet:Disabling daily seasonality. Run prophet with daily_seasonality=True to override this.\n"
     ]
    }
   ],
   "source": [
    "crude=Prophet(interval_width=0.95)\n",
    "crude.fit(train)\n",
    "future=crude.make_future_dataframe(12,freq='MS')\n",
    "forecast=crude.predict(future)"
   ]
  },
  {
   "cell_type": "code",
   "execution_count": 109,
   "metadata": {},
   "outputs": [
    {
     "data": {
      "text/html": [
       "<div>\n",
       "<style scoped>\n",
       "    .dataframe tbody tr th:only-of-type {\n",
       "        vertical-align: middle;\n",
       "    }\n",
       "\n",
       "    .dataframe tbody tr th {\n",
       "        vertical-align: top;\n",
       "    }\n",
       "\n",
       "    .dataframe thead th {\n",
       "        text-align: right;\n",
       "    }\n",
       "</style>\n",
       "<table border=\"1\" class=\"dataframe\">\n",
       "  <thead>\n",
       "    <tr style=\"text-align: right;\">\n",
       "      <th></th>\n",
       "      <th>ds</th>\n",
       "      <th>trend</th>\n",
       "      <th>yhat_lower</th>\n",
       "      <th>yhat_upper</th>\n",
       "      <th>trend_lower</th>\n",
       "      <th>trend_upper</th>\n",
       "      <th>additive_terms</th>\n",
       "      <th>additive_terms_lower</th>\n",
       "      <th>additive_terms_upper</th>\n",
       "      <th>yearly</th>\n",
       "      <th>yearly_lower</th>\n",
       "      <th>yearly_upper</th>\n",
       "      <th>multiplicative_terms</th>\n",
       "      <th>multiplicative_terms_lower</th>\n",
       "      <th>multiplicative_terms_upper</th>\n",
       "      <th>yhat</th>\n",
       "    </tr>\n",
       "  </thead>\n",
       "  <tbody>\n",
       "    <tr>\n",
       "      <th>0</th>\n",
       "      <td>1972-01-01</td>\n",
       "      <td>146.854320</td>\n",
       "      <td>139.032016</td>\n",
       "      <td>156.092119</td>\n",
       "      <td>146.854320</td>\n",
       "      <td>146.854320</td>\n",
       "      <td>0.107527</td>\n",
       "      <td>0.107527</td>\n",
       "      <td>0.107527</td>\n",
       "      <td>0.107527</td>\n",
       "      <td>0.107527</td>\n",
       "      <td>0.107527</td>\n",
       "      <td>0.0</td>\n",
       "      <td>0.0</td>\n",
       "      <td>0.0</td>\n",
       "      <td>146.961847</td>\n",
       "    </tr>\n",
       "    <tr>\n",
       "      <th>1</th>\n",
       "      <td>1972-02-01</td>\n",
       "      <td>146.527343</td>\n",
       "      <td>138.841021</td>\n",
       "      <td>154.724802</td>\n",
       "      <td>146.527343</td>\n",
       "      <td>146.527343</td>\n",
       "      <td>0.632175</td>\n",
       "      <td>0.632175</td>\n",
       "      <td>0.632175</td>\n",
       "      <td>0.632175</td>\n",
       "      <td>0.632175</td>\n",
       "      <td>0.632175</td>\n",
       "      <td>0.0</td>\n",
       "      <td>0.0</td>\n",
       "      <td>0.0</td>\n",
       "      <td>147.159518</td>\n",
       "    </tr>\n",
       "    <tr>\n",
       "      <th>2</th>\n",
       "      <td>1972-03-01</td>\n",
       "      <td>146.221462</td>\n",
       "      <td>138.771375</td>\n",
       "      <td>155.440363</td>\n",
       "      <td>146.221462</td>\n",
       "      <td>146.221462</td>\n",
       "      <td>0.765935</td>\n",
       "      <td>0.765935</td>\n",
       "      <td>0.765935</td>\n",
       "      <td>0.765935</td>\n",
       "      <td>0.765935</td>\n",
       "      <td>0.765935</td>\n",
       "      <td>0.0</td>\n",
       "      <td>0.0</td>\n",
       "      <td>0.0</td>\n",
       "      <td>146.987397</td>\n",
       "    </tr>\n",
       "    <tr>\n",
       "      <th>3</th>\n",
       "      <td>1972-04-01</td>\n",
       "      <td>145.894485</td>\n",
       "      <td>137.378060</td>\n",
       "      <td>154.918698</td>\n",
       "      <td>145.894485</td>\n",
       "      <td>145.894485</td>\n",
       "      <td>0.363770</td>\n",
       "      <td>0.363770</td>\n",
       "      <td>0.363770</td>\n",
       "      <td>0.363770</td>\n",
       "      <td>0.363770</td>\n",
       "      <td>0.363770</td>\n",
       "      <td>0.0</td>\n",
       "      <td>0.0</td>\n",
       "      <td>0.0</td>\n",
       "      <td>146.258255</td>\n",
       "    </tr>\n",
       "    <tr>\n",
       "      <th>4</th>\n",
       "      <td>1972-05-01</td>\n",
       "      <td>145.578055</td>\n",
       "      <td>137.614547</td>\n",
       "      <td>154.545204</td>\n",
       "      <td>145.578055</td>\n",
       "      <td>145.578055</td>\n",
       "      <td>0.502202</td>\n",
       "      <td>0.502202</td>\n",
       "      <td>0.502202</td>\n",
       "      <td>0.502202</td>\n",
       "      <td>0.502202</td>\n",
       "      <td>0.502202</td>\n",
       "      <td>0.0</td>\n",
       "      <td>0.0</td>\n",
       "      <td>0.0</td>\n",
       "      <td>146.080258</td>\n",
       "    </tr>\n",
       "    <tr>\n",
       "      <th>5</th>\n",
       "      <td>1972-06-01</td>\n",
       "      <td>145.251078</td>\n",
       "      <td>136.819383</td>\n",
       "      <td>152.998311</td>\n",
       "      <td>145.251078</td>\n",
       "      <td>145.251078</td>\n",
       "      <td>-0.308489</td>\n",
       "      <td>-0.308489</td>\n",
       "      <td>-0.308489</td>\n",
       "      <td>-0.308489</td>\n",
       "      <td>-0.308489</td>\n",
       "      <td>-0.308489</td>\n",
       "      <td>0.0</td>\n",
       "      <td>0.0</td>\n",
       "      <td>0.0</td>\n",
       "      <td>144.942590</td>\n",
       "    </tr>\n",
       "    <tr>\n",
       "      <th>6</th>\n",
       "      <td>1972-07-01</td>\n",
       "      <td>144.934649</td>\n",
       "      <td>135.733269</td>\n",
       "      <td>152.790923</td>\n",
       "      <td>144.934649</td>\n",
       "      <td>144.934649</td>\n",
       "      <td>-0.390985</td>\n",
       "      <td>-0.390985</td>\n",
       "      <td>-0.390985</td>\n",
       "      <td>-0.390985</td>\n",
       "      <td>-0.390985</td>\n",
       "      <td>-0.390985</td>\n",
       "      <td>0.0</td>\n",
       "      <td>0.0</td>\n",
       "      <td>0.0</td>\n",
       "      <td>144.543664</td>\n",
       "    </tr>\n",
       "    <tr>\n",
       "      <th>7</th>\n",
       "      <td>1972-08-01</td>\n",
       "      <td>144.607672</td>\n",
       "      <td>134.796169</td>\n",
       "      <td>151.556714</td>\n",
       "      <td>144.607672</td>\n",
       "      <td>144.607672</td>\n",
       "      <td>-1.023214</td>\n",
       "      <td>-1.023214</td>\n",
       "      <td>-1.023214</td>\n",
       "      <td>-1.023214</td>\n",
       "      <td>-1.023214</td>\n",
       "      <td>-1.023214</td>\n",
       "      <td>0.0</td>\n",
       "      <td>0.0</td>\n",
       "      <td>0.0</td>\n",
       "      <td>143.584458</td>\n",
       "    </tr>\n",
       "    <tr>\n",
       "      <th>8</th>\n",
       "      <td>1972-09-01</td>\n",
       "      <td>144.280695</td>\n",
       "      <td>133.734127</td>\n",
       "      <td>151.049912</td>\n",
       "      <td>144.280695</td>\n",
       "      <td>144.280695</td>\n",
       "      <td>-1.809730</td>\n",
       "      <td>-1.809730</td>\n",
       "      <td>-1.809730</td>\n",
       "      <td>-1.809730</td>\n",
       "      <td>-1.809730</td>\n",
       "      <td>-1.809730</td>\n",
       "      <td>0.0</td>\n",
       "      <td>0.0</td>\n",
       "      <td>0.0</td>\n",
       "      <td>142.470965</td>\n",
       "    </tr>\n",
       "    <tr>\n",
       "      <th>9</th>\n",
       "      <td>1972-10-01</td>\n",
       "      <td>143.964266</td>\n",
       "      <td>135.624328</td>\n",
       "      <td>151.826105</td>\n",
       "      <td>143.964266</td>\n",
       "      <td>143.964266</td>\n",
       "      <td>-0.273564</td>\n",
       "      <td>-0.273564</td>\n",
       "      <td>-0.273564</td>\n",
       "      <td>-0.273564</td>\n",
       "      <td>-0.273564</td>\n",
       "      <td>-0.273564</td>\n",
       "      <td>0.0</td>\n",
       "      <td>0.0</td>\n",
       "      <td>0.0</td>\n",
       "      <td>143.690702</td>\n",
       "    </tr>\n",
       "    <tr>\n",
       "      <th>10</th>\n",
       "      <td>1972-11-01</td>\n",
       "      <td>143.637289</td>\n",
       "      <td>135.450609</td>\n",
       "      <td>152.223998</td>\n",
       "      <td>143.637289</td>\n",
       "      <td>143.637289</td>\n",
       "      <td>0.661604</td>\n",
       "      <td>0.661604</td>\n",
       "      <td>0.661604</td>\n",
       "      <td>0.661604</td>\n",
       "      <td>0.661604</td>\n",
       "      <td>0.661604</td>\n",
       "      <td>0.0</td>\n",
       "      <td>0.0</td>\n",
       "      <td>0.0</td>\n",
       "      <td>144.298893</td>\n",
       "    </tr>\n",
       "    <tr>\n",
       "      <th>11</th>\n",
       "      <td>1972-12-01</td>\n",
       "      <td>143.320860</td>\n",
       "      <td>135.817984</td>\n",
       "      <td>152.564110</td>\n",
       "      <td>143.320860</td>\n",
       "      <td>143.320860</td>\n",
       "      <td>0.706029</td>\n",
       "      <td>0.706029</td>\n",
       "      <td>0.706029</td>\n",
       "      <td>0.706029</td>\n",
       "      <td>0.706029</td>\n",
       "      <td>0.706029</td>\n",
       "      <td>0.0</td>\n",
       "      <td>0.0</td>\n",
       "      <td>0.0</td>\n",
       "      <td>144.026888</td>\n",
       "    </tr>\n",
       "    <tr>\n",
       "      <th>12</th>\n",
       "      <td>1973-01-01</td>\n",
       "      <td>142.993883</td>\n",
       "      <td>134.049743</td>\n",
       "      <td>151.057547</td>\n",
       "      <td>142.993883</td>\n",
       "      <td>142.993883</td>\n",
       "      <td>-0.300152</td>\n",
       "      <td>-0.300152</td>\n",
       "      <td>-0.300152</td>\n",
       "      <td>-0.300152</td>\n",
       "      <td>-0.300152</td>\n",
       "      <td>-0.300152</td>\n",
       "      <td>0.0</td>\n",
       "      <td>0.0</td>\n",
       "      <td>0.0</td>\n",
       "      <td>142.693731</td>\n",
       "    </tr>\n",
       "    <tr>\n",
       "      <th>13</th>\n",
       "      <td>1973-02-01</td>\n",
       "      <td>142.666906</td>\n",
       "      <td>135.440927</td>\n",
       "      <td>152.668844</td>\n",
       "      <td>142.666906</td>\n",
       "      <td>142.666906</td>\n",
       "      <td>1.165463</td>\n",
       "      <td>1.165463</td>\n",
       "      <td>1.165463</td>\n",
       "      <td>1.165463</td>\n",
       "      <td>1.165463</td>\n",
       "      <td>1.165463</td>\n",
       "      <td>0.0</td>\n",
       "      <td>0.0</td>\n",
       "      <td>0.0</td>\n",
       "      <td>143.832369</td>\n",
       "    </tr>\n",
       "    <tr>\n",
       "      <th>14</th>\n",
       "      <td>1973-03-01</td>\n",
       "      <td>142.371572</td>\n",
       "      <td>135.045315</td>\n",
       "      <td>151.789864</td>\n",
       "      <td>142.371572</td>\n",
       "      <td>142.371572</td>\n",
       "      <td>0.859365</td>\n",
       "      <td>0.859365</td>\n",
       "      <td>0.859365</td>\n",
       "      <td>0.859365</td>\n",
       "      <td>0.859365</td>\n",
       "      <td>0.859365</td>\n",
       "      <td>0.0</td>\n",
       "      <td>0.0</td>\n",
       "      <td>0.0</td>\n",
       "      <td>143.230937</td>\n",
       "    </tr>\n",
       "    <tr>\n",
       "      <th>15</th>\n",
       "      <td>1973-04-01</td>\n",
       "      <td>142.044595</td>\n",
       "      <td>133.824631</td>\n",
       "      <td>151.291142</td>\n",
       "      <td>142.044595</td>\n",
       "      <td>142.044595</td>\n",
       "      <td>0.626721</td>\n",
       "      <td>0.626721</td>\n",
       "      <td>0.626721</td>\n",
       "      <td>0.626721</td>\n",
       "      <td>0.626721</td>\n",
       "      <td>0.626721</td>\n",
       "      <td>0.0</td>\n",
       "      <td>0.0</td>\n",
       "      <td>0.0</td>\n",
       "      <td>142.671316</td>\n",
       "    </tr>\n",
       "    <tr>\n",
       "      <th>16</th>\n",
       "      <td>1973-05-01</td>\n",
       "      <td>141.728166</td>\n",
       "      <td>133.014331</td>\n",
       "      <td>150.206859</td>\n",
       "      <td>141.728166</td>\n",
       "      <td>141.728166</td>\n",
       "      <td>0.493654</td>\n",
       "      <td>0.493654</td>\n",
       "      <td>0.493654</td>\n",
       "      <td>0.493654</td>\n",
       "      <td>0.493654</td>\n",
       "      <td>0.493654</td>\n",
       "      <td>0.0</td>\n",
       "      <td>0.0</td>\n",
       "      <td>0.0</td>\n",
       "      <td>142.221820</td>\n",
       "    </tr>\n",
       "    <tr>\n",
       "      <th>17</th>\n",
       "      <td>1973-06-01</td>\n",
       "      <td>141.401189</td>\n",
       "      <td>132.535046</td>\n",
       "      <td>149.984181</td>\n",
       "      <td>141.401189</td>\n",
       "      <td>141.401189</td>\n",
       "      <td>-0.393932</td>\n",
       "      <td>-0.393932</td>\n",
       "      <td>-0.393932</td>\n",
       "      <td>-0.393932</td>\n",
       "      <td>-0.393932</td>\n",
       "      <td>-0.393932</td>\n",
       "      <td>0.0</td>\n",
       "      <td>0.0</td>\n",
       "      <td>0.0</td>\n",
       "      <td>141.007256</td>\n",
       "    </tr>\n",
       "    <tr>\n",
       "      <th>18</th>\n",
       "      <td>1973-07-01</td>\n",
       "      <td>141.084759</td>\n",
       "      <td>132.036462</td>\n",
       "      <td>148.246264</td>\n",
       "      <td>141.084759</td>\n",
       "      <td>141.084759</td>\n",
       "      <td>-0.728119</td>\n",
       "      <td>-0.728119</td>\n",
       "      <td>-0.728119</td>\n",
       "      <td>-0.728119</td>\n",
       "      <td>-0.728119</td>\n",
       "      <td>-0.728119</td>\n",
       "      <td>0.0</td>\n",
       "      <td>0.0</td>\n",
       "      <td>0.0</td>\n",
       "      <td>140.356640</td>\n",
       "    </tr>\n",
       "    <tr>\n",
       "      <th>19</th>\n",
       "      <td>1973-08-01</td>\n",
       "      <td>140.757798</td>\n",
       "      <td>131.865688</td>\n",
       "      <td>148.631122</td>\n",
       "      <td>140.757798</td>\n",
       "      <td>140.757798</td>\n",
       "      <td>-1.001755</td>\n",
       "      <td>-1.001755</td>\n",
       "      <td>-1.001755</td>\n",
       "      <td>-1.001755</td>\n",
       "      <td>-1.001755</td>\n",
       "      <td>-1.001755</td>\n",
       "      <td>0.0</td>\n",
       "      <td>0.0</td>\n",
       "      <td>0.0</td>\n",
       "      <td>139.756043</td>\n",
       "    </tr>\n",
       "    <tr>\n",
       "      <th>20</th>\n",
       "      <td>1973-09-01</td>\n",
       "      <td>140.430837</td>\n",
       "      <td>130.831038</td>\n",
       "      <td>147.519787</td>\n",
       "      <td>140.430837</td>\n",
       "      <td>140.430837</td>\n",
       "      <td>-1.529943</td>\n",
       "      <td>-1.529943</td>\n",
       "      <td>-1.529943</td>\n",
       "      <td>-1.529943</td>\n",
       "      <td>-1.529943</td>\n",
       "      <td>-1.529943</td>\n",
       "      <td>0.0</td>\n",
       "      <td>0.0</td>\n",
       "      <td>0.0</td>\n",
       "      <td>138.900894</td>\n",
       "    </tr>\n",
       "    <tr>\n",
       "      <th>21</th>\n",
       "      <td>1973-10-01</td>\n",
       "      <td>140.114423</td>\n",
       "      <td>131.392699</td>\n",
       "      <td>148.779465</td>\n",
       "      <td>140.114423</td>\n",
       "      <td>140.114423</td>\n",
       "      <td>-0.099471</td>\n",
       "      <td>-0.099471</td>\n",
       "      <td>-0.099471</td>\n",
       "      <td>-0.099471</td>\n",
       "      <td>-0.099471</td>\n",
       "      <td>-0.099471</td>\n",
       "      <td>0.0</td>\n",
       "      <td>0.0</td>\n",
       "      <td>0.0</td>\n",
       "      <td>140.014952</td>\n",
       "    </tr>\n",
       "    <tr>\n",
       "      <th>22</th>\n",
       "      <td>1973-11-01</td>\n",
       "      <td>139.787462</td>\n",
       "      <td>131.885597</td>\n",
       "      <td>148.436106</td>\n",
       "      <td>139.787462</td>\n",
       "      <td>139.787462</td>\n",
       "      <td>0.576472</td>\n",
       "      <td>0.576472</td>\n",
       "      <td>0.576472</td>\n",
       "      <td>0.576472</td>\n",
       "      <td>0.576472</td>\n",
       "      <td>0.576472</td>\n",
       "      <td>0.0</td>\n",
       "      <td>0.0</td>\n",
       "      <td>0.0</td>\n",
       "      <td>140.363933</td>\n",
       "    </tr>\n",
       "    <tr>\n",
       "      <th>23</th>\n",
       "      <td>1973-12-01</td>\n",
       "      <td>139.471047</td>\n",
       "      <td>131.137889</td>\n",
       "      <td>147.378772</td>\n",
       "      <td>139.471047</td>\n",
       "      <td>139.471047</td>\n",
       "      <td>0.434031</td>\n",
       "      <td>0.434031</td>\n",
       "      <td>0.434031</td>\n",
       "      <td>0.434031</td>\n",
       "      <td>0.434031</td>\n",
       "      <td>0.434031</td>\n",
       "      <td>0.0</td>\n",
       "      <td>0.0</td>\n",
       "      <td>0.0</td>\n",
       "      <td>139.905079</td>\n",
       "    </tr>\n",
       "    <tr>\n",
       "      <th>24</th>\n",
       "      <td>1974-01-01</td>\n",
       "      <td>139.144086</td>\n",
       "      <td>130.895609</td>\n",
       "      <td>146.903158</td>\n",
       "      <td>139.144086</td>\n",
       "      <td>139.144086</td>\n",
       "      <td>-0.166860</td>\n",
       "      <td>-0.166860</td>\n",
       "      <td>-0.166860</td>\n",
       "      <td>-0.166860</td>\n",
       "      <td>-0.166860</td>\n",
       "      <td>-0.166860</td>\n",
       "      <td>0.0</td>\n",
       "      <td>0.0</td>\n",
       "      <td>0.0</td>\n",
       "      <td>138.977226</td>\n",
       "    </tr>\n",
       "    <tr>\n",
       "      <th>25</th>\n",
       "      <td>1974-02-01</td>\n",
       "      <td>138.817125</td>\n",
       "      <td>131.345007</td>\n",
       "      <td>147.852218</td>\n",
       "      <td>138.817125</td>\n",
       "      <td>138.817125</td>\n",
       "      <td>0.986275</td>\n",
       "      <td>0.986275</td>\n",
       "      <td>0.986275</td>\n",
       "      <td>0.986275</td>\n",
       "      <td>0.986275</td>\n",
       "      <td>0.986275</td>\n",
       "      <td>0.0</td>\n",
       "      <td>0.0</td>\n",
       "      <td>0.0</td>\n",
       "      <td>139.803400</td>\n",
       "    </tr>\n",
       "    <tr>\n",
       "      <th>26</th>\n",
       "      <td>1974-03-01</td>\n",
       "      <td>138.521805</td>\n",
       "      <td>130.541276</td>\n",
       "      <td>147.729531</td>\n",
       "      <td>138.521805</td>\n",
       "      <td>138.521805</td>\n",
       "      <td>0.958087</td>\n",
       "      <td>0.958087</td>\n",
       "      <td>0.958087</td>\n",
       "      <td>0.958087</td>\n",
       "      <td>0.958087</td>\n",
       "      <td>0.958087</td>\n",
       "      <td>0.0</td>\n",
       "      <td>0.0</td>\n",
       "      <td>0.0</td>\n",
       "      <td>139.479892</td>\n",
       "    </tr>\n",
       "    <tr>\n",
       "      <th>27</th>\n",
       "      <td>1974-04-01</td>\n",
       "      <td>138.194844</td>\n",
       "      <td>130.713352</td>\n",
       "      <td>147.866277</td>\n",
       "      <td>138.194844</td>\n",
       "      <td>138.194844</td>\n",
       "      <td>0.887894</td>\n",
       "      <td>0.887894</td>\n",
       "      <td>0.887894</td>\n",
       "      <td>0.887894</td>\n",
       "      <td>0.887894</td>\n",
       "      <td>0.887894</td>\n",
       "      <td>0.0</td>\n",
       "      <td>0.0</td>\n",
       "      <td>0.0</td>\n",
       "      <td>139.082738</td>\n",
       "    </tr>\n",
       "    <tr>\n",
       "      <th>28</th>\n",
       "      <td>1974-05-01</td>\n",
       "      <td>137.878430</td>\n",
       "      <td>130.043276</td>\n",
       "      <td>146.720002</td>\n",
       "      <td>137.878430</td>\n",
       "      <td>137.878430</td>\n",
       "      <td>0.477775</td>\n",
       "      <td>0.477775</td>\n",
       "      <td>0.477775</td>\n",
       "      <td>0.477775</td>\n",
       "      <td>0.477775</td>\n",
       "      <td>0.477775</td>\n",
       "      <td>0.0</td>\n",
       "      <td>0.0</td>\n",
       "      <td>0.0</td>\n",
       "      <td>138.356204</td>\n",
       "    </tr>\n",
       "    <tr>\n",
       "      <th>29</th>\n",
       "      <td>1974-06-01</td>\n",
       "      <td>137.551469</td>\n",
       "      <td>128.234162</td>\n",
       "      <td>145.520482</td>\n",
       "      <td>137.551469</td>\n",
       "      <td>137.551469</td>\n",
       "      <td>-0.484995</td>\n",
       "      <td>-0.484995</td>\n",
       "      <td>-0.484995</td>\n",
       "      <td>-0.484995</td>\n",
       "      <td>-0.484995</td>\n",
       "      <td>-0.484995</td>\n",
       "      <td>0.0</td>\n",
       "      <td>0.0</td>\n",
       "      <td>0.0</td>\n",
       "      <td>137.066473</td>\n",
       "    </tr>\n",
       "    <tr>\n",
       "      <th>...</th>\n",
       "      <td>...</td>\n",
       "      <td>...</td>\n",
       "      <td>...</td>\n",
       "      <td>...</td>\n",
       "      <td>...</td>\n",
       "      <td>...</td>\n",
       "      <td>...</td>\n",
       "      <td>...</td>\n",
       "      <td>...</td>\n",
       "      <td>...</td>\n",
       "      <td>...</td>\n",
       "      <td>...</td>\n",
       "      <td>...</td>\n",
       "      <td>...</td>\n",
       "      <td>...</td>\n",
       "      <td>...</td>\n",
       "    </tr>\n",
       "    <tr>\n",
       "      <th>538</th>\n",
       "      <td>2016-11-01</td>\n",
       "      <td>144.507672</td>\n",
       "      <td>135.702972</td>\n",
       "      <td>153.875809</td>\n",
       "      <td>144.507672</td>\n",
       "      <td>144.507672</td>\n",
       "      <td>0.661604</td>\n",
       "      <td>0.661604</td>\n",
       "      <td>0.661604</td>\n",
       "      <td>0.661604</td>\n",
       "      <td>0.661604</td>\n",
       "      <td>0.661604</td>\n",
       "      <td>0.0</td>\n",
       "      <td>0.0</td>\n",
       "      <td>0.0</td>\n",
       "      <td>145.169276</td>\n",
       "    </tr>\n",
       "    <tr>\n",
       "      <th>539</th>\n",
       "      <td>2016-12-01</td>\n",
       "      <td>145.234413</td>\n",
       "      <td>137.505447</td>\n",
       "      <td>154.759250</td>\n",
       "      <td>145.234413</td>\n",
       "      <td>145.234413</td>\n",
       "      <td>0.706029</td>\n",
       "      <td>0.706029</td>\n",
       "      <td>0.706029</td>\n",
       "      <td>0.706029</td>\n",
       "      <td>0.706029</td>\n",
       "      <td>0.706029</td>\n",
       "      <td>0.0</td>\n",
       "      <td>0.0</td>\n",
       "      <td>0.0</td>\n",
       "      <td>145.940442</td>\n",
       "    </tr>\n",
       "    <tr>\n",
       "      <th>540</th>\n",
       "      <td>2017-01-01</td>\n",
       "      <td>145.985379</td>\n",
       "      <td>136.977991</td>\n",
       "      <td>154.409766</td>\n",
       "      <td>145.985379</td>\n",
       "      <td>145.985379</td>\n",
       "      <td>-0.300152</td>\n",
       "      <td>-0.300152</td>\n",
       "      <td>-0.300152</td>\n",
       "      <td>-0.300152</td>\n",
       "      <td>-0.300152</td>\n",
       "      <td>-0.300152</td>\n",
       "      <td>0.0</td>\n",
       "      <td>0.0</td>\n",
       "      <td>0.0</td>\n",
       "      <td>145.685228</td>\n",
       "    </tr>\n",
       "    <tr>\n",
       "      <th>541</th>\n",
       "      <td>2017-02-01</td>\n",
       "      <td>146.736345</td>\n",
       "      <td>139.354548</td>\n",
       "      <td>156.641090</td>\n",
       "      <td>146.736345</td>\n",
       "      <td>146.736345</td>\n",
       "      <td>1.165463</td>\n",
       "      <td>1.165463</td>\n",
       "      <td>1.165463</td>\n",
       "      <td>1.165463</td>\n",
       "      <td>1.165463</td>\n",
       "      <td>1.165463</td>\n",
       "      <td>0.0</td>\n",
       "      <td>0.0</td>\n",
       "      <td>0.0</td>\n",
       "      <td>147.901808</td>\n",
       "    </tr>\n",
       "    <tr>\n",
       "      <th>542</th>\n",
       "      <td>2017-03-01</td>\n",
       "      <td>147.414637</td>\n",
       "      <td>139.457957</td>\n",
       "      <td>156.613527</td>\n",
       "      <td>147.414637</td>\n",
       "      <td>147.414637</td>\n",
       "      <td>0.859365</td>\n",
       "      <td>0.859365</td>\n",
       "      <td>0.859365</td>\n",
       "      <td>0.859365</td>\n",
       "      <td>0.859365</td>\n",
       "      <td>0.859365</td>\n",
       "      <td>0.0</td>\n",
       "      <td>0.0</td>\n",
       "      <td>0.0</td>\n",
       "      <td>148.274002</td>\n",
       "    </tr>\n",
       "    <tr>\n",
       "      <th>543</th>\n",
       "      <td>2017-04-01</td>\n",
       "      <td>148.165603</td>\n",
       "      <td>141.171277</td>\n",
       "      <td>157.830431</td>\n",
       "      <td>148.165603</td>\n",
       "      <td>148.165603</td>\n",
       "      <td>0.626721</td>\n",
       "      <td>0.626721</td>\n",
       "      <td>0.626721</td>\n",
       "      <td>0.626721</td>\n",
       "      <td>0.626721</td>\n",
       "      <td>0.626721</td>\n",
       "      <td>0.0</td>\n",
       "      <td>0.0</td>\n",
       "      <td>0.0</td>\n",
       "      <td>148.792325</td>\n",
       "    </tr>\n",
       "    <tr>\n",
       "      <th>544</th>\n",
       "      <td>2017-05-01</td>\n",
       "      <td>148.892345</td>\n",
       "      <td>141.071576</td>\n",
       "      <td>157.835928</td>\n",
       "      <td>148.892345</td>\n",
       "      <td>148.892345</td>\n",
       "      <td>0.493654</td>\n",
       "      <td>0.493654</td>\n",
       "      <td>0.493654</td>\n",
       "      <td>0.493654</td>\n",
       "      <td>0.493654</td>\n",
       "      <td>0.493654</td>\n",
       "      <td>0.0</td>\n",
       "      <td>0.0</td>\n",
       "      <td>0.0</td>\n",
       "      <td>149.385999</td>\n",
       "    </tr>\n",
       "    <tr>\n",
       "      <th>545</th>\n",
       "      <td>2017-06-01</td>\n",
       "      <td>149.643311</td>\n",
       "      <td>140.938103</td>\n",
       "      <td>157.233628</td>\n",
       "      <td>149.643311</td>\n",
       "      <td>149.643311</td>\n",
       "      <td>-0.393932</td>\n",
       "      <td>-0.393932</td>\n",
       "      <td>-0.393932</td>\n",
       "      <td>-0.393932</td>\n",
       "      <td>-0.393932</td>\n",
       "      <td>-0.393932</td>\n",
       "      <td>0.0</td>\n",
       "      <td>0.0</td>\n",
       "      <td>0.0</td>\n",
       "      <td>149.249378</td>\n",
       "    </tr>\n",
       "    <tr>\n",
       "      <th>546</th>\n",
       "      <td>2017-07-01</td>\n",
       "      <td>150.370052</td>\n",
       "      <td>140.812926</td>\n",
       "      <td>157.877018</td>\n",
       "      <td>150.370052</td>\n",
       "      <td>150.370052</td>\n",
       "      <td>-0.728119</td>\n",
       "      <td>-0.728119</td>\n",
       "      <td>-0.728119</td>\n",
       "      <td>-0.728119</td>\n",
       "      <td>-0.728119</td>\n",
       "      <td>-0.728119</td>\n",
       "      <td>0.0</td>\n",
       "      <td>0.0</td>\n",
       "      <td>0.0</td>\n",
       "      <td>149.641933</td>\n",
       "    </tr>\n",
       "    <tr>\n",
       "      <th>547</th>\n",
       "      <td>2017-08-01</td>\n",
       "      <td>151.121018</td>\n",
       "      <td>140.952803</td>\n",
       "      <td>158.520899</td>\n",
       "      <td>151.121018</td>\n",
       "      <td>151.121018</td>\n",
       "      <td>-1.001755</td>\n",
       "      <td>-1.001755</td>\n",
       "      <td>-1.001755</td>\n",
       "      <td>-1.001755</td>\n",
       "      <td>-1.001755</td>\n",
       "      <td>-1.001755</td>\n",
       "      <td>0.0</td>\n",
       "      <td>0.0</td>\n",
       "      <td>0.0</td>\n",
       "      <td>150.119263</td>\n",
       "    </tr>\n",
       "    <tr>\n",
       "      <th>548</th>\n",
       "      <td>2017-09-01</td>\n",
       "      <td>151.871984</td>\n",
       "      <td>141.727924</td>\n",
       "      <td>159.138683</td>\n",
       "      <td>151.871984</td>\n",
       "      <td>151.871984</td>\n",
       "      <td>-1.529943</td>\n",
       "      <td>-1.529943</td>\n",
       "      <td>-1.529943</td>\n",
       "      <td>-1.529943</td>\n",
       "      <td>-1.529943</td>\n",
       "      <td>-1.529943</td>\n",
       "      <td>0.0</td>\n",
       "      <td>0.0</td>\n",
       "      <td>0.0</td>\n",
       "      <td>150.342042</td>\n",
       "    </tr>\n",
       "    <tr>\n",
       "      <th>549</th>\n",
       "      <td>2017-10-01</td>\n",
       "      <td>152.598726</td>\n",
       "      <td>143.700043</td>\n",
       "      <td>161.011147</td>\n",
       "      <td>152.598726</td>\n",
       "      <td>152.598726</td>\n",
       "      <td>-0.099471</td>\n",
       "      <td>-0.099471</td>\n",
       "      <td>-0.099471</td>\n",
       "      <td>-0.099471</td>\n",
       "      <td>-0.099471</td>\n",
       "      <td>-0.099471</td>\n",
       "      <td>0.0</td>\n",
       "      <td>0.0</td>\n",
       "      <td>0.0</td>\n",
       "      <td>152.499254</td>\n",
       "    </tr>\n",
       "    <tr>\n",
       "      <th>550</th>\n",
       "      <td>2017-11-01</td>\n",
       "      <td>153.349692</td>\n",
       "      <td>144.790267</td>\n",
       "      <td>162.591592</td>\n",
       "      <td>153.349692</td>\n",
       "      <td>153.349692</td>\n",
       "      <td>0.576472</td>\n",
       "      <td>0.576472</td>\n",
       "      <td>0.576472</td>\n",
       "      <td>0.576472</td>\n",
       "      <td>0.576472</td>\n",
       "      <td>0.576472</td>\n",
       "      <td>0.0</td>\n",
       "      <td>0.0</td>\n",
       "      <td>0.0</td>\n",
       "      <td>153.926164</td>\n",
       "    </tr>\n",
       "    <tr>\n",
       "      <th>551</th>\n",
       "      <td>2017-12-01</td>\n",
       "      <td>154.076433</td>\n",
       "      <td>146.177430</td>\n",
       "      <td>163.270817</td>\n",
       "      <td>154.076433</td>\n",
       "      <td>154.076433</td>\n",
       "      <td>0.434031</td>\n",
       "      <td>0.434031</td>\n",
       "      <td>0.434031</td>\n",
       "      <td>0.434031</td>\n",
       "      <td>0.434031</td>\n",
       "      <td>0.434031</td>\n",
       "      <td>0.0</td>\n",
       "      <td>0.0</td>\n",
       "      <td>0.0</td>\n",
       "      <td>154.510465</td>\n",
       "    </tr>\n",
       "    <tr>\n",
       "      <th>552</th>\n",
       "      <td>2018-01-01</td>\n",
       "      <td>154.827399</td>\n",
       "      <td>146.636017</td>\n",
       "      <td>162.954687</td>\n",
       "      <td>154.827399</td>\n",
       "      <td>154.827399</td>\n",
       "      <td>-0.166860</td>\n",
       "      <td>-0.166860</td>\n",
       "      <td>-0.166860</td>\n",
       "      <td>-0.166860</td>\n",
       "      <td>-0.166860</td>\n",
       "      <td>-0.166860</td>\n",
       "      <td>0.0</td>\n",
       "      <td>0.0</td>\n",
       "      <td>0.0</td>\n",
       "      <td>154.660539</td>\n",
       "    </tr>\n",
       "    <tr>\n",
       "      <th>553</th>\n",
       "      <td>2018-02-01</td>\n",
       "      <td>155.578365</td>\n",
       "      <td>148.555205</td>\n",
       "      <td>165.393838</td>\n",
       "      <td>155.578365</td>\n",
       "      <td>155.578365</td>\n",
       "      <td>0.986275</td>\n",
       "      <td>0.986275</td>\n",
       "      <td>0.986275</td>\n",
       "      <td>0.986275</td>\n",
       "      <td>0.986275</td>\n",
       "      <td>0.986275</td>\n",
       "      <td>0.0</td>\n",
       "      <td>0.0</td>\n",
       "      <td>0.0</td>\n",
       "      <td>156.564640</td>\n",
       "    </tr>\n",
       "    <tr>\n",
       "      <th>554</th>\n",
       "      <td>2018-03-01</td>\n",
       "      <td>156.256657</td>\n",
       "      <td>149.197977</td>\n",
       "      <td>165.953135</td>\n",
       "      <td>156.256657</td>\n",
       "      <td>156.256657</td>\n",
       "      <td>0.958087</td>\n",
       "      <td>0.958087</td>\n",
       "      <td>0.958087</td>\n",
       "      <td>0.958087</td>\n",
       "      <td>0.958087</td>\n",
       "      <td>0.958087</td>\n",
       "      <td>0.0</td>\n",
       "      <td>0.0</td>\n",
       "      <td>0.0</td>\n",
       "      <td>157.214744</td>\n",
       "    </tr>\n",
       "    <tr>\n",
       "      <th>555</th>\n",
       "      <td>2018-04-01</td>\n",
       "      <td>157.007623</td>\n",
       "      <td>149.694597</td>\n",
       "      <td>165.971643</td>\n",
       "      <td>157.007623</td>\n",
       "      <td>157.007623</td>\n",
       "      <td>0.887894</td>\n",
       "      <td>0.887894</td>\n",
       "      <td>0.887894</td>\n",
       "      <td>0.887894</td>\n",
       "      <td>0.887894</td>\n",
       "      <td>0.887894</td>\n",
       "      <td>0.0</td>\n",
       "      <td>0.0</td>\n",
       "      <td>0.0</td>\n",
       "      <td>157.895518</td>\n",
       "    </tr>\n",
       "    <tr>\n",
       "      <th>556</th>\n",
       "      <td>2018-05-01</td>\n",
       "      <td>157.734365</td>\n",
       "      <td>149.732251</td>\n",
       "      <td>166.564984</td>\n",
       "      <td>157.734365</td>\n",
       "      <td>157.734365</td>\n",
       "      <td>0.477775</td>\n",
       "      <td>0.477775</td>\n",
       "      <td>0.477775</td>\n",
       "      <td>0.477775</td>\n",
       "      <td>0.477775</td>\n",
       "      <td>0.477775</td>\n",
       "      <td>0.0</td>\n",
       "      <td>0.0</td>\n",
       "      <td>0.0</td>\n",
       "      <td>158.212139</td>\n",
       "    </tr>\n",
       "    <tr>\n",
       "      <th>557</th>\n",
       "      <td>2018-06-01</td>\n",
       "      <td>158.485331</td>\n",
       "      <td>149.828295</td>\n",
       "      <td>166.737028</td>\n",
       "      <td>158.474643</td>\n",
       "      <td>158.519813</td>\n",
       "      <td>-0.484995</td>\n",
       "      <td>-0.484995</td>\n",
       "      <td>-0.484995</td>\n",
       "      <td>-0.484995</td>\n",
       "      <td>-0.484995</td>\n",
       "      <td>-0.484995</td>\n",
       "      <td>0.0</td>\n",
       "      <td>0.0</td>\n",
       "      <td>0.0</td>\n",
       "      <td>158.000336</td>\n",
       "    </tr>\n",
       "    <tr>\n",
       "      <th>558</th>\n",
       "      <td>2018-07-01</td>\n",
       "      <td>159.212072</td>\n",
       "      <td>149.385330</td>\n",
       "      <td>167.071330</td>\n",
       "      <td>159.141859</td>\n",
       "      <td>159.305125</td>\n",
       "      <td>-1.061562</td>\n",
       "      <td>-1.061562</td>\n",
       "      <td>-1.061562</td>\n",
       "      <td>-1.061562</td>\n",
       "      <td>-1.061562</td>\n",
       "      <td>-1.061562</td>\n",
       "      <td>0.0</td>\n",
       "      <td>0.0</td>\n",
       "      <td>0.0</td>\n",
       "      <td>158.150510</td>\n",
       "    </tr>\n",
       "    <tr>\n",
       "      <th>559</th>\n",
       "      <td>2018-08-01</td>\n",
       "      <td>159.963038</td>\n",
       "      <td>150.395223</td>\n",
       "      <td>167.530960</td>\n",
       "      <td>159.809317</td>\n",
       "      <td>160.129058</td>\n",
       "      <td>-0.969673</td>\n",
       "      <td>-0.969673</td>\n",
       "      <td>-0.969673</td>\n",
       "      <td>-0.969673</td>\n",
       "      <td>-0.969673</td>\n",
       "      <td>-0.969673</td>\n",
       "      <td>0.0</td>\n",
       "      <td>0.0</td>\n",
       "      <td>0.0</td>\n",
       "      <td>158.993366</td>\n",
       "    </tr>\n",
       "    <tr>\n",
       "      <th>560</th>\n",
       "      <td>2018-09-01</td>\n",
       "      <td>160.714004</td>\n",
       "      <td>151.080925</td>\n",
       "      <td>167.659766</td>\n",
       "      <td>160.474094</td>\n",
       "      <td>160.976815</td>\n",
       "      <td>-1.245927</td>\n",
       "      <td>-1.245927</td>\n",
       "      <td>-1.245927</td>\n",
       "      <td>-1.245927</td>\n",
       "      <td>-1.245927</td>\n",
       "      <td>-1.245927</td>\n",
       "      <td>0.0</td>\n",
       "      <td>0.0</td>\n",
       "      <td>0.0</td>\n",
       "      <td>159.468077</td>\n",
       "    </tr>\n",
       "    <tr>\n",
       "      <th>561</th>\n",
       "      <td>2018-10-01</td>\n",
       "      <td>161.440746</td>\n",
       "      <td>153.084931</td>\n",
       "      <td>169.495190</td>\n",
       "      <td>161.126779</td>\n",
       "      <td>161.796895</td>\n",
       "      <td>0.067984</td>\n",
       "      <td>0.067984</td>\n",
       "      <td>0.067984</td>\n",
       "      <td>0.067984</td>\n",
       "      <td>0.067984</td>\n",
       "      <td>0.067984</td>\n",
       "      <td>0.0</td>\n",
       "      <td>0.0</td>\n",
       "      <td>0.0</td>\n",
       "      <td>161.508729</td>\n",
       "    </tr>\n",
       "    <tr>\n",
       "      <th>562</th>\n",
       "      <td>2018-11-01</td>\n",
       "      <td>162.191712</td>\n",
       "      <td>153.845602</td>\n",
       "      <td>170.611450</td>\n",
       "      <td>161.795124</td>\n",
       "      <td>162.713885</td>\n",
       "      <td>0.483324</td>\n",
       "      <td>0.483324</td>\n",
       "      <td>0.483324</td>\n",
       "      <td>0.483324</td>\n",
       "      <td>0.483324</td>\n",
       "      <td>0.483324</td>\n",
       "      <td>0.0</td>\n",
       "      <td>0.0</td>\n",
       "      <td>0.0</td>\n",
       "      <td>162.675036</td>\n",
       "    </tr>\n",
       "    <tr>\n",
       "      <th>563</th>\n",
       "      <td>2018-12-01</td>\n",
       "      <td>162.918453</td>\n",
       "      <td>154.038905</td>\n",
       "      <td>171.801983</td>\n",
       "      <td>162.419179</td>\n",
       "      <td>163.547556</td>\n",
       "      <td>0.163349</td>\n",
       "      <td>0.163349</td>\n",
       "      <td>0.163349</td>\n",
       "      <td>0.163349</td>\n",
       "      <td>0.163349</td>\n",
       "      <td>0.163349</td>\n",
       "      <td>0.0</td>\n",
       "      <td>0.0</td>\n",
       "      <td>0.0</td>\n",
       "      <td>163.081802</td>\n",
       "    </tr>\n",
       "    <tr>\n",
       "      <th>564</th>\n",
       "      <td>2019-01-01</td>\n",
       "      <td>163.669419</td>\n",
       "      <td>155.435184</td>\n",
       "      <td>171.918269</td>\n",
       "      <td>163.084343</td>\n",
       "      <td>164.428936</td>\n",
       "      <td>-0.030962</td>\n",
       "      <td>-0.030962</td>\n",
       "      <td>-0.030962</td>\n",
       "      <td>-0.030962</td>\n",
       "      <td>-0.030962</td>\n",
       "      <td>-0.030962</td>\n",
       "      <td>0.0</td>\n",
       "      <td>0.0</td>\n",
       "      <td>0.0</td>\n",
       "      <td>163.638457</td>\n",
       "    </tr>\n",
       "    <tr>\n",
       "      <th>565</th>\n",
       "      <td>2019-02-01</td>\n",
       "      <td>164.420385</td>\n",
       "      <td>156.914071</td>\n",
       "      <td>173.557848</td>\n",
       "      <td>163.749460</td>\n",
       "      <td>165.321350</td>\n",
       "      <td>0.808458</td>\n",
       "      <td>0.808458</td>\n",
       "      <td>0.808458</td>\n",
       "      <td>0.808458</td>\n",
       "      <td>0.808458</td>\n",
       "      <td>0.808458</td>\n",
       "      <td>0.0</td>\n",
       "      <td>0.0</td>\n",
       "      <td>0.0</td>\n",
       "      <td>165.228843</td>\n",
       "    </tr>\n",
       "    <tr>\n",
       "      <th>566</th>\n",
       "      <td>2019-03-01</td>\n",
       "      <td>165.098677</td>\n",
       "      <td>157.725910</td>\n",
       "      <td>173.913398</td>\n",
       "      <td>164.308725</td>\n",
       "      <td>166.125712</td>\n",
       "      <td>1.061923</td>\n",
       "      <td>1.061923</td>\n",
       "      <td>1.061923</td>\n",
       "      <td>1.061923</td>\n",
       "      <td>1.061923</td>\n",
       "      <td>1.061923</td>\n",
       "      <td>0.0</td>\n",
       "      <td>0.0</td>\n",
       "      <td>0.0</td>\n",
       "      <td>166.160600</td>\n",
       "    </tr>\n",
       "    <tr>\n",
       "      <th>567</th>\n",
       "      <td>2019-04-01</td>\n",
       "      <td>165.849643</td>\n",
       "      <td>158.089236</td>\n",
       "      <td>175.752528</td>\n",
       "      <td>164.904925</td>\n",
       "      <td>167.015415</td>\n",
       "      <td>1.146944</td>\n",
       "      <td>1.146944</td>\n",
       "      <td>1.146944</td>\n",
       "      <td>1.146944</td>\n",
       "      <td>1.146944</td>\n",
       "      <td>1.146944</td>\n",
       "      <td>0.0</td>\n",
       "      <td>0.0</td>\n",
       "      <td>0.0</td>\n",
       "      <td>166.996587</td>\n",
       "    </tr>\n",
       "  </tbody>\n",
       "</table>\n",
       "<p>568 rows × 16 columns</p>\n",
       "</div>"
      ],
      "text/plain": [
       "            ds       trend  yhat_lower  yhat_upper  trend_lower  trend_upper  \\\n",
       "0   1972-01-01  146.854320  139.032016  156.092119   146.854320   146.854320   \n",
       "1   1972-02-01  146.527343  138.841021  154.724802   146.527343   146.527343   \n",
       "2   1972-03-01  146.221462  138.771375  155.440363   146.221462   146.221462   \n",
       "3   1972-04-01  145.894485  137.378060  154.918698   145.894485   145.894485   \n",
       "4   1972-05-01  145.578055  137.614547  154.545204   145.578055   145.578055   \n",
       "5   1972-06-01  145.251078  136.819383  152.998311   145.251078   145.251078   \n",
       "6   1972-07-01  144.934649  135.733269  152.790923   144.934649   144.934649   \n",
       "7   1972-08-01  144.607672  134.796169  151.556714   144.607672   144.607672   \n",
       "8   1972-09-01  144.280695  133.734127  151.049912   144.280695   144.280695   \n",
       "9   1972-10-01  143.964266  135.624328  151.826105   143.964266   143.964266   \n",
       "10  1972-11-01  143.637289  135.450609  152.223998   143.637289   143.637289   \n",
       "11  1972-12-01  143.320860  135.817984  152.564110   143.320860   143.320860   \n",
       "12  1973-01-01  142.993883  134.049743  151.057547   142.993883   142.993883   \n",
       "13  1973-02-01  142.666906  135.440927  152.668844   142.666906   142.666906   \n",
       "14  1973-03-01  142.371572  135.045315  151.789864   142.371572   142.371572   \n",
       "15  1973-04-01  142.044595  133.824631  151.291142   142.044595   142.044595   \n",
       "16  1973-05-01  141.728166  133.014331  150.206859   141.728166   141.728166   \n",
       "17  1973-06-01  141.401189  132.535046  149.984181   141.401189   141.401189   \n",
       "18  1973-07-01  141.084759  132.036462  148.246264   141.084759   141.084759   \n",
       "19  1973-08-01  140.757798  131.865688  148.631122   140.757798   140.757798   \n",
       "20  1973-09-01  140.430837  130.831038  147.519787   140.430837   140.430837   \n",
       "21  1973-10-01  140.114423  131.392699  148.779465   140.114423   140.114423   \n",
       "22  1973-11-01  139.787462  131.885597  148.436106   139.787462   139.787462   \n",
       "23  1973-12-01  139.471047  131.137889  147.378772   139.471047   139.471047   \n",
       "24  1974-01-01  139.144086  130.895609  146.903158   139.144086   139.144086   \n",
       "25  1974-02-01  138.817125  131.345007  147.852218   138.817125   138.817125   \n",
       "26  1974-03-01  138.521805  130.541276  147.729531   138.521805   138.521805   \n",
       "27  1974-04-01  138.194844  130.713352  147.866277   138.194844   138.194844   \n",
       "28  1974-05-01  137.878430  130.043276  146.720002   137.878430   137.878430   \n",
       "29  1974-06-01  137.551469  128.234162  145.520482   137.551469   137.551469   \n",
       "..         ...         ...         ...         ...          ...          ...   \n",
       "538 2016-11-01  144.507672  135.702972  153.875809   144.507672   144.507672   \n",
       "539 2016-12-01  145.234413  137.505447  154.759250   145.234413   145.234413   \n",
       "540 2017-01-01  145.985379  136.977991  154.409766   145.985379   145.985379   \n",
       "541 2017-02-01  146.736345  139.354548  156.641090   146.736345   146.736345   \n",
       "542 2017-03-01  147.414637  139.457957  156.613527   147.414637   147.414637   \n",
       "543 2017-04-01  148.165603  141.171277  157.830431   148.165603   148.165603   \n",
       "544 2017-05-01  148.892345  141.071576  157.835928   148.892345   148.892345   \n",
       "545 2017-06-01  149.643311  140.938103  157.233628   149.643311   149.643311   \n",
       "546 2017-07-01  150.370052  140.812926  157.877018   150.370052   150.370052   \n",
       "547 2017-08-01  151.121018  140.952803  158.520899   151.121018   151.121018   \n",
       "548 2017-09-01  151.871984  141.727924  159.138683   151.871984   151.871984   \n",
       "549 2017-10-01  152.598726  143.700043  161.011147   152.598726   152.598726   \n",
       "550 2017-11-01  153.349692  144.790267  162.591592   153.349692   153.349692   \n",
       "551 2017-12-01  154.076433  146.177430  163.270817   154.076433   154.076433   \n",
       "552 2018-01-01  154.827399  146.636017  162.954687   154.827399   154.827399   \n",
       "553 2018-02-01  155.578365  148.555205  165.393838   155.578365   155.578365   \n",
       "554 2018-03-01  156.256657  149.197977  165.953135   156.256657   156.256657   \n",
       "555 2018-04-01  157.007623  149.694597  165.971643   157.007623   157.007623   \n",
       "556 2018-05-01  157.734365  149.732251  166.564984   157.734365   157.734365   \n",
       "557 2018-06-01  158.485331  149.828295  166.737028   158.474643   158.519813   \n",
       "558 2018-07-01  159.212072  149.385330  167.071330   159.141859   159.305125   \n",
       "559 2018-08-01  159.963038  150.395223  167.530960   159.809317   160.129058   \n",
       "560 2018-09-01  160.714004  151.080925  167.659766   160.474094   160.976815   \n",
       "561 2018-10-01  161.440746  153.084931  169.495190   161.126779   161.796895   \n",
       "562 2018-11-01  162.191712  153.845602  170.611450   161.795124   162.713885   \n",
       "563 2018-12-01  162.918453  154.038905  171.801983   162.419179   163.547556   \n",
       "564 2019-01-01  163.669419  155.435184  171.918269   163.084343   164.428936   \n",
       "565 2019-02-01  164.420385  156.914071  173.557848   163.749460   165.321350   \n",
       "566 2019-03-01  165.098677  157.725910  173.913398   164.308725   166.125712   \n",
       "567 2019-04-01  165.849643  158.089236  175.752528   164.904925   167.015415   \n",
       "\n",
       "     additive_terms  additive_terms_lower  additive_terms_upper    yearly  \\\n",
       "0          0.107527              0.107527              0.107527  0.107527   \n",
       "1          0.632175              0.632175              0.632175  0.632175   \n",
       "2          0.765935              0.765935              0.765935  0.765935   \n",
       "3          0.363770              0.363770              0.363770  0.363770   \n",
       "4          0.502202              0.502202              0.502202  0.502202   \n",
       "5         -0.308489             -0.308489             -0.308489 -0.308489   \n",
       "6         -0.390985             -0.390985             -0.390985 -0.390985   \n",
       "7         -1.023214             -1.023214             -1.023214 -1.023214   \n",
       "8         -1.809730             -1.809730             -1.809730 -1.809730   \n",
       "9         -0.273564             -0.273564             -0.273564 -0.273564   \n",
       "10         0.661604              0.661604              0.661604  0.661604   \n",
       "11         0.706029              0.706029              0.706029  0.706029   \n",
       "12        -0.300152             -0.300152             -0.300152 -0.300152   \n",
       "13         1.165463              1.165463              1.165463  1.165463   \n",
       "14         0.859365              0.859365              0.859365  0.859365   \n",
       "15         0.626721              0.626721              0.626721  0.626721   \n",
       "16         0.493654              0.493654              0.493654  0.493654   \n",
       "17        -0.393932             -0.393932             -0.393932 -0.393932   \n",
       "18        -0.728119             -0.728119             -0.728119 -0.728119   \n",
       "19        -1.001755             -1.001755             -1.001755 -1.001755   \n",
       "20        -1.529943             -1.529943             -1.529943 -1.529943   \n",
       "21        -0.099471             -0.099471             -0.099471 -0.099471   \n",
       "22         0.576472              0.576472              0.576472  0.576472   \n",
       "23         0.434031              0.434031              0.434031  0.434031   \n",
       "24        -0.166860             -0.166860             -0.166860 -0.166860   \n",
       "25         0.986275              0.986275              0.986275  0.986275   \n",
       "26         0.958087              0.958087              0.958087  0.958087   \n",
       "27         0.887894              0.887894              0.887894  0.887894   \n",
       "28         0.477775              0.477775              0.477775  0.477775   \n",
       "29        -0.484995             -0.484995             -0.484995 -0.484995   \n",
       "..              ...                   ...                   ...       ...   \n",
       "538        0.661604              0.661604              0.661604  0.661604   \n",
       "539        0.706029              0.706029              0.706029  0.706029   \n",
       "540       -0.300152             -0.300152             -0.300152 -0.300152   \n",
       "541        1.165463              1.165463              1.165463  1.165463   \n",
       "542        0.859365              0.859365              0.859365  0.859365   \n",
       "543        0.626721              0.626721              0.626721  0.626721   \n",
       "544        0.493654              0.493654              0.493654  0.493654   \n",
       "545       -0.393932             -0.393932             -0.393932 -0.393932   \n",
       "546       -0.728119             -0.728119             -0.728119 -0.728119   \n",
       "547       -1.001755             -1.001755             -1.001755 -1.001755   \n",
       "548       -1.529943             -1.529943             -1.529943 -1.529943   \n",
       "549       -0.099471             -0.099471             -0.099471 -0.099471   \n",
       "550        0.576472              0.576472              0.576472  0.576472   \n",
       "551        0.434031              0.434031              0.434031  0.434031   \n",
       "552       -0.166860             -0.166860             -0.166860 -0.166860   \n",
       "553        0.986275              0.986275              0.986275  0.986275   \n",
       "554        0.958087              0.958087              0.958087  0.958087   \n",
       "555        0.887894              0.887894              0.887894  0.887894   \n",
       "556        0.477775              0.477775              0.477775  0.477775   \n",
       "557       -0.484995             -0.484995             -0.484995 -0.484995   \n",
       "558       -1.061562             -1.061562             -1.061562 -1.061562   \n",
       "559       -0.969673             -0.969673             -0.969673 -0.969673   \n",
       "560       -1.245927             -1.245927             -1.245927 -1.245927   \n",
       "561        0.067984              0.067984              0.067984  0.067984   \n",
       "562        0.483324              0.483324              0.483324  0.483324   \n",
       "563        0.163349              0.163349              0.163349  0.163349   \n",
       "564       -0.030962             -0.030962             -0.030962 -0.030962   \n",
       "565        0.808458              0.808458              0.808458  0.808458   \n",
       "566        1.061923              1.061923              1.061923  1.061923   \n",
       "567        1.146944              1.146944              1.146944  1.146944   \n",
       "\n",
       "     yearly_lower  yearly_upper  multiplicative_terms  \\\n",
       "0        0.107527      0.107527                   0.0   \n",
       "1        0.632175      0.632175                   0.0   \n",
       "2        0.765935      0.765935                   0.0   \n",
       "3        0.363770      0.363770                   0.0   \n",
       "4        0.502202      0.502202                   0.0   \n",
       "5       -0.308489     -0.308489                   0.0   \n",
       "6       -0.390985     -0.390985                   0.0   \n",
       "7       -1.023214     -1.023214                   0.0   \n",
       "8       -1.809730     -1.809730                   0.0   \n",
       "9       -0.273564     -0.273564                   0.0   \n",
       "10       0.661604      0.661604                   0.0   \n",
       "11       0.706029      0.706029                   0.0   \n",
       "12      -0.300152     -0.300152                   0.0   \n",
       "13       1.165463      1.165463                   0.0   \n",
       "14       0.859365      0.859365                   0.0   \n",
       "15       0.626721      0.626721                   0.0   \n",
       "16       0.493654      0.493654                   0.0   \n",
       "17      -0.393932     -0.393932                   0.0   \n",
       "18      -0.728119     -0.728119                   0.0   \n",
       "19      -1.001755     -1.001755                   0.0   \n",
       "20      -1.529943     -1.529943                   0.0   \n",
       "21      -0.099471     -0.099471                   0.0   \n",
       "22       0.576472      0.576472                   0.0   \n",
       "23       0.434031      0.434031                   0.0   \n",
       "24      -0.166860     -0.166860                   0.0   \n",
       "25       0.986275      0.986275                   0.0   \n",
       "26       0.958087      0.958087                   0.0   \n",
       "27       0.887894      0.887894                   0.0   \n",
       "28       0.477775      0.477775                   0.0   \n",
       "29      -0.484995     -0.484995                   0.0   \n",
       "..            ...           ...                   ...   \n",
       "538      0.661604      0.661604                   0.0   \n",
       "539      0.706029      0.706029                   0.0   \n",
       "540     -0.300152     -0.300152                   0.0   \n",
       "541      1.165463      1.165463                   0.0   \n",
       "542      0.859365      0.859365                   0.0   \n",
       "543      0.626721      0.626721                   0.0   \n",
       "544      0.493654      0.493654                   0.0   \n",
       "545     -0.393932     -0.393932                   0.0   \n",
       "546     -0.728119     -0.728119                   0.0   \n",
       "547     -1.001755     -1.001755                   0.0   \n",
       "548     -1.529943     -1.529943                   0.0   \n",
       "549     -0.099471     -0.099471                   0.0   \n",
       "550      0.576472      0.576472                   0.0   \n",
       "551      0.434031      0.434031                   0.0   \n",
       "552     -0.166860     -0.166860                   0.0   \n",
       "553      0.986275      0.986275                   0.0   \n",
       "554      0.958087      0.958087                   0.0   \n",
       "555      0.887894      0.887894                   0.0   \n",
       "556      0.477775      0.477775                   0.0   \n",
       "557     -0.484995     -0.484995                   0.0   \n",
       "558     -1.061562     -1.061562                   0.0   \n",
       "559     -0.969673     -0.969673                   0.0   \n",
       "560     -1.245927     -1.245927                   0.0   \n",
       "561      0.067984      0.067984                   0.0   \n",
       "562      0.483324      0.483324                   0.0   \n",
       "563      0.163349      0.163349                   0.0   \n",
       "564     -0.030962     -0.030962                   0.0   \n",
       "565      0.808458      0.808458                   0.0   \n",
       "566      1.061923      1.061923                   0.0   \n",
       "567      1.146944      1.146944                   0.0   \n",
       "\n",
       "     multiplicative_terms_lower  multiplicative_terms_upper        yhat  \n",
       "0                           0.0                         0.0  146.961847  \n",
       "1                           0.0                         0.0  147.159518  \n",
       "2                           0.0                         0.0  146.987397  \n",
       "3                           0.0                         0.0  146.258255  \n",
       "4                           0.0                         0.0  146.080258  \n",
       "5                           0.0                         0.0  144.942590  \n",
       "6                           0.0                         0.0  144.543664  \n",
       "7                           0.0                         0.0  143.584458  \n",
       "8                           0.0                         0.0  142.470965  \n",
       "9                           0.0                         0.0  143.690702  \n",
       "10                          0.0                         0.0  144.298893  \n",
       "11                          0.0                         0.0  144.026888  \n",
       "12                          0.0                         0.0  142.693731  \n",
       "13                          0.0                         0.0  143.832369  \n",
       "14                          0.0                         0.0  143.230937  \n",
       "15                          0.0                         0.0  142.671316  \n",
       "16                          0.0                         0.0  142.221820  \n",
       "17                          0.0                         0.0  141.007256  \n",
       "18                          0.0                         0.0  140.356640  \n",
       "19                          0.0                         0.0  139.756043  \n",
       "20                          0.0                         0.0  138.900894  \n",
       "21                          0.0                         0.0  140.014952  \n",
       "22                          0.0                         0.0  140.363933  \n",
       "23                          0.0                         0.0  139.905079  \n",
       "24                          0.0                         0.0  138.977226  \n",
       "25                          0.0                         0.0  139.803400  \n",
       "26                          0.0                         0.0  139.479892  \n",
       "27                          0.0                         0.0  139.082738  \n",
       "28                          0.0                         0.0  138.356204  \n",
       "29                          0.0                         0.0  137.066473  \n",
       "..                          ...                         ...         ...  \n",
       "538                         0.0                         0.0  145.169276  \n",
       "539                         0.0                         0.0  145.940442  \n",
       "540                         0.0                         0.0  145.685228  \n",
       "541                         0.0                         0.0  147.901808  \n",
       "542                         0.0                         0.0  148.274002  \n",
       "543                         0.0                         0.0  148.792325  \n",
       "544                         0.0                         0.0  149.385999  \n",
       "545                         0.0                         0.0  149.249378  \n",
       "546                         0.0                         0.0  149.641933  \n",
       "547                         0.0                         0.0  150.119263  \n",
       "548                         0.0                         0.0  150.342042  \n",
       "549                         0.0                         0.0  152.499254  \n",
       "550                         0.0                         0.0  153.926164  \n",
       "551                         0.0                         0.0  154.510465  \n",
       "552                         0.0                         0.0  154.660539  \n",
       "553                         0.0                         0.0  156.564640  \n",
       "554                         0.0                         0.0  157.214744  \n",
       "555                         0.0                         0.0  157.895518  \n",
       "556                         0.0                         0.0  158.212139  \n",
       "557                         0.0                         0.0  158.000336  \n",
       "558                         0.0                         0.0  158.150510  \n",
       "559                         0.0                         0.0  158.993366  \n",
       "560                         0.0                         0.0  159.468077  \n",
       "561                         0.0                         0.0  161.508729  \n",
       "562                         0.0                         0.0  162.675036  \n",
       "563                         0.0                         0.0  163.081802  \n",
       "564                         0.0                         0.0  163.638457  \n",
       "565                         0.0                         0.0  165.228843  \n",
       "566                         0.0                         0.0  166.160600  \n",
       "567                         0.0                         0.0  166.996587  \n",
       "\n",
       "[568 rows x 16 columns]"
      ]
     },
     "execution_count": 109,
     "metadata": {},
     "output_type": "execute_result"
    }
   ],
   "source": [
    "forecast"
   ]
  },
  {
   "cell_type": "markdown",
   "metadata": {},
   "source": [
    "### Root mean square error for model\n",
    "1. we use statsmodels rmse error to find out error from both the results\n",
    "2. its look like 15.75 is quite high rmse score  , means our model has predicted results but it is quire expensive and not accurate"
   ]
  },
  {
   "cell_type": "code",
   "execution_count": 110,
   "metadata": {},
   "outputs": [
    {
     "data": {
      "text/plain": [
       "15.75445809633732"
      ]
     },
     "execution_count": 110,
     "metadata": {},
     "output_type": "execute_result"
    }
   ],
   "source": [
    "prediction=forecast[-12:]['yhat']\n",
    "rmse(prediction,test['y'])"
   ]
  },
  {
   "cell_type": "markdown",
   "metadata": {},
   "source": [
    "1. from below visualization we can easily find that we get the difference berween actual & Predicted forecast\n",
    "2. Our actual data is slightly higher than predicted data."
   ]
  },
  {
   "cell_type": "code",
   "execution_count": 111,
   "metadata": {},
   "outputs": [
    {
     "data": {
      "text/plain": [
       "<matplotlib.axes._subplots.AxesSubplot at 0x9b358f0198>"
      ]
     },
     "execution_count": 111,
     "metadata": {},
     "output_type": "execute_result"
    },
    {
     "data": {
      "image/png": "[encoded data removed]",
      "text/plain": [
       "<Figure size 864x360 with 1 Axes>"
      ]
     },
     "metadata": {
      "needs_background": "light"
     },
     "output_type": "display_data"
    }
   ],
   "source": [
    "ax=forecast.plot(x='ds',y='yhat',label='forcasted',figsize=(12,5))\n",
    "test.plot(x='ds',y='y',ax=ax,label='actual',xlim=('2018-04-01','2019-04-01'))"
   ]
  },
  {
   "cell_type": "markdown",
   "metadata": {},
   "source": [
    "1. from earlier plot results, we observe some seasonality , to check it we will add one more componenets , as seasonality_mode='multiplicative ' and check the results of model\n",
    "2. still the rmse is almost close with previous results so , we can finalize the model without seasonality"
   ]
  },
  {
   "cell_type": "code",
   "execution_count": 112,
   "metadata": {},
   "outputs": [
    {
     "name": "stderr",
     "output_type": "stream",
     "text": [
      "INFO:fbprophet:Disabling weekly seasonality. Run prophet with weekly_seasonality=True to override this.\n",
      "INFO:fbprophet:Disabling daily seasonality. Run prophet with daily_seasonality=True to override this.\n"
     ]
    }
   ],
   "source": [
    "crude1=Prophet(seasonality_mode='multiplicative',interval_width=0.95)\n",
    "crude1.fit(train)\n",
    "future1=crude1.make_future_dataframe(12,freq='MS')\n",
    "forecast1=crude1.predict(future1)"
   ]
  },
  {
   "cell_type": "code",
   "execution_count": 113,
   "metadata": {},
   "outputs": [
    {
     "data": {
      "text/plain": [
       "15.577087675889885"
      ]
     },
     "execution_count": 113,
     "metadata": {},
     "output_type": "execute_result"
    }
   ],
   "source": [
    "prediction1=forecast1[-12:]['yhat']\n",
    "rmse(prediction1,test['y'])"
   ]
  },
  {
   "cell_type": "code",
   "execution_count": 114,
   "metadata": {},
   "outputs": [
    {
     "data": {
      "image/png": "[encoded data removed]",
      "text/plain": [
       "<Figure size 648x432 with 2 Axes>"
      ]
     },
     "metadata": {},
     "output_type": "display_data"
    }
   ],
   "source": [
    "fig=crude1.plot_components(forecast1)"
   ]
  },
  {
   "cell_type": "code",
   "execution_count": 115,
   "metadata": {},
   "outputs": [
    {
     "data": {
      "image/png": "[encoded data removed]",
      "text/plain": [
       "<Figure size 720x432 with 1 Axes>"
      ]
     },
     "metadata": {},
     "output_type": "display_data"
    }
   ],
   "source": [
    "fig=crude1.plot(forecast1)"
   ]
  },
  {
   "cell_type": "code",
   "execution_count": 116,
   "metadata": {},
   "outputs": [
    {
     "data": {
      "image/png": "[encoded data removed]",
      "text/plain": [
       "<Figure size 720x432 with 1 Axes>"
      ]
     },
     "metadata": {},
     "output_type": "display_data"
    }
   ],
   "source": [
    "fig=crude1.plot(forecast1)\n",
    "a=add_changepoints_to_plot(fig.gca(),crude1,forecast1)"
   ]
  },
  {
   "cell_type": "markdown",
   "metadata": {},
   "source": [
    "### Use the model & Predict the future value for next 12 months"
   ]
  },
  {
   "cell_type": "code",
   "execution_count": 120,
   "metadata": {},
   "outputs": [
    {
     "name": "stderr",
     "output_type": "stream",
     "text": [
      "INFO:fbprophet:Disabling weekly seasonality. Run prophet with weekly_seasonality=True to override this.\n",
      "INFO:fbprophet:Disabling daily seasonality. Run prophet with daily_seasonality=True to override this.\n"
     ]
    }
   ],
   "source": [
    "crude1=Prophet(seasonality_mode='multiplicative',interval_width=0.95)\n",
    "crude1.fit(data)\n",
    "future1=crude1.make_future_dataframe(12,freq='MS')\n",
    "forecast1=crude1.predict(future1)"
   ]
  },
  {
   "cell_type": "code",
   "execution_count": 121,
   "metadata": {},
   "outputs": [
    {
     "data": {
      "text/html": [
       "<div>\n",
       "<style scoped>\n",
       "    .dataframe tbody tr th:only-of-type {\n",
       "        vertical-align: middle;\n",
       "    }\n",
       "\n",
       "    .dataframe tbody tr th {\n",
       "        vertical-align: top;\n",
       "    }\n",
       "\n",
       "    .dataframe thead th {\n",
       "        text-align: right;\n",
       "    }\n",
       "</style>\n",
       "<table border=\"1\" class=\"dataframe\">\n",
       "  <thead>\n",
       "    <tr style=\"text-align: right;\">\n",
       "      <th></th>\n",
       "      <th>ds</th>\n",
       "      <th>trend</th>\n",
       "      <th>yhat_lower</th>\n",
       "      <th>yhat_upper</th>\n",
       "      <th>trend_lower</th>\n",
       "      <th>trend_upper</th>\n",
       "      <th>multiplicative_terms</th>\n",
       "      <th>multiplicative_terms_lower</th>\n",
       "      <th>multiplicative_terms_upper</th>\n",
       "      <th>yearly</th>\n",
       "      <th>yearly_lower</th>\n",
       "      <th>yearly_upper</th>\n",
       "      <th>additive_terms</th>\n",
       "      <th>additive_terms_lower</th>\n",
       "      <th>additive_terms_upper</th>\n",
       "      <th>yhat</th>\n",
       "    </tr>\n",
       "  </thead>\n",
       "  <tbody>\n",
       "    <tr>\n",
       "      <th>568</th>\n",
       "      <td>2019-05-01</td>\n",
       "      <td>172.928182</td>\n",
       "      <td>164.152138</td>\n",
       "      <td>181.989100</td>\n",
       "      <td>172.928182</td>\n",
       "      <td>172.933030</td>\n",
       "      <td>0.000883</td>\n",
       "      <td>0.000883</td>\n",
       "      <td>0.000883</td>\n",
       "      <td>0.000883</td>\n",
       "      <td>0.000883</td>\n",
       "      <td>0.000883</td>\n",
       "      <td>0.0</td>\n",
       "      <td>0.0</td>\n",
       "      <td>0.0</td>\n",
       "      <td>173.080916</td>\n",
       "    </tr>\n",
       "    <tr>\n",
       "      <th>569</th>\n",
       "      <td>2019-06-01</td>\n",
       "      <td>173.772180</td>\n",
       "      <td>163.646076</td>\n",
       "      <td>180.908057</td>\n",
       "      <td>173.755397</td>\n",
       "      <td>173.823011</td>\n",
       "      <td>-0.007052</td>\n",
       "      <td>-0.007052</td>\n",
       "      <td>-0.007052</td>\n",
       "      <td>-0.007052</td>\n",
       "      <td>-0.007052</td>\n",
       "      <td>-0.007052</td>\n",
       "      <td>0.0</td>\n",
       "      <td>0.0</td>\n",
       "      <td>0.0</td>\n",
       "      <td>172.546784</td>\n",
       "    </tr>\n",
       "    <tr>\n",
       "      <th>570</th>\n",
       "      <td>2019-07-01</td>\n",
       "      <td>174.588952</td>\n",
       "      <td>163.737773</td>\n",
       "      <td>182.068359</td>\n",
       "      <td>174.509541</td>\n",
       "      <td>174.724726</td>\n",
       "      <td>-0.010162</td>\n",
       "      <td>-0.010162</td>\n",
       "      <td>-0.010162</td>\n",
       "      <td>-0.010162</td>\n",
       "      <td>-0.010162</td>\n",
       "      <td>-0.010162</td>\n",
       "      <td>0.0</td>\n",
       "      <td>0.0</td>\n",
       "      <td>0.0</td>\n",
       "      <td>172.814777</td>\n",
       "    </tr>\n",
       "    <tr>\n",
       "      <th>571</th>\n",
       "      <td>2019-08-01</td>\n",
       "      <td>175.432949</td>\n",
       "      <td>165.557298</td>\n",
       "      <td>182.911193</td>\n",
       "      <td>175.294081</td>\n",
       "      <td>175.680388</td>\n",
       "      <td>-0.004983</td>\n",
       "      <td>-0.004983</td>\n",
       "      <td>-0.004983</td>\n",
       "      <td>-0.004983</td>\n",
       "      <td>-0.004983</td>\n",
       "      <td>-0.004983</td>\n",
       "      <td>0.0</td>\n",
       "      <td>0.0</td>\n",
       "      <td>0.0</td>\n",
       "      <td>174.558775</td>\n",
       "    </tr>\n",
       "    <tr>\n",
       "      <th>572</th>\n",
       "      <td>2019-09-01</td>\n",
       "      <td>176.276947</td>\n",
       "      <td>166.665875</td>\n",
       "      <td>183.645188</td>\n",
       "      <td>176.056213</td>\n",
       "      <td>176.617336</td>\n",
       "      <td>-0.004909</td>\n",
       "      <td>-0.004909</td>\n",
       "      <td>-0.004909</td>\n",
       "      <td>-0.004909</td>\n",
       "      <td>-0.004909</td>\n",
       "      <td>-0.004909</td>\n",
       "      <td>0.0</td>\n",
       "      <td>0.0</td>\n",
       "      <td>0.0</td>\n",
       "      <td>175.411545</td>\n",
       "    </tr>\n",
       "    <tr>\n",
       "      <th>573</th>\n",
       "      <td>2019-10-01</td>\n",
       "      <td>177.093719</td>\n",
       "      <td>169.470310</td>\n",
       "      <td>187.268608</td>\n",
       "      <td>176.714635</td>\n",
       "      <td>177.547958</td>\n",
       "      <td>0.005847</td>\n",
       "      <td>0.005847</td>\n",
       "      <td>0.005847</td>\n",
       "      <td>0.005847</td>\n",
       "      <td>0.005847</td>\n",
       "      <td>0.005847</td>\n",
       "      <td>0.0</td>\n",
       "      <td>0.0</td>\n",
       "      <td>0.0</td>\n",
       "      <td>178.129212</td>\n",
       "    </tr>\n",
       "    <tr>\n",
       "      <th>574</th>\n",
       "      <td>2019-11-01</td>\n",
       "      <td>177.937716</td>\n",
       "      <td>170.843367</td>\n",
       "      <td>188.627525</td>\n",
       "      <td>177.445249</td>\n",
       "      <td>178.531514</td>\n",
       "      <td>0.008063</td>\n",
       "      <td>0.008063</td>\n",
       "      <td>0.008063</td>\n",
       "      <td>0.008063</td>\n",
       "      <td>0.008063</td>\n",
       "      <td>0.008063</td>\n",
       "      <td>0.0</td>\n",
       "      <td>0.0</td>\n",
       "      <td>0.0</td>\n",
       "      <td>179.372449</td>\n",
       "    </tr>\n",
       "    <tr>\n",
       "      <th>575</th>\n",
       "      <td>2019-12-01</td>\n",
       "      <td>178.754488</td>\n",
       "      <td>169.928203</td>\n",
       "      <td>187.944156</td>\n",
       "      <td>178.110720</td>\n",
       "      <td>179.476390</td>\n",
       "      <td>0.002750</td>\n",
       "      <td>0.002750</td>\n",
       "      <td>0.002750</td>\n",
       "      <td>0.002750</td>\n",
       "      <td>0.002750</td>\n",
       "      <td>0.002750</td>\n",
       "      <td>0.0</td>\n",
       "      <td>0.0</td>\n",
       "      <td>0.0</td>\n",
       "      <td>179.246076</td>\n",
       "    </tr>\n",
       "    <tr>\n",
       "      <th>576</th>\n",
       "      <td>2020-01-01</td>\n",
       "      <td>179.598486</td>\n",
       "      <td>171.343081</td>\n",
       "      <td>188.604743</td>\n",
       "      <td>178.825402</td>\n",
       "      <td>180.514258</td>\n",
       "      <td>0.002147</td>\n",
       "      <td>0.002147</td>\n",
       "      <td>0.002147</td>\n",
       "      <td>0.002147</td>\n",
       "      <td>0.002147</td>\n",
       "      <td>0.002147</td>\n",
       "      <td>0.0</td>\n",
       "      <td>0.0</td>\n",
       "      <td>0.0</td>\n",
       "      <td>179.984168</td>\n",
       "    </tr>\n",
       "    <tr>\n",
       "      <th>577</th>\n",
       "      <td>2020-02-01</td>\n",
       "      <td>180.442483</td>\n",
       "      <td>171.736826</td>\n",
       "      <td>189.480785</td>\n",
       "      <td>179.528677</td>\n",
       "      <td>181.462340</td>\n",
       "      <td>0.002088</td>\n",
       "      <td>0.002088</td>\n",
       "      <td>0.002088</td>\n",
       "      <td>0.002088</td>\n",
       "      <td>0.002088</td>\n",
       "      <td>0.002088</td>\n",
       "      <td>0.0</td>\n",
       "      <td>0.0</td>\n",
       "      <td>0.0</td>\n",
       "      <td>180.819185</td>\n",
       "    </tr>\n",
       "    <tr>\n",
       "      <th>578</th>\n",
       "      <td>2020-03-01</td>\n",
       "      <td>181.232029</td>\n",
       "      <td>172.675240</td>\n",
       "      <td>191.057969</td>\n",
       "      <td>180.146410</td>\n",
       "      <td>182.436002</td>\n",
       "      <td>0.005184</td>\n",
       "      <td>0.005184</td>\n",
       "      <td>0.005184</td>\n",
       "      <td>0.005184</td>\n",
       "      <td>0.005184</td>\n",
       "      <td>0.005184</td>\n",
       "      <td>0.0</td>\n",
       "      <td>0.0</td>\n",
       "      <td>0.0</td>\n",
       "      <td>182.171508</td>\n",
       "    </tr>\n",
       "    <tr>\n",
       "      <th>579</th>\n",
       "      <td>2020-04-01</td>\n",
       "      <td>182.076027</td>\n",
       "      <td>174.037429</td>\n",
       "      <td>191.311666</td>\n",
       "      <td>180.842048</td>\n",
       "      <td>183.475424</td>\n",
       "      <td>0.001941</td>\n",
       "      <td>0.001941</td>\n",
       "      <td>0.001941</td>\n",
       "      <td>0.001941</td>\n",
       "      <td>0.001941</td>\n",
       "      <td>0.001941</td>\n",
       "      <td>0.0</td>\n",
       "      <td>0.0</td>\n",
       "      <td>0.0</td>\n",
       "      <td>182.429469</td>\n",
       "    </tr>\n",
       "  </tbody>\n",
       "</table>\n",
       "</div>"
      ],
      "text/plain": [
       "            ds       trend  yhat_lower  yhat_upper  trend_lower  trend_upper  \\\n",
       "568 2019-05-01  172.928182  164.152138  181.989100   172.928182   172.933030   \n",
       "569 2019-06-01  173.772180  163.646076  180.908057   173.755397   173.823011   \n",
       "570 2019-07-01  174.588952  163.737773  182.068359   174.509541   174.724726   \n",
       "571 2019-08-01  175.432949  165.557298  182.911193   175.294081   175.680388   \n",
       "572 2019-09-01  176.276947  166.665875  183.645188   176.056213   176.617336   \n",
       "573 2019-10-01  177.093719  169.470310  187.268608   176.714635   177.547958   \n",
       "574 2019-11-01  177.937716  170.843367  188.627525   177.445249   178.531514   \n",
       "575 2019-12-01  178.754488  169.928203  187.944156   178.110720   179.476390   \n",
       "576 2020-01-01  179.598486  171.343081  188.604743   178.825402   180.514258   \n",
       "577 2020-02-01  180.442483  171.736826  189.480785   179.528677   181.462340   \n",
       "578 2020-03-01  181.232029  172.675240  191.057969   180.146410   182.436002   \n",
       "579 2020-04-01  182.076027  174.037429  191.311666   180.842048   183.475424   \n",
       "\n",
       "     multiplicative_terms  multiplicative_terms_lower  \\\n",
       "568              0.000883                    0.000883   \n",
       "569             -0.007052                   -0.007052   \n",
       "570             -0.010162                   -0.010162   \n",
       "571             -0.004983                   -0.004983   \n",
       "572             -0.004909                   -0.004909   \n",
       "573              0.005847                    0.005847   \n",
       "574              0.008063                    0.008063   \n",
       "575              0.002750                    0.002750   \n",
       "576              0.002147                    0.002147   \n",
       "577              0.002088                    0.002088   \n",
       "578              0.005184                    0.005184   \n",
       "579              0.001941                    0.001941   \n",
       "\n",
       "     multiplicative_terms_upper    yearly  yearly_lower  yearly_upper  \\\n",
       "568                    0.000883  0.000883      0.000883      0.000883   \n",
       "569                   -0.007052 -0.007052     -0.007052     -0.007052   \n",
       "570                   -0.010162 -0.010162     -0.010162     -0.010162   \n",
       "571                   -0.004983 -0.004983     -0.004983     -0.004983   \n",
       "572                   -0.004909 -0.004909     -0.004909     -0.004909   \n",
       "573                    0.005847  0.005847      0.005847      0.005847   \n",
       "574                    0.008063  0.008063      0.008063      0.008063   \n",
       "575                    0.002750  0.002750      0.002750      0.002750   \n",
       "576                    0.002147  0.002147      0.002147      0.002147   \n",
       "577                    0.002088  0.002088      0.002088      0.002088   \n",
       "578                    0.005184  0.005184      0.005184      0.005184   \n",
       "579                    0.001941  0.001941      0.001941      0.001941   \n",
       "\n",
       "     additive_terms  additive_terms_lower  additive_terms_upper        yhat  \n",
       "568             0.0                   0.0                   0.0  173.080916  \n",
       "569             0.0                   0.0                   0.0  172.546784  \n",
       "570             0.0                   0.0                   0.0  172.814777  \n",
       "571             0.0                   0.0                   0.0  174.558775  \n",
       "572             0.0                   0.0                   0.0  175.411545  \n",
       "573             0.0                   0.0                   0.0  178.129212  \n",
       "574             0.0                   0.0                   0.0  179.372449  \n",
       "575             0.0                   0.0                   0.0  179.246076  \n",
       "576             0.0                   0.0                   0.0  179.984168  \n",
       "577             0.0                   0.0                   0.0  180.819185  \n",
       "578             0.0                   0.0                   0.0  182.171508  \n",
       "579             0.0                   0.0                   0.0  182.429469  "
      ]
     },
     "execution_count": 121,
     "metadata": {},
     "output_type": "execute_result"
    }
   ],
   "source": [
    "forecast1.iloc[568:]"
   ]
  },
  {
   "cell_type": "markdown",
   "metadata": {},
   "source": [
    "### forecasting visualization of next 12 months"
   ]
  },
  {
   "cell_type": "code",
   "execution_count": 122,
   "metadata": {},
   "outputs": [
    {
     "data": {
      "text/plain": [
       "<matplotlib.axes._subplots.AxesSubplot at 0x9b415e1898>"
      ]
     },
     "execution_count": 122,
     "metadata": {},
     "output_type": "execute_result"
    },
    {
     "data": {
      "image/png": "[encoded data removed]",
      "text/plain": [
       "<Figure size 864x432 with 1 Axes>"
      ]
     },
     "metadata": {
      "needs_background": "light"
     },
     "output_type": "display_data"
    }
   ],
   "source": [
    "forecast1.plot(x='ds',y='yhat',figsize=(12,6))"
   ]
  },
  {
   "cell_type": "markdown",
   "metadata": {},
   "source": [
    "## LSTM Keras"
   ]
  },
  {
   "cell_type": "markdown",
   "metadata": {},
   "source": [
    "Earlier , we forecast the crude oil using facebook prophet and we got reasonable results , now lets try with deep learning library called Keras to predoct forecast for cruide oil.\n",
    "\n",
    "1. import the keras library\n",
    "2. from keras we have to import sequencial \n",
    "3. for prediction , we are using LSTM\n",
    "4. ans also import Dense & TimeseriesGenerator"
   ]
  },
  {
   "cell_type": "code",
   "execution_count": 53,
   "metadata": {},
   "outputs": [],
   "source": [
    "## LSTM Keras forecasting\n",
    "import pandas as pd\n",
    "import matplotlib.pyplot as plt\n",
    "import numpy as np\n",
    "\n",
    "import warnings\n",
    "from statsmodels.tools.eval_measures import rmse\n",
    "\n",
    "from sklearn.preprocessing import MinMaxScaler\n",
    "\n",
    "from keras.preprocessing.sequence import TimeseriesGenerator\n",
    "\n",
    "from keras.models import Sequential\n",
    "from keras.layers import LSTM\n",
    "from keras.layers import Dense\n"
   ]
  },
  {
   "cell_type": "code",
   "execution_count": 7,
   "metadata": {},
   "outputs": [],
   "source": [
    "data1=pd.read_csv('IPG211111CN.csv',index_col='DATE',parse_dates=True).round(2)"
   ]
  },
  {
   "cell_type": "code",
   "execution_count": 8,
   "metadata": {},
   "outputs": [
    {
     "data": {
      "text/html": [
       "<div>\n",
       "<style scoped>\n",
       "    .dataframe tbody tr th:only-of-type {\n",
       "        vertical-align: middle;\n",
       "    }\n",
       "\n",
       "    .dataframe tbody tr th {\n",
       "        vertical-align: top;\n",
       "    }\n",
       "\n",
       "    .dataframe thead th {\n",
       "        text-align: right;\n",
       "    }\n",
       "</style>\n",
       "<table border=\"1\" class=\"dataframe\">\n",
       "  <thead>\n",
       "    <tr style=\"text-align: right;\">\n",
       "      <th></th>\n",
       "      <th>IPG211111CN</th>\n",
       "    </tr>\n",
       "    <tr>\n",
       "      <th>DATE</th>\n",
       "      <th></th>\n",
       "    </tr>\n",
       "  </thead>\n",
       "  <tbody>\n",
       "    <tr>\n",
       "      <th>1972-01-01</th>\n",
       "      <td>141.51</td>\n",
       "    </tr>\n",
       "    <tr>\n",
       "      <th>1972-02-01</th>\n",
       "      <td>145.17</td>\n",
       "    </tr>\n",
       "    <tr>\n",
       "      <th>1972-03-01</th>\n",
       "      <td>147.29</td>\n",
       "    </tr>\n",
       "    <tr>\n",
       "      <th>1972-04-01</th>\n",
       "      <td>148.22</td>\n",
       "    </tr>\n",
       "    <tr>\n",
       "      <th>1972-05-01</th>\n",
       "      <td>149.78</td>\n",
       "    </tr>\n",
       "  </tbody>\n",
       "</table>\n",
       "</div>"
      ],
      "text/plain": [
       "            IPG211111CN\n",
       "DATE                   \n",
       "1972-01-01       141.51\n",
       "1972-02-01       145.17\n",
       "1972-03-01       147.29\n",
       "1972-04-01       148.22\n",
       "1972-05-01       149.78"
      ]
     },
     "execution_count": 8,
     "metadata": {},
     "output_type": "execute_result"
    }
   ],
   "source": [
    "data1.head()"
   ]
  },
  {
   "cell_type": "code",
   "execution_count": 9,
   "metadata": {},
   "outputs": [
    {
     "data": {
      "text/plain": [
       "<matplotlib.axes._subplots.AxesSubplot at 0x2c0a3c382b0>"
      ]
     },
     "execution_count": 9,
     "metadata": {},
     "output_type": "execute_result"
    },
    {
     "data": {
      "image/png": "[encoded data removed]",
      "text/plain": [
       "<Figure size 432x288 with 1 Axes>"
      ]
     },
     "metadata": {
      "needs_background": "light"
     },
     "output_type": "display_data"
    }
   ],
   "source": [
    "data1.plot()"
   ]
  },
  {
   "cell_type": "code",
   "execution_count": 10,
   "metadata": {},
   "outputs": [
    {
     "data": {
      "text/plain": [
       "568"
      ]
     },
     "execution_count": 10,
     "metadata": {},
     "output_type": "execute_result"
    }
   ],
   "source": [
    "len(data1)"
   ]
  },
  {
   "cell_type": "code",
   "execution_count": 353,
   "metadata": {},
   "outputs": [],
   "source": [
    "train=data1.iloc[:556]\n",
    "test=data1.iloc[556:]"
   ]
  },
  {
   "cell_type": "markdown",
   "metadata": {},
   "source": [
    "1. Above code for analysis purpose is same as we did earliar with prophet, we just repeat it to avoid confusion.\n",
    "2. In LSTM, as as target variable has not symmetrical dustrubution so, we are converting it into specific range like 0 - 1.\n",
    "3. for that we are using sklearn MinMaxScaler functionality which convert ferature into 0-1 range\n",
    "4. then apply it on train & test dataset"
   ]
  },
  {
   "cell_type": "code",
   "execution_count": 354,
   "metadata": {},
   "outputs": [],
   "source": [
    "scaler = MinMaxScaler()\n",
    "scaler.fit(train)\n",
    "scaled_train = scaler.transform(train)\n",
    "scaled_test = scaler.transform(test)"
   ]
  },
  {
   "cell_type": "markdown",
   "metadata": {},
   "source": [
    "1. In Timeseriesgenerator, we are going to make batch of input and next one is its results\n",
    "2. for example, if we set lenght=2 and batchsize=1, and where we want to apply it on then it convert dataset into as first 2 rows is input and third row is output and so on."
   ]
  },
  {
   "cell_type": "code",
   "execution_count": 355,
   "metadata": {},
   "outputs": [],
   "source": [
    "#Time series generator\n",
    "generator=TimeseriesGenerator(scaled_train, scaled_train, length=2, batch_size=1)"
   ]
  },
  {
   "cell_type": "code",
   "execution_count": 356,
   "metadata": {},
   "outputs": [
    {
     "data": {
      "text/plain": [
       "556"
      ]
     },
     "execution_count": 356,
     "metadata": {},
     "output_type": "execute_result"
    }
   ],
   "source": [
    "len(scaled_train)"
   ]
  },
  {
   "cell_type": "code",
   "execution_count": 357,
   "metadata": {},
   "outputs": [
    {
     "data": {
      "text/plain": [
       "554"
      ]
     },
     "execution_count": 357,
     "metadata": {},
     "output_type": "execute_result"
    }
   ],
   "source": [
    "len(generator)"
   ]
  },
  {
   "cell_type": "code",
   "execution_count": 358,
   "metadata": {},
   "outputs": [
    {
     "data": {
      "text/plain": [
       "(array([[[0.80337191],\n",
       "         [0.83988428]]]), array([[0.86103352]]))"
      ]
     },
     "execution_count": 358,
     "metadata": {},
     "output_type": "execute_result"
    }
   ],
   "source": [
    "generator[0]"
   ]
  },
  {
   "cell_type": "markdown",
   "metadata": {},
   "source": [
    "we are setting TimeseriesGenerator parameter as\n",
    "\n",
    "length=12,with 1 feauture and batchsize=1\n",
    "\n",
    "1. now lets initalize th sequential() method\n",
    "2. and add LSTM with first 100 neurons (this is starting range, later we can increase it with according to results)\n",
    "2. add activation='tanh', here we add other activation function like sigmoid,relu and many other but I have tried with tanh and give me better results than others"
   ]
  },
  {
   "cell_type": "code",
   "execution_count": 383,
   "metadata": {},
   "outputs": [],
   "source": [
    "n_inputs=12\n",
    "n_features=1\n",
    "generator_train=TimeseriesGenerator(scaled_train, scaled_train, length=n_inputs, batch_size=1)"
   ]
  },
  {
   "cell_type": "code",
   "execution_count": 384,
   "metadata": {},
   "outputs": [],
   "source": [
    "model=Sequential()\n",
    "model.add(LSTM(100,activation='tanh',input_shape=(n_inputs,n_features)))\n",
    "model.add(Dense(1))\n",
    "model.compile(optimizer='adam', loss='mse')"
   ]
  },
  {
   "cell_type": "markdown",
   "metadata": {},
   "source": [
    "1. This is the model summary where we have input of 100 neuron and with 40800 parameter"
   ]
  },
  {
   "cell_type": "code",
   "execution_count": 385,
   "metadata": {},
   "outputs": [
    {
     "name": "stdout",
     "output_type": "stream",
     "text": [
      "_________________________________________________________________\n",
      "Layer (type)                 Output Shape              Param #   \n",
      "=================================================================\n",
      "lstm_34 (LSTM)               (None, 100)               40800     \n",
      "_________________________________________________________________\n",
      "dense_34 (Dense)             (None, 1)                 101       \n",
      "=================================================================\n",
      "Total params: 40,901\n",
      "Trainable params: 40,901\n",
      "Non-trainable params: 0\n",
      "_________________________________________________________________\n"
     ]
    }
   ],
   "source": [
    "model.summary()"
   ]
  },
  {
   "cell_type": "markdown",
   "metadata": {},
   "source": [
    "Now, lets run the above sequencial model with out timeseriesgenerator with iteration size with 30"
   ]
  },
  {
   "cell_type": "code",
   "execution_count": 386,
   "metadata": {},
   "outputs": [
    {
     "name": "stdout",
     "output_type": "stream",
     "text": [
      "Epoch 1/30\n",
      "544/544 [==============================] - 7s 13ms/step - loss: 0.0033\n",
      "Epoch 2/30\n",
      "544/544 [==============================] - 4s 7ms/step - loss: 0.0014\n",
      "Epoch 3/30\n",
      "544/544 [==============================] - 4s 8ms/step - loss: 0.0011\n",
      "Epoch 4/30\n",
      "544/544 [==============================] - 4s 7ms/step - loss: 9.3574e-04\n",
      "Epoch 5/30\n",
      "544/544 [==============================] - 4s 7ms/step - loss: 8.0788e-04\n",
      "Epoch 6/30\n",
      "544/544 [==============================] - 4s 7ms/step - loss: 7.0172e-04\n",
      "Epoch 7/30\n",
      "544/544 [==============================] - 4s 7ms/step - loss: 6.4298e-04\n",
      "Epoch 8/30\n",
      "544/544 [==============================] - 4s 7ms/step - loss: 7.1705e-04\n",
      "Epoch 9/30\n",
      "544/544 [==============================] - 4s 7ms/step - loss: 6.2497e-04\n",
      "Epoch 10/30\n",
      "544/544 [==============================] - 4s 7ms/step - loss: 6.0475e-04\n",
      "Epoch 11/30\n",
      "544/544 [==============================] - 4s 7ms/step - loss: 6.1095e-04\n",
      "Epoch 12/30\n",
      "544/544 [==============================] - 4s 7ms/step - loss: 6.0155e-04\n",
      "Epoch 13/30\n",
      "544/544 [==============================] - 4s 7ms/step - loss: 5.9461e-04\n",
      "Epoch 14/30\n",
      "544/544 [==============================] - 4s 7ms/step - loss: 6.1502e-04\n",
      "Epoch 15/30\n",
      "544/544 [==============================] - 4s 7ms/step - loss: 6.0238e-04\n",
      "Epoch 16/30\n",
      "544/544 [==============================] - 4s 7ms/step - loss: 5.9515e-04\n",
      "Epoch 17/30\n",
      "544/544 [==============================] - 4s 7ms/step - loss: 5.1989e-04\n",
      "Epoch 18/30\n",
      "544/544 [==============================] - 4s 7ms/step - loss: 5.0898e-04\n",
      "Epoch 19/30\n",
      "544/544 [==============================] - 4s 7ms/step - loss: 5.4316e-04\n",
      "Epoch 20/30\n",
      "544/544 [==============================] - 4s 7ms/step - loss: 5.6925e-04\n",
      "Epoch 21/30\n",
      "544/544 [==============================] - 4s 7ms/step - loss: 5.3402e-04\n",
      "Epoch 22/30\n",
      "544/544 [==============================] - 4s 7ms/step - loss: 5.0701e-04\n",
      "Epoch 23/30\n",
      "544/544 [==============================] - 4s 7ms/step - loss: 5.5065e-04\n",
      "Epoch 24/30\n",
      "544/544 [==============================] - 4s 7ms/step - loss: 4.9021e-04\n",
      "Epoch 25/30\n",
      "544/544 [==============================] - 4s 8ms/step - loss: 4.9513e-04\n",
      "Epoch 26/30\n",
      "544/544 [==============================] - 5s 9ms/step - loss: 5.2857e-04\n",
      "Epoch 27/30\n",
      "544/544 [==============================] - 4s 6ms/step - loss: 5.0969e-04\n",
      "Epoch 28/30\n",
      "544/544 [==============================] - 4s 7ms/step - loss: 5.2760e-04\n",
      "Epoch 29/30\n",
      "544/544 [==============================] - 4s 7ms/step - loss: 5.3746e-04\n",
      "Epoch 30/30\n",
      "544/544 [==============================] - 3s 6ms/step - loss: 5.1900e-04\n"
     ]
    },
    {
     "data": {
      "text/plain": [
       "<keras.callbacks.History at 0x2c08cf39dd8>"
      ]
     },
     "execution_count": 386,
     "metadata": {},
     "output_type": "execute_result"
    }
   ],
   "source": [
    "model.fit_generator(generator_train,epochs=30)"
   ]
  },
  {
   "cell_type": "markdown",
   "metadata": {},
   "source": [
    "with epochs=30 , with above given parameter , we get the rsme loss of 5.1 , means we are very close to actual value\n",
    "\n",
    "By this way we have train our model with LSTM , To predict it on test dataset we have to generate timeseries generator value from last 12 month of train dataset (here as we set lenght of 12 months because of that we are taking last 12 month data otherwise it will change according to length, so it all about checking again and again with different lenght value\n",
    ")\n",
    "\n",
    "from last 12 month as input data , and providing the shape as ((1, n_inputs, n_features)) we get predicted first value for for our test data is 1.0267408, now lets make prediciton on test data same way."
   ]
  },
  {
   "cell_type": "code",
   "execution_count": 391,
   "metadata": {},
   "outputs": [
    {
     "data": {
      "text/plain": [
       "array([[0.79898244],\n",
       "       [0.78461692],\n",
       "       [0.80855946],\n",
       "       [0.81055467],\n",
       "       [0.84926177],\n",
       "       [0.88128492],\n",
       "       [0.94273743],\n",
       "       [0.93316042],\n",
       "       [0.92607741],\n",
       "       [0.9650838 ],\n",
       "       [0.99790503],\n",
       "       [1.        ]])"
      ]
     },
     "execution_count": 391,
     "metadata": {},
     "output_type": "execute_result"
    }
   ],
   "source": [
    "first_eval_batch = scaled_train[-12:]\n",
    "first_eval_batch"
   ]
  },
  {
   "cell_type": "code",
   "execution_count": 392,
   "metadata": {},
   "outputs": [
    {
     "data": {
      "text/plain": [
       "array([[1.0267408]], dtype=float32)"
      ]
     },
     "execution_count": 392,
     "metadata": {},
     "output_type": "execute_result"
    }
   ],
   "source": [
    "first_eval_batch = first_eval_batch.reshape((1, n_inputs, n_features))\n",
    "model.predict(first_eval_batch)"
   ]
  },
  {
   "cell_type": "markdown",
   "metadata": {},
   "source": [
    "To make prediction on remaining test data\n",
    "\n",
    "we are creating a list variable and above created reshape of dataset with given lenght and feature , we are predicitng the time series forecast for test data and append it on each time until all test data value get predicted"
   ]
  },
  {
   "cell_type": "code",
   "execution_count": 393,
   "metadata": {},
   "outputs": [],
   "source": [
    "test_predictions = []\n",
    "\n",
    "first_eval_batch = scaled_train[-n_inputs:]\n",
    "current_batch = first_eval_batch.reshape((1, n_inputs, n_features))\n",
    "\n",
    "\n",
    "for i in range (len(test)):\n",
    "    my_pred=model.predict(current_batch)[0]\n",
    "    test_predictions.append(my_pred)\n",
    "    current_batch=np.append(current_batch[:,1:,:],[[my_pred]],axis=1)"
   ]
  },
  {
   "cell_type": "markdown",
   "metadata": {},
   "source": [
    "Here is the list of predicted value "
   ]
  },
  {
   "cell_type": "code",
   "execution_count": 394,
   "metadata": {},
   "outputs": [
    {
     "data": {
      "text/plain": [
       "[array([1.0267408], dtype=float32),\n",
       " array([1.0505887], dtype=float32),\n",
       " array([1.0742127], dtype=float32),\n",
       " array([1.0987709], dtype=float32),\n",
       " array([1.1245736], dtype=float32),\n",
       " array([1.1516305], dtype=float32),\n",
       " array([1.1798866], dtype=float32),\n",
       " array([1.2066], dtype=float32),\n",
       " array([1.2328627], dtype=float32),\n",
       " array([1.2594943], dtype=float32),\n",
       " array([1.2864575], dtype=float32),\n",
       " array([1.3134392], dtype=float32)]"
      ]
     },
     "execution_count": 394,
     "metadata": {},
     "output_type": "execute_result"
    }
   ],
   "source": [
    "test_predictions"
   ]
  },
  {
   "cell_type": "markdown",
   "metadata": {},
   "source": [
    "This is our original test data values"
   ]
  },
  {
   "cell_type": "code",
   "execution_count": 395,
   "metadata": {},
   "outputs": [
    {
     "data": {
      "text/plain": [
       "array([[0.99840383],\n",
       "       [1.03042698],\n",
       "       [1.07092977],\n",
       "       [1.13068635],\n",
       "       [1.15303272],\n",
       "       [1.16660016],\n",
       "       [1.22296488],\n",
       "       [1.22865124],\n",
       "       [1.21428571],\n",
       "       [1.18575419],\n",
       "       [1.21578212],\n",
       "       [1.22915004]])"
      ]
     },
     "execution_count": 395,
     "metadata": {},
     "output_type": "execute_result"
    }
   ],
   "source": [
    "scaled_test"
   ]
  },
  {
   "cell_type": "markdown",
   "metadata": {},
   "source": [
    "Now inverse the prediciton value to its original from which we have converted using MinMaxScaler"
   ]
  },
  {
   "cell_type": "code",
   "execution_count": 396,
   "metadata": {},
   "outputs": [
    {
     "data": {
      "text/plain": [
       "array([[163.90049673],\n",
       "       [166.29101399],\n",
       "       [168.65907807],\n",
       "       [171.12079069],\n",
       "       [173.7072565 ],\n",
       "       [176.41944341],\n",
       "       [179.25183073],\n",
       "       [181.92957907],\n",
       "       [184.56215815],\n",
       "       [187.2317091 ],\n",
       "       [189.93450367],\n",
       "       [192.63915042]])"
      ]
     },
     "execution_count": 396,
     "metadata": {},
     "output_type": "execute_result"
    }
   ],
   "source": [
    "true_predictions = scaler.inverse_transform(test_predictions)\n",
    "true_predictions"
   ]
  },
  {
   "cell_type": "code",
   "execution_count": 397,
   "metadata": {},
   "outputs": [
    {
     "name": "stderr",
     "output_type": "stream",
     "text": [
      "C:\\Users\\e5547887\\AppData\\Local\\Continuum\\anaconda3\\lib\\site-packages\\ipykernel_launcher.py:1: SettingWithCopyWarning: \n",
      "A value is trying to be set on a copy of a slice from a DataFrame.\n",
      "Try using .loc[row_indexer,col_indexer] = value instead\n",
      "\n",
      "See the caveats in the documentation: http://pandas.pydata.org/pandas-docs/stable/indexing.html#indexing-view-versus-copy\n",
      "  \"\"\"Entry point for launching an IPython kernel.\n"
     ]
    }
   ],
   "source": [
    "test['prediction']=true_predictions"
   ]
  },
  {
   "cell_type": "markdown",
   "metadata": {},
   "source": [
    "Now lets plot the predicted value and original value with line grapg\n",
    "\n",
    "1. from this graph, we get to know that our predicted values are higher than actual values and its didn't show any trend on predicted value, so it is failed to recongize any seasonality/trend.\n"
   ]
  },
  {
   "cell_type": "code",
   "execution_count": 398,
   "metadata": {},
   "outputs": [
    {
     "data": {
      "text/plain": [
       "<matplotlib.axes._subplots.AxesSubplot at 0x2c096a1a1d0>"
      ]
     },
     "execution_count": 398,
     "metadata": {},
     "output_type": "execute_result"
    },
    {
     "data": {
      "image/png": "[encoded data removed]",
      "text/plain": [
       "<Figure size 432x288 with 1 Axes>"
      ]
     },
     "metadata": {
      "needs_background": "light"
     },
     "output_type": "display_data"
    }
   ],
   "source": [
    "test.plot()"
   ]
  },
  {
   "cell_type": "code",
   "execution_count": 399,
   "metadata": {},
   "outputs": [],
   "source": [
    "model.save('timeseries.h5')"
   ]
  },
  {
   "cell_type": "code",
   "execution_count": 400,
   "metadata": {},
   "outputs": [],
   "source": [
    "from keras.models import load_model\n",
    "new_model = load_model('timeseries.h5')"
   ]
  },
  {
   "cell_type": "markdown",
   "metadata": {},
   "source": [
    "Save the above LSTM model for future use and to forecast the crude oil in future time,\n",
    "\n",
    "for future time forecasting we have to repeat the same procedure which we have apllied for test dataset prediction\n",
    "\n",
    "before finalizing the model let's evaluate this dataset with well known time series forecasting methods called ARIMA and others from statsmodels"
   ]
  },
  {
   "cell_type": "markdown",
   "metadata": {},
   "source": [
    "## StatsModels"
   ]
  },
  {
   "cell_type": "code",
   "execution_count": 40,
   "metadata": {},
   "outputs": [],
   "source": [
    "import pandas as pd\n",
    "import statsmodels\n",
    "from statsmodels.tsa.stattools import adfuller\n",
    "from statsmodels.tsa.seasonal import seasonal_decompose\n",
    "from pmdarima import auto_arima\n",
    "from statsmodels.graphics.tsaplots import plot_acf,plot_pacf\n",
    "from statsmodels.tsa.arima_model import ARMA,ARIMA,ARMAResults,ARIMAResults\n",
    "import warnings\n",
    "from statsmodels.tools.eval_measures import rmse"
   ]
  },
  {
   "cell_type": "code",
   "execution_count": 25,
   "metadata": {},
   "outputs": [],
   "source": [
    "warnings.filterwarnings('ignore')"
   ]
  },
  {
   "cell_type": "code",
   "execution_count": 3,
   "metadata": {},
   "outputs": [
    {
     "data": {
      "text/html": [
       "<div>\n",
       "<style scoped>\n",
       "    .dataframe tbody tr th:only-of-type {\n",
       "        vertical-align: middle;\n",
       "    }\n",
       "\n",
       "    .dataframe tbody tr th {\n",
       "        vertical-align: top;\n",
       "    }\n",
       "\n",
       "    .dataframe thead th {\n",
       "        text-align: right;\n",
       "    }\n",
       "</style>\n",
       "<table border=\"1\" class=\"dataframe\">\n",
       "  <thead>\n",
       "    <tr style=\"text-align: right;\">\n",
       "      <th></th>\n",
       "      <th>IPG211111CN</th>\n",
       "    </tr>\n",
       "    <tr>\n",
       "      <th>DATE</th>\n",
       "      <th></th>\n",
       "    </tr>\n",
       "  </thead>\n",
       "  <tbody>\n",
       "    <tr>\n",
       "      <th>1972-01-01</th>\n",
       "      <td>141.51</td>\n",
       "    </tr>\n",
       "    <tr>\n",
       "      <th>1972-02-01</th>\n",
       "      <td>145.17</td>\n",
       "    </tr>\n",
       "    <tr>\n",
       "      <th>1972-03-01</th>\n",
       "      <td>147.29</td>\n",
       "    </tr>\n",
       "    <tr>\n",
       "      <th>1972-04-01</th>\n",
       "      <td>148.22</td>\n",
       "    </tr>\n",
       "    <tr>\n",
       "      <th>1972-05-01</th>\n",
       "      <td>149.78</td>\n",
       "    </tr>\n",
       "  </tbody>\n",
       "</table>\n",
       "</div>"
      ],
      "text/plain": [
       "            IPG211111CN\n",
       "DATE                   \n",
       "1972-01-01       141.51\n",
       "1972-02-01       145.17\n",
       "1972-03-01       147.29\n",
       "1972-04-01       148.22\n",
       "1972-05-01       149.78"
      ]
     },
     "execution_count": 3,
     "metadata": {},
     "output_type": "execute_result"
    }
   ],
   "source": [
    "data1=pd.read_csv('IPG211111CN.csv',index_col='DATE',parse_dates=True).round(2)\n",
    "data1.index.freq='MS'\n",
    "data1.head()"
   ]
  },
  {
   "cell_type": "code",
   "execution_count": 6,
   "metadata": {},
   "outputs": [
    {
     "data": {
      "text/plain": [
       "<matplotlib.axes._subplots.AxesSubplot at 0x9b384ed0f0>"
      ]
     },
     "execution_count": 6,
     "metadata": {},
     "output_type": "execute_result"
    },
    {
     "data": {
      "image/png": "[encoded data removed]",
      "text/plain": [
       "<Figure size 864x360 with 1 Axes>"
      ]
     },
     "metadata": {
      "needs_background": "light"
     },
     "output_type": "display_data"
    }
   ],
   "source": [
    "%matplotlib inline\n",
    "data1.plot(figsize=(12,5))"
   ]
  },
  {
   "cell_type": "code",
   "execution_count": 14,
   "metadata": {},
   "outputs": [
    {
     "data": {
      "text/plain": [
       "(-0.6180449008794604,\n",
       " 0.8668522663132674,\n",
       " 13,\n",
       " 554,\n",
       " {'1%': -3.4422089502693454,\n",
       "  '5%': -2.866771178805824,\n",
       "  '10%': -2.5695560476482164},\n",
       " 2334.416244804447)"
      ]
     },
     "execution_count": 14,
     "metadata": {},
     "output_type": "execute_result"
    }
   ],
   "source": [
    "\n",
    "adfuller_result=adfuller(data1['IPG211111CN'])\n",
    "adfuller_result"
   ]
  },
  {
   "cell_type": "code",
   "execution_count": 19,
   "metadata": {},
   "outputs": [
    {
     "data": {
      "text/plain": [
       "(<Figure size 432x288 with 4 Axes>,)"
      ]
     },
     "execution_count": 19,
     "metadata": {},
     "output_type": "execute_result"
    },
    {
     "data": {
      "image/png": "[encoded data removed]",
      "text/plain": [
       "<Figure size 432x288 with 4 Axes>"
      ]
     },
     "metadata": {
      "needs_background": "light"
     },
     "output_type": "display_data"
    }
   ],
   "source": [
    "%matplotlib inline\n",
    "seasonality_checks=seasonal_decompose(data1['IPG211111CN'],model='additive')\n",
    "seasonality_checks.plot(),"
   ]
  },
  {
   "cell_type": "code",
   "execution_count": 65,
   "metadata": {},
   "outputs": [
    {
     "data": {
      "text/html": [
       "<table class=\"simpletable\">\n",
       "<caption>ARIMA Model Results</caption>\n",
       "<tr>\n",
       "  <th>Dep. Variable:</th>       <td>D2.y</td>       <th>  No. Observations:  </th>    <td>566</td>   \n",
       "</tr>\n",
       "<tr>\n",
       "  <th>Model:</th>          <td>ARIMA(2, 2, 1)</td>  <th>  Log Likelihood     </th> <td>-1203.211</td>\n",
       "</tr>\n",
       "<tr>\n",
       "  <th>Method:</th>             <td>css-mle</td>     <th>  S.D. of innovations</th>   <td>2.022</td>  \n",
       "</tr>\n",
       "<tr>\n",
       "  <th>Date:</th>          <td>Wed, 29 May 2019</td> <th>  AIC                </th> <td>2416.421</td> \n",
       "</tr>\n",
       "<tr>\n",
       "  <th>Time:</th>              <td>07:39:15</td>     <th>  BIC                </th> <td>2438.114</td> \n",
       "</tr>\n",
       "<tr>\n",
       "  <th>Sample:</th>                <td>2</td>        <th>  HQIC               </th> <td>2424.888</td> \n",
       "</tr>\n",
       "<tr>\n",
       "  <th></th>                       <td> </td>        <th>                     </th>     <td> </td>    \n",
       "</tr>\n",
       "</table>\n",
       "<table class=\"simpletable\">\n",
       "<tr>\n",
       "       <td></td>         <th>coef</th>     <th>std err</th>      <th>z</th>      <th>P>|z|</th>  <th>[0.025</th>    <th>0.975]</th>  \n",
       "</tr>\n",
       "<tr>\n",
       "  <th>const</th>      <td>    0.0024</td> <td>    0.002</td> <td>    1.275</td> <td> 0.203</td> <td>   -0.001</td> <td>    0.006</td>\n",
       "</tr>\n",
       "<tr>\n",
       "  <th>ar.L1.D2.y</th> <td>   -0.1340</td> <td>    0.043</td> <td>   -3.108</td> <td> 0.002</td> <td>   -0.218</td> <td>   -0.049</td>\n",
       "</tr>\n",
       "<tr>\n",
       "  <th>ar.L2.D2.y</th> <td>   -0.0879</td> <td>    0.043</td> <td>   -2.040</td> <td> 0.042</td> <td>   -0.172</td> <td>   -0.003</td>\n",
       "</tr>\n",
       "<tr>\n",
       "  <th>ma.L1.D2.y</th> <td>   -0.9750</td> <td>    0.011</td> <td>  -86.824</td> <td> 0.000</td> <td>   -0.997</td> <td>   -0.953</td>\n",
       "</tr>\n",
       "</table>\n",
       "<table class=\"simpletable\">\n",
       "<caption>Roots</caption>\n",
       "<tr>\n",
       "    <td></td>   <th>            Real</th>  <th>         Imaginary</th> <th>         Modulus</th>  <th>        Frequency</th>\n",
       "</tr>\n",
       "<tr>\n",
       "  <th>AR.1</th> <td>          -0.7624</td> <td>          -3.2863j</td> <td>           3.3735</td> <td>          -0.2863</td>\n",
       "</tr>\n",
       "<tr>\n",
       "  <th>AR.2</th> <td>          -0.7624</td> <td>          +3.2863j</td> <td>           3.3735</td> <td>           0.2863</td>\n",
       "</tr>\n",
       "<tr>\n",
       "  <th>MA.1</th> <td>           1.0256</td> <td>          +0.0000j</td> <td>           1.0256</td> <td>           0.0000</td>\n",
       "</tr>\n",
       "</table>"
      ],
      "text/plain": [
       "<class 'statsmodels.iolib.summary.Summary'>\n",
       "\"\"\"\n",
       "                             ARIMA Model Results                              \n",
       "==============================================================================\n",
       "Dep. Variable:                   D2.y   No. Observations:                  566\n",
       "Model:                 ARIMA(2, 2, 1)   Log Likelihood               -1203.211\n",
       "Method:                       css-mle   S.D. of innovations              2.022\n",
       "Date:                Wed, 29 May 2019   AIC                           2416.421\n",
       "Time:                        07:39:15   BIC                           2438.114\n",
       "Sample:                             2   HQIC                          2424.888\n",
       "                                                                              \n",
       "==============================================================================\n",
       "                 coef    std err          z      P>|z|      [0.025      0.975]\n",
       "------------------------------------------------------------------------------\n",
       "const          0.0024      0.002      1.275      0.203      -0.001       0.006\n",
       "ar.L1.D2.y    -0.1340      0.043     -3.108      0.002      -0.218      -0.049\n",
       "ar.L2.D2.y    -0.0879      0.043     -2.040      0.042      -0.172      -0.003\n",
       "ma.L1.D2.y    -0.9750      0.011    -86.824      0.000      -0.997      -0.953\n",
       "                                    Roots                                    \n",
       "=============================================================================\n",
       "                  Real          Imaginary           Modulus         Frequency\n",
       "-----------------------------------------------------------------------------\n",
       "AR.1           -0.7624           -3.2863j            3.3735           -0.2863\n",
       "AR.2           -0.7624           +3.2863j            3.3735            0.2863\n",
       "MA.1            1.0256           +0.0000j            1.0256            0.0000\n",
       "-----------------------------------------------------------------------------\n",
       "\"\"\""
      ]
     },
     "execution_count": 65,
     "metadata": {},
     "output_type": "execute_result"
    }
   ],
   "source": [
    "auto_arima(data1['IPG211111CN'],seasonal=False).summary()\n"
   ]
  },
  {
   "cell_type": "code",
   "execution_count": 64,
   "metadata": {},
   "outputs": [
    {
     "data": {
      "text/html": [
       "<table class=\"simpletable\">\n",
       "<caption>ARMA Model Results</caption>\n",
       "<tr>\n",
       "  <th>Dep. Variable:</th>         <td>y</td>        <th>  No. Observations:  </th>    <td>568</td>   \n",
       "</tr>\n",
       "<tr>\n",
       "  <th>Model:</th>            <td>ARMA(4, 0)</td>    <th>  Log Likelihood     </th> <td>-1216.748</td>\n",
       "</tr>\n",
       "<tr>\n",
       "  <th>Method:</th>             <td>css-mle</td>     <th>  S.D. of innovations</th>   <td>2.051</td>  \n",
       "</tr>\n",
       "<tr>\n",
       "  <th>Date:</th>          <td>Wed, 29 May 2019</td> <th>  AIC                </th> <td>2445.496</td> \n",
       "</tr>\n",
       "<tr>\n",
       "  <th>Time:</th>              <td>07:38:56</td>     <th>  BIC                </th> <td>2471.548</td> \n",
       "</tr>\n",
       "<tr>\n",
       "  <th>Sample:</th>                <td>0</td>        <th>  HQIC               </th> <td>2455.662</td> \n",
       "</tr>\n",
       "<tr>\n",
       "  <th></th>                       <td> </td>        <th>                     </th>     <td> </td>    \n",
       "</tr>\n",
       "</table>\n",
       "<table class=\"simpletable\">\n",
       "<tr>\n",
       "     <td></td>        <th>coef</th>     <th>std err</th>      <th>z</th>      <th>P>|z|</th>  <th>[0.025</th>    <th>0.975]</th>  \n",
       "</tr>\n",
       "<tr>\n",
       "  <th>const</th>   <td>  146.7925</td> <td>   29.873</td> <td>    4.914</td> <td> 0.000</td> <td>   88.241</td> <td>  205.343</td>\n",
       "</tr>\n",
       "<tr>\n",
       "  <th>ar.L1.y</th> <td>    0.9254</td> <td>    0.042</td> <td>   22.129</td> <td> 0.000</td> <td>    0.843</td> <td>    1.007</td>\n",
       "</tr>\n",
       "<tr>\n",
       "  <th>ar.L2.y</th> <td>    0.0486</td> <td>    0.057</td> <td>    0.854</td> <td> 0.393</td> <td>   -0.063</td> <td>    0.160</td>\n",
       "</tr>\n",
       "<tr>\n",
       "  <th>ar.L3.y</th> <td>    0.1044</td> <td>    0.057</td> <td>    1.827</td> <td> 0.068</td> <td>   -0.008</td> <td>    0.216</td>\n",
       "</tr>\n",
       "<tr>\n",
       "  <th>ar.L4.y</th> <td>   -0.0803</td> <td>    0.042</td> <td>   -1.907</td> <td> 0.057</td> <td>   -0.163</td> <td>    0.002</td>\n",
       "</tr>\n",
       "</table>\n",
       "<table class=\"simpletable\">\n",
       "<caption>Roots</caption>\n",
       "<tr>\n",
       "    <td></td>   <th>            Real</th>  <th>         Imaginary</th> <th>         Modulus</th>  <th>        Frequency</th>\n",
       "</tr>\n",
       "<tr>\n",
       "  <th>AR.1</th> <td>           1.0017</td> <td>          -0.0000j</td> <td>           1.0017</td> <td>          -0.0000</td>\n",
       "</tr>\n",
       "<tr>\n",
       "  <th>AR.2</th> <td>          -1.1287</td> <td>          -1.8951j</td> <td>           2.2057</td> <td>          -0.3355</td>\n",
       "</tr>\n",
       "<tr>\n",
       "  <th>AR.3</th> <td>          -1.1287</td> <td>          +1.8951j</td> <td>           2.2057</td> <td>           0.3355</td>\n",
       "</tr>\n",
       "<tr>\n",
       "  <th>AR.4</th> <td>           2.5564</td> <td>          -0.0000j</td> <td>           2.5564</td> <td>          -0.0000</td>\n",
       "</tr>\n",
       "</table>"
      ],
      "text/plain": [
       "<class 'statsmodels.iolib.summary.Summary'>\n",
       "\"\"\"\n",
       "                              ARMA Model Results                              \n",
       "==============================================================================\n",
       "Dep. Variable:                      y   No. Observations:                  568\n",
       "Model:                     ARMA(4, 0)   Log Likelihood               -1216.748\n",
       "Method:                       css-mle   S.D. of innovations              2.051\n",
       "Date:                Wed, 29 May 2019   AIC                           2445.496\n",
       "Time:                        07:38:56   BIC                           2471.548\n",
       "Sample:                             0   HQIC                          2455.662\n",
       "                                                                              \n",
       "==============================================================================\n",
       "                 coef    std err          z      P>|z|      [0.025      0.975]\n",
       "------------------------------------------------------------------------------\n",
       "const        146.7925     29.873      4.914      0.000      88.241     205.343\n",
       "ar.L1.y        0.9254      0.042     22.129      0.000       0.843       1.007\n",
       "ar.L2.y        0.0486      0.057      0.854      0.393      -0.063       0.160\n",
       "ar.L3.y        0.1044      0.057      1.827      0.068      -0.008       0.216\n",
       "ar.L4.y       -0.0803      0.042     -1.907      0.057      -0.163       0.002\n",
       "                                    Roots                                    \n",
       "=============================================================================\n",
       "                  Real          Imaginary           Modulus         Frequency\n",
       "-----------------------------------------------------------------------------\n",
       "AR.1            1.0017           -0.0000j            1.0017           -0.0000\n",
       "AR.2           -1.1287           -1.8951j            2.2057           -0.3355\n",
       "AR.3           -1.1287           +1.8951j            2.2057            0.3355\n",
       "AR.4            2.5564           -0.0000j            2.5564           -0.0000\n",
       "-----------------------------------------------------------------------------\n",
       "\"\"\""
      ]
     },
     "execution_count": 64,
     "metadata": {},
     "output_type": "execute_result"
    }
   ],
   "source": [
    "auto_arima(data1['IPG211111CN'],seasonal=False,stationary=True).summary()"
   ]
  },
  {
   "cell_type": "code",
   "execution_count": 66,
   "metadata": {},
   "outputs": [
    {
     "name": "stdout",
     "output_type": "stream",
     "text": [
      "Fit ARIMA: order=(0, 2, 0); AIC=2862.724, BIC=2871.402, Fit time=0.004 seconds\n",
      "Fit ARIMA: order=(1, 2, 0); AIC=2683.599, BIC=2696.615, Fit time=0.036 seconds\n",
      "Fit ARIMA: order=(0, 2, 1); AIC=2424.390, BIC=2437.405, Fit time=0.150 seconds\n",
      "Fit ARIMA: order=(1, 2, 1); AIC=nan, BIC=nan, Fit time=nan seconds\n",
      "Fit ARIMA: order=(0, 2, 2); AIC=nan, BIC=nan, Fit time=nan seconds\n",
      "Fit ARIMA: order=(1, 2, 2); AIC=nan, BIC=nan, Fit time=nan seconds\n",
      "Total fit time: 0.299 seconds\n"
     ]
    },
    {
     "data": {
      "text/html": [
       "<table class=\"simpletable\">\n",
       "<caption>ARIMA Model Results</caption>\n",
       "<tr>\n",
       "  <th>Dep. Variable:</th>       <td>D2.y</td>       <th>  No. Observations:  </th>    <td>566</td>   \n",
       "</tr>\n",
       "<tr>\n",
       "  <th>Model:</th>          <td>ARIMA(0, 2, 1)</td>  <th>  Log Likelihood     </th> <td>-1209.195</td>\n",
       "</tr>\n",
       "<tr>\n",
       "  <th>Method:</th>             <td>css-mle</td>     <th>  S.D. of innovations</th>   <td>2.043</td>  \n",
       "</tr>\n",
       "<tr>\n",
       "  <th>Date:</th>          <td>Wed, 29 May 2019</td> <th>  AIC                </th> <td>2424.390</td> \n",
       "</tr>\n",
       "<tr>\n",
       "  <th>Time:</th>              <td>07:39:27</td>     <th>  BIC                </th> <td>2437.405</td> \n",
       "</tr>\n",
       "<tr>\n",
       "  <th>Sample:</th>                <td>2</td>        <th>  HQIC               </th> <td>2429.470</td> \n",
       "</tr>\n",
       "<tr>\n",
       "  <th></th>                       <td> </td>        <th>                     </th>     <td> </td>    \n",
       "</tr>\n",
       "</table>\n",
       "<table class=\"simpletable\">\n",
       "<tr>\n",
       "       <td></td>         <th>coef</th>     <th>std err</th>      <th>z</th>      <th>P>|z|</th>  <th>[0.025</th>    <th>0.975]</th>  \n",
       "</tr>\n",
       "<tr>\n",
       "  <th>const</th>      <td>    0.0022</td> <td>    0.002</td> <td>    1.370</td> <td> 0.171</td> <td>   -0.001</td> <td>    0.005</td>\n",
       "</tr>\n",
       "<tr>\n",
       "  <th>ma.L1.D2.y</th> <td>   -0.9836</td> <td>    0.008</td> <td> -125.999</td> <td> 0.000</td> <td>   -0.999</td> <td>   -0.968</td>\n",
       "</tr>\n",
       "</table>\n",
       "<table class=\"simpletable\">\n",
       "<caption>Roots</caption>\n",
       "<tr>\n",
       "    <td></td>   <th>            Real</th>  <th>         Imaginary</th> <th>         Modulus</th>  <th>        Frequency</th>\n",
       "</tr>\n",
       "<tr>\n",
       "  <th>MA.1</th> <td>           1.0167</td> <td>          +0.0000j</td> <td>           1.0167</td> <td>           0.0000</td>\n",
       "</tr>\n",
       "</table>"
      ],
      "text/plain": [
       "<class 'statsmodels.iolib.summary.Summary'>\n",
       "\"\"\"\n",
       "                             ARIMA Model Results                              \n",
       "==============================================================================\n",
       "Dep. Variable:                   D2.y   No. Observations:                  566\n",
       "Model:                 ARIMA(0, 2, 1)   Log Likelihood               -1209.195\n",
       "Method:                       css-mle   S.D. of innovations              2.043\n",
       "Date:                Wed, 29 May 2019   AIC                           2424.390\n",
       "Time:                        07:39:27   BIC                           2437.405\n",
       "Sample:                             2   HQIC                          2429.470\n",
       "                                                                              \n",
       "==============================================================================\n",
       "                 coef    std err          z      P>|z|      [0.025      0.975]\n",
       "------------------------------------------------------------------------------\n",
       "const          0.0022      0.002      1.370      0.171      -0.001       0.005\n",
       "ma.L1.D2.y    -0.9836      0.008   -125.999      0.000      -0.999      -0.968\n",
       "                                    Roots                                    \n",
       "=============================================================================\n",
       "                  Real          Imaginary           Modulus         Frequency\n",
       "-----------------------------------------------------------------------------\n",
       "MA.1            1.0167           +0.0000j            1.0167            0.0000\n",
       "-----------------------------------------------------------------------------\n",
       "\"\"\""
      ]
     },
     "execution_count": 66,
     "metadata": {},
     "output_type": "execute_result"
    }
   ],
   "source": [
    "stepwise_result=auto_arima(data1['IPG211111CN'],start_p=0,start_q=0,max_p=4,max_q=4,m=12,seasonal=False,d=None,trace=True,error_action='ignore'\n",
    "                          ,suppress_warnings=True,stepwise=True)\n",
    "stepwise_result.summary()"
   ]
  },
  {
   "cell_type": "code",
   "execution_count": 30,
   "metadata": {},
   "outputs": [
    {
     "data": {
      "image/png": "[encoded data removed]",
      "text/plain": [
       "<Figure size 432x288 with 1 Axes>"
      ]
     },
     "metadata": {
      "needs_background": "light"
     },
     "output_type": "display_data"
    }
   ],
   "source": [
    "plot_acf(data1['IPG211111CN'],title='Autocorrelation',lags=40);"
   ]
  },
  {
   "cell_type": "code",
   "execution_count": 31,
   "metadata": {},
   "outputs": [
    {
     "data": {
      "image/png": "[encoded data removed]",
      "text/plain": [
       "<Figure size 432x288 with 1 Axes>"
      ]
     },
     "metadata": {
      "needs_background": "light"
     },
     "output_type": "display_data"
    }
   ],
   "source": [
    "plot_pacf(data1['IPG211111CN'],title='Autocorrelation',lags=40);"
   ]
  },
  {
   "cell_type": "code",
   "execution_count": 32,
   "metadata": {},
   "outputs": [
    {
     "data": {
      "text/plain": [
       "568"
      ]
     },
     "execution_count": 32,
     "metadata": {},
     "output_type": "execute_result"
    }
   ],
   "source": [
    "len(data1)"
   ]
  },
  {
   "cell_type": "code",
   "execution_count": 34,
   "metadata": {},
   "outputs": [],
   "source": [
    "train=data1.iloc[:556]\n",
    "test=data1.iloc[556:]"
   ]
  },
  {
   "cell_type": "code",
   "execution_count": 85,
   "metadata": {},
   "outputs": [
    {
     "data": {
      "text/html": [
       "<table class=\"simpletable\">\n",
       "<caption>ARIMA Model Results</caption>\n",
       "<tr>\n",
       "  <th>Dep. Variable:</th>  <td>D2.IPG211111CN</td>  <th>  No. Observations:  </th>    <td>554</td>   \n",
       "</tr>\n",
       "<tr>\n",
       "  <th>Model:</th>          <td>ARIMA(2, 2, 1)</td>  <th>  Log Likelihood     </th> <td>-1171.045</td>\n",
       "</tr>\n",
       "<tr>\n",
       "  <th>Method:</th>             <td>css-mle</td>     <th>  S.D. of innovations</th>   <td>1.997</td>  \n",
       "</tr>\n",
       "<tr>\n",
       "  <th>Date:</th>          <td>Wed, 29 May 2019</td> <th>  AIC                </th> <td>2352.089</td> \n",
       "</tr>\n",
       "<tr>\n",
       "  <th>Time:</th>              <td>07:42:48</td>     <th>  BIC                </th> <td>2373.675</td> \n",
       "</tr>\n",
       "<tr>\n",
       "  <th>Sample:</th>           <td>03-01-1972</td>    <th>  HQIC               </th> <td>2360.522</td> \n",
       "</tr>\n",
       "<tr>\n",
       "  <th></th>                 <td>- 04-01-2018</td>   <th>                     </th>     <td> </td>    \n",
       "</tr>\n",
       "</table>\n",
       "<table class=\"simpletable\">\n",
       "<tr>\n",
       "            <td></td>              <th>coef</th>     <th>std err</th>      <th>z</th>      <th>P>|z|</th>  <th>[0.025</th>    <th>0.975]</th>  \n",
       "</tr>\n",
       "<tr>\n",
       "  <th>const</th>                <td>    0.0019</td> <td>    0.002</td> <td>    1.153</td> <td> 0.250</td> <td>   -0.001</td> <td>    0.005</td>\n",
       "</tr>\n",
       "<tr>\n",
       "  <th>ar.L1.D2.IPG211111CN</th> <td>   -0.1524</td> <td>    0.043</td> <td>   -3.514</td> <td> 0.000</td> <td>   -0.237</td> <td>   -0.067</td>\n",
       "</tr>\n",
       "<tr>\n",
       "  <th>ar.L2.D2.IPG211111CN</th> <td>   -0.0931</td> <td>    0.043</td> <td>   -2.145</td> <td> 0.032</td> <td>   -0.178</td> <td>   -0.008</td>\n",
       "</tr>\n",
       "<tr>\n",
       "  <th>ma.L1.D2.IPG211111CN</th> <td>   -0.9784</td> <td>    0.010</td> <td>  -93.928</td> <td> 0.000</td> <td>   -0.999</td> <td>   -0.958</td>\n",
       "</tr>\n",
       "</table>\n",
       "<table class=\"simpletable\">\n",
       "<caption>Roots</caption>\n",
       "<tr>\n",
       "    <td></td>   <th>            Real</th>  <th>         Imaginary</th> <th>         Modulus</th>  <th>        Frequency</th>\n",
       "</tr>\n",
       "<tr>\n",
       "  <th>AR.1</th> <td>          -0.8187</td> <td>          -3.1743j</td> <td>           3.2781</td> <td>          -0.2902</td>\n",
       "</tr>\n",
       "<tr>\n",
       "  <th>AR.2</th> <td>          -0.8187</td> <td>          +3.1743j</td> <td>           3.2781</td> <td>           0.2902</td>\n",
       "</tr>\n",
       "<tr>\n",
       "  <th>MA.1</th> <td>           1.0221</td> <td>          +0.0000j</td> <td>           1.0221</td> <td>           0.0000</td>\n",
       "</tr>\n",
       "</table>"
      ],
      "text/plain": [
       "<class 'statsmodels.iolib.summary.Summary'>\n",
       "\"\"\"\n",
       "                             ARIMA Model Results                              \n",
       "==============================================================================\n",
       "Dep. Variable:         D2.IPG211111CN   No. Observations:                  554\n",
       "Model:                 ARIMA(2, 2, 1)   Log Likelihood               -1171.045\n",
       "Method:                       css-mle   S.D. of innovations              1.997\n",
       "Date:                Wed, 29 May 2019   AIC                           2352.089\n",
       "Time:                        07:42:48   BIC                           2373.675\n",
       "Sample:                    03-01-1972   HQIC                          2360.522\n",
       "                         - 04-01-2018                                         \n",
       "========================================================================================\n",
       "                           coef    std err          z      P>|z|      [0.025      0.975]\n",
       "----------------------------------------------------------------------------------------\n",
       "const                    0.0019      0.002      1.153      0.250      -0.001       0.005\n",
       "ar.L1.D2.IPG211111CN    -0.1524      0.043     -3.514      0.000      -0.237      -0.067\n",
       "ar.L2.D2.IPG211111CN    -0.0931      0.043     -2.145      0.032      -0.178      -0.008\n",
       "ma.L1.D2.IPG211111CN    -0.9784      0.010    -93.928      0.000      -0.999      -0.958\n",
       "                                    Roots                                    \n",
       "=============================================================================\n",
       "                  Real          Imaginary           Modulus         Frequency\n",
       "-----------------------------------------------------------------------------\n",
       "AR.1           -0.8187           -3.1743j            3.2781           -0.2902\n",
       "AR.2           -0.8187           +3.1743j            3.2781            0.2902\n",
       "MA.1            1.0221           +0.0000j            1.0221            0.0000\n",
       "-----------------------------------------------------------------------------\n",
       "\"\"\""
      ]
     },
     "execution_count": 85,
     "metadata": {},
     "output_type": "execute_result"
    }
   ],
   "source": [
    "model=ARIMA(train['IPG211111CN'],order=(2,2,1))\n",
    "resultd=model.fit()\n",
    "resultd.summary()\n"
   ]
  },
  {
   "cell_type": "code",
   "execution_count": 86,
   "metadata": {},
   "outputs": [
    {
     "data": {
      "text/plain": [
       "2018-05-01    161.924374\n",
       "2018-06-01    162.842348\n",
       "2018-07-01    163.684086\n",
       "2018-08-01    164.519881\n",
       "2018-09-01    165.365994\n",
       "2018-10-01    166.213404\n",
       "2018-11-01    167.061974\n",
       "2018-12-01    167.912564\n",
       "2019-01-01    168.765055\n",
       "2019-02-01    169.619386\n",
       "2019-03-01    170.475576\n",
       "2019-04-01    171.333630\n",
       "Freq: MS, dtype: float64"
      ]
     },
     "execution_count": 86,
     "metadata": {},
     "output_type": "execute_result"
    }
   ],
   "source": [
    "start=len(train)\n",
    "end=len(train)+len(test)-1\n",
    "prediction = resultd.predict(start=start,end=end,dynamic=False,typ='levels')\n",
    "prediction"
   ]
  },
  {
   "cell_type": "code",
   "execution_count": 87,
   "metadata": {},
   "outputs": [
    {
     "data": {
      "text/plain": [
       "11.312468063752341"
      ]
     },
     "execution_count": 87,
     "metadata": {},
     "output_type": "execute_result"
    }
   ],
   "source": [
    "error=rmse(test['IPG211111CN'],prediction)\n",
    "error"
   ]
  },
  {
   "cell_type": "code",
   "execution_count": 88,
   "metadata": {},
   "outputs": [
    {
     "data": {
      "text/plain": [
       "<matplotlib.axes._subplots.AxesSubplot at 0x9b3ed34a20>"
      ]
     },
     "execution_count": 88,
     "metadata": {},
     "output_type": "execute_result"
    },
    {
     "data": {
      "image/png": "[encoded data removed]",
      "text/plain": [
       "<Figure size 864x360 with 1 Axes>"
      ]
     },
     "metadata": {
      "needs_background": "light"
     },
     "output_type": "display_data"
    }
   ],
   "source": [
    "test['IPG211111CN'].plot(figsize=(12,5),label='actual data')\n",
    "prediction.plot(figsize=(12,5),label='actual data')"
   ]
  },
  {
   "cell_type": "code",
   "execution_count": 89,
   "metadata": {},
   "outputs": [],
   "source": [
    "model=ARIMA(data1['IPG211111CN'],order=(2,2,1))\n",
    "resultd=model.fit()"
   ]
  },
  {
   "cell_type": "code",
   "execution_count": 90,
   "metadata": {},
   "outputs": [
    {
     "data": {
      "text/plain": [
       "<matplotlib.axes._subplots.AxesSubplot at 0x9b3ecdfda0>"
      ]
     },
     "execution_count": 90,
     "metadata": {},
     "output_type": "execute_result"
    },
    {
     "data": {
      "image/png": "[encoded data removed]",
      "text/plain": [
       "<Figure size 864x360 with 1 Axes>"
      ]
     },
     "metadata": {
      "needs_background": "light"
     },
     "output_type": "display_data"
    }
   ],
   "source": [
    "ax=data1['IPG211111CN'].plot(figsize=(12,5),label='actual data')\n",
    "prediction1.plot()"
   ]
  },
  {
   "cell_type": "code",
   "execution_count": null,
   "metadata": {},
   "outputs": [],
   "source": []
  },
  {
   "cell_type": "code",
   "execution_count": null,
   "metadata": {},
   "outputs": [],
   "source": []
  }
 ],
 "metadata": {
  "kernelspec": {
   "display_name": "Python 3",
   "language": "python",
   "name": "python3"
  },
  "language_info": {
   "codemirror_mode": {
    "name": "ipython",
    "version": 3
   },
   "file_extension": ".py",
   "mimetype": "text/x-python",
   "name": "python",
   "nbconvert_exporter": "python",
   "pygments_lexer": "ipython3",
   "version": "3.6.7"
  }
 },
 "nbformat": 4,
 "nbformat_minor": 2
}
